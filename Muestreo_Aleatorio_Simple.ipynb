{
  "nbformat": 4,
  "nbformat_minor": 0,
  "metadata": {
    "colab": {
      "name": "Muestreo_Aleatorio_Simple.ipynb",
      "provenance": [],
      "collapsed_sections": [],
      "authorship_tag": "ABX9TyP4Q6XJCyyzBga0vGmaeIUf",
      "include_colab_link": true
    },
    "kernelspec": {
      "name": "python3",
      "display_name": "Python 3"
    }
  },
  "cells": [
    {
      "cell_type": "markdown",
      "metadata": {
        "id": "view-in-github",
        "colab_type": "text"
      },
      "source": [
        "<a href=\"https://colab.research.google.com/github/DechiWords/Mathematic_and_Statistics/blob/main/Muestreo_Aleatorio_Simple.ipynb\" target=\"_parent\"><img src=\"https://colab.research.google.com/assets/colab-badge.svg\" alt=\"Open In Colab\"/></a>"
      ]
    },
    {
      "cell_type": "markdown",
      "metadata": {
        "id": "5Fs3ddiVUZK0"
      },
      "source": [
        "#Muestreo Aleatorio Simple «M.A.S»"
      ]
    },
    {
      "cell_type": "markdown",
      "metadata": {
        "id": "qu9tCvFhUYsQ"
      },
      "source": [
        "##Definición"
      ]
    },
    {
      "cell_type": "markdown",
      "metadata": {
        "id": "7STEW4WBTDFt"
      },
      "source": [
        "El **muestreo aleatorio simple**, «M.A.S», o muestreo irrestricto es la forma más sencilla de muestreo probabilístico y proporciona la base teórica para forma de muestreo más complejas.\n",
        "\n",
        "\n"
      ]
    },
    {
      "cell_type": "markdown",
      "metadata": {
        "id": "giC12KffUTHI"
      },
      "source": [
        "## Maneras de llevar a cabo el «M.A.S»"
      ]
    },
    {
      "cell_type": "markdown",
      "metadata": {
        "id": "ppHb1H_vUrvm"
      },
      "source": [
        "Existen dos manera de llevar a cabo «M.A.S».\n",
        "\n",
        "* Con reemplazo : Podemos seleccionar varias veces la misma unidad de muestreo\n",
        "\n",
        "* Sin reemplazo : Solo podemos seleccionar una vez cada unidad de muestreo\n",
        "\n",
        "Un «M.A.S» ***con reemplazo*** tiene la característica de que ***las probabilidades de selección se mantienen constantes*** durante todo el tiempo. Además ***sus variables son independientes***.\n",
        "\n",
        "Un «M.A.S» ***sin reemplazo*** tiene la característica de que ***las probabilidades de selección van variando con el tiempo***. Además ***sus variables son dependientes***."
      ]
    },
    {
      "cell_type": "markdown",
      "metadata": {
        "id": "Y47xdIFWUuuT"
      },
      "source": [
        "## Estimador de una media poblacional $\\mu $ a partir de una «M.A.S»"
      ]
    },
    {
      "cell_type": "markdown",
      "metadata": {
        "id": "WX-aiJlLU3sq"
      },
      "source": [
        "Sean $y_1,\\ldots ,y_n \\thicksim D \\left(\\mu , \\sigma^2 \\right)$. \n",
        "\n",
        "Donde $N$ es el tamaño total de la población y $n$ el tamaño de la muestra.\n",
        "\n",
        "Considere\n",
        "\n",
        "$$\\hat{\\mu} = \\bar{y} = \\frac{\\sum_{i=1}^ny_i}{n}$$\n",
        "\n",
        "Se tiene que\n",
        "\n",
        "$$E\\left[\\hat{\\mu}\\right] = \\mu$$\n",
        "\n",
        "|Nombre                                       |Sí $\\sigma^2$ es conocida|Sí $\\sigma^2$ es desconocido|\n",
        "|:--------------------------------------------|--|--:|\n",
        "|Factor de corrección para poblaciones finitas|$$V\\left(\\hat{\\mu}\\right) = \\sigma^2 \\cdot \\frac{N-n}{n\\cdot \\left(N-1\\right)}$$|$$\\hat{V}\\left(\\hat{\\mu}\\right)=S^2\\cdot \\frac{N-n}{n\\cdot N}$$|\n",
        "|Cota de error de estimación                  |$$B = 2\\sqrt{V\\left(\\hat{\\mu} \\right)}$$|$$\\hat{B} = 2\\sqrt{\\hat{V}\\left(\\hat{\\mu} \\right)}$$|\n",
        "|Límite inferior del error de estimación      |$$\\hat{\\mu}-B $$|$$\\hat{\\mu}-\\hat{B}$$|\n",
        "|Límite superior del error de estimación      |$$\\hat{\\mu}+B$$|$$\\hat{\\mu}+\\hat{B}$$|\n",
        "|Error de muestra (%)                            |$$M.E = \\frac{B}{\\hat{\\mu}}\\cdot 100$$|$$M.E = \\frac{\\hat{B}}{\\hat{\\mu}}\\cdot 100$$|"
      ]
    },
    {
      "cell_type": "markdown",
      "metadata": {
        "id": "BPVKRy0-blpE"
      },
      "source": [
        "## Estimar un total poblacional $t$ a partir de una «M.A.S»"
      ]
    },
    {
      "cell_type": "markdown",
      "metadata": {
        "id": "ZvESF_DybuXC"
      },
      "source": [
        "Considere $t = \\sum_i y_i, y_i\\in P$\n",
        "\n",
        "Podemos reescribir a $t$ como\n",
        "\n",
        "$$t = N\\mu, \\text{ donde $N$ es el tamaño total de la población},\\text{donde $n$ es el tamaño muestral}$$\n",
        "\n",
        "Considere el estimador\n",
        "\n",
        "$$\\hat{t} = N\\hat{\\mu} = N\\bar{y}$$\n",
        "\n",
        "Donde\n",
        "\n",
        "$$\\bar{y} = \\frac{\\sum_{i=1}^ny_i}{n}$$\n",
        "\n",
        "Se tiene que\n",
        "\n",
        "$$E\\left[\\hat{t} \\right] = t = N\\mu$$\n",
        "\n",
        "|Nombre|Sí $\\sigma^2$ es conocida|Sí $\\sigma^2$ es desconocida|\n",
        "|:-----|--|--:|\n",
        "|Varianza|$$V\\left(\\hat{t}\\right) = \\sigma^2 \\cdot \\left(\\frac{N^2}{n} \\right)\\cdot \\left(\\frac{N-n}{N-1} \\right)$$|$$\\hat{V}\\left(\\hat{t} \\right) = S^2\\cdot \\left(\\frac{N(N-n)}{n} \\right)$$|\n",
        "|Cota de error de estimación|$$B = 2N\\sigma \\cdot \\sqrt{\\frac{N-n}{n\\cdot \\left(N-1\\right)}}$$|$$\\hat{B} = 2S\\cdot \\sqrt{\\frac{N(N-n)}{n}}$$|\n",
        "|Límite inferior del error de estimación|$$\\hat{t}-B$$|$$\\hat{t}-\\hat{B}$$|\n",
        "|Límite superior del error de estimación|$$\\hat{t}+B$$|$$\\hat{t}-\\hat{B}$$|\n",
        "|Error de muestra (%)|$$M.E = \\frac{B}{\\hat{t}}\\cdot 100$$|$$M.E = \\frac{\\hat{B}}{\\hat{t}}\\cdot 100$$|"
      ]
    },
    {
      "cell_type": "markdown",
      "metadata": {
        "id": "5GvVNFUA3w-d"
      },
      "source": [
        "## Estimar una proporción poblacional $p$ mediante una «M.A.S»"
      ]
    },
    {
      "cell_type": "markdown",
      "metadata": {
        "id": "HUt6W0NY36gR"
      },
      "source": [
        "Considere $y_i\\in P$ tal que\n",
        "\n",
        "$$y_i\\thicksim B\\left(nP,nP(1-P)\\right)$$\n",
        "\n",
        "Propongamos como estimador de $p$ a $\\hat{p}$.\n",
        "\n",
        "$$\\hat{p} = \\bar{y} = \\frac{\\sum_{i=1}^ny_i}{n}=\\frac{x}{n},\\hat{p}:\\text{ proporción muestral},x : \\text{ número de éxitos en toda la muestra}$$\n",
        "\n",
        "Donde $y_i\\in \\{0,1\\}$ con $1$ siendo «éxito» y $0$ como «fracaso».\n",
        "\n",
        "Tenemos que\n",
        "\n",
        "$$E\\left[\\hat{p} \\right] = p,p : \\text{ proporción poblacional}$$\n",
        "\n",
        "|Nombre|Sí $\\sigma^2$ es conocida|Sí $\\sigma^2$ es desconocida|\n",
        "|:--|--|--:|\n",
        "|Varianza|$$V\\left(\\hat{p}\\right) = \\frac{pq}{n}\\cdot \\frac{N-n}{N-1},q = 1-p$$|$$\\hat{V}\\left(\\hat{p} \\right)=\\frac{\\hat{p}\\hat{q}}{n-1}\\cdot \\frac{N-n}{N},\\hat{q}=1-\\hat{p}$$|\n",
        "|Cota de error de estimación|$$B = 2\\sqrt{V\\left(\\hat{p}\\right)}$$|$$\\hat{B} = 2\\sqrt{\\hat{V}\\left(\\hat{p} \\right)}$$|\n",
        "|Límite inferior del error de estimación|$$\\hat{p}-B$$|$$\\hat{p}-\\hat{B}$$|\n",
        "|Límite superior del error de estimación|$$\\hat{p}+B$$|$$\\hat{p}-\\hat{B}$$|\n",
        "|Error de muestra (%)|$$M.E = \\frac{B}{\\hat{p}}\\cdot 100$$|$$M.E = \\frac{\\hat{B}}{\\hat{p}}\\cdot 100$$|"
      ]
    },
    {
      "cell_type": "code",
      "metadata": {
        "id": "wznABNFdfjbp"
      },
      "source": [
        "#IMPORTAMOS LA VARIANZA MUESTRAL\n",
        "\n",
        "from statistics import variance as V_M\n",
        "\n",
        "#FUNCIONES PARA ESTIMAR LA MEDIA POBLACIONAL\n",
        "\n",
        "def MP_Varianza_Poblacional_Conocida_Datos_Conocidos (Estimador, Varianza_Poblacional, N, n):\n",
        "  from math import sqrt\n",
        "  V = (Varianza_Poblacional/n)*((N-n)/(N-1))\n",
        "  B = 2*(sqrt(V))\n",
        "  INF = Estimador - B\n",
        "  SUP = Estimador + B\n",
        "  Limites = [int(INF),int(SUP)+1]\n",
        "  ME = (B/Estimador)*100\n",
        "  return [V,B,Limites,ME]\n",
        "\n",
        "def MP_Varianza_Poblacional_Desconocida_Datos_Conocidos (Estimador, Varianza_Muestral, N, n):\n",
        "  from math import sqrt\n",
        "  V = (Varianza_Muestral/n)*((N-n)/N)\n",
        "  B = 2*(sqrt(V))\n",
        "  INF = Estimador - B\n",
        "  SUP = Estimador + B\n",
        "  Limites = [int(INF),int(SUP)+1]\n",
        "  ME = (B/Estimador)*100\n",
        "  return [V,B,Limites,ME]\n",
        "\n",
        "def MP_Varianza_Poblacional_Conocida_Datos_Desconocidos (Lista_x, Varianza_Poblacional, N, n):\n",
        "  from statistics import mean\n",
        "  Estimador = mean(Lista_x)\n",
        "  from math import sqrt\n",
        "  V = (Varianza_Poblacional/n)*((N-n)/(N-1))\n",
        "  B = 2*(sqrt(V))\n",
        "  INF = Estimador - B\n",
        "  SUP = Estimador + B\n",
        "  Limites = [int(INF),int(SUP)+1]\n",
        "  ME = (B/Estimador)*100\n",
        "  return [Estimador,V,B,Limites,ME]\n",
        "\n",
        "def MP_Varianza_Poblacional_Desconocida_Datos_Desconocidos (Lista_x, N, n):\n",
        "  from statistics import mean\n",
        "  Estimador = mean(Lista_x)\n",
        "  Varianza_Muestral = V_M(Lista_x)\n",
        "  from math import sqrt\n",
        "  V = (Varianza_Muestral/n)*((N-n)/N)\n",
        "  B = 2*(sqrt(V))\n",
        "  INF = Estimador - B\n",
        "  SUP = Estimador + B\n",
        "  Limites = [int(INF),int(SUP)+1]\n",
        "  ME = (B/Estimador)*100\n",
        "  return [Estimador,V,B,Limites,ME]\n",
        "\n",
        "#FUNCIONES PARA EL TOTAL POBLACIONAL\n",
        "\n",
        "def TP_Varianza_Poblacional_Conocida_Datos_Conocidos (Estimador, Varianza_Poblacional, N, n):\n",
        "  from math import sqrt\n",
        "  V = Varianza_Poblacional*((N**2)/n)*((N-n)/(N-1))\n",
        "  B = 2*sqrt(V)\n",
        "  INF = Estimador - B\n",
        "  SUP = Estimador + B\n",
        "  Limites = [int(INF),int(SUP)+1]\n",
        "  ME = (B/Estimador)*100\n",
        "  return [V,B,Limites,ME]\n",
        "\n",
        "def TP_Varianza_Poblacional_Desconocida_Datos_Conocidos (Estimador, Varianza_Muestral, N, n):\n",
        "  from math import sqrt\n",
        "  V = Varianza_Muestral * ( (N*(N-n))/n )\n",
        "  B = 2*sqrt(V)\n",
        "  INF = Estimador - B\n",
        "  SUP = Estimador + B\n",
        "  Limites = [int(INF),int(SUP)+1]\n",
        "  ME = (B/Estimador)*100\n",
        "  return [V,B,Limites,ME]\n",
        "\n",
        "def TP_Varianza_Poblacional_Conocida_Datos_Desconocidos (Lista_x,Varianza_Poblacional, N,n):\n",
        "  from statistics import mean\n",
        "  Estimador = N*mean(Lista_x)\n",
        "  from math import sqrt\n",
        "  V = Varianza_Poblacional*((N**2)/n)*((N-n)/(N-1))\n",
        "  B = 2*sqrt(V)\n",
        "  INF = Estimador - B\n",
        "  SUP = Estimador + B\n",
        "  Limites = [int(INF),int(SUP)+1]\n",
        "  ME = (B/Estimador)*100\n",
        "  return [Estimador,V,B,Limites,ME]\n",
        "\n",
        "def TP_Varianza_Poblacional_Desconocida_Datos_Desconocidos (Lista_x, N, n):\n",
        "  from statistics import mean\n",
        "  Estimador = N*mean(Lista_x)\n",
        "  Varianza_Muestral = V_M(Lista_x)\n",
        "  from math import sqrt\n",
        "  V = Varianza_Muestral * ( (N*(N-n))/n )\n",
        "  B = 2*sqrt(V)\n",
        "  INF = Estimador - B\n",
        "  SUP = Estimador + B\n",
        "  Limites = [int(INF),int(SUP)+1]\n",
        "  ME = (B/Estimador)*100\n",
        "  return [Estimador,V,B,Limites,ME]\n",
        "\n",
        "#FUNCIONES PARA PROPORCION POBLACIONAL\n",
        "\n",
        "def PP_Varianza_Poblacional_Conocida_Datos_Conocidos (Estimador, P, N, n):\n",
        "  from math import sqrt\n",
        "  Q = 1 - P\n",
        "  V = ((P*Q)/n)*((N-n)/(N-1))\n",
        "  B = 2*sqrt(V)\n",
        "  INF = Estimador - B\n",
        "  SUP = Estimador + B\n",
        "  Limites = [INF,SUP]\n",
        "  ME = (B/Estimador)*100\n",
        "  return [V,B,Limites,ME]\n",
        "\n",
        "def PP_Varianza_Poblacional_Desconocida_Datos_Conocidos (Estimador, N, n):\n",
        "  from math import sqrt\n",
        "  P = Estimador\n",
        "  Q = 1 - P\n",
        "  V = ((P*Q)/(n-1))*((N-n)/N)\n",
        "  B = 2*sqrt(V)\n",
        "  INF = P - B\n",
        "  SUP = P + B\n",
        "  Limites = [INF,SUP]\n",
        "  ME = (B/P)*100\n",
        "  return [V,B,Limites,ME]"
      ],
      "execution_count": null,
      "outputs": []
    },
    {
      "cell_type": "markdown",
      "metadata": {
        "id": "GO9LO-GZ1S8e"
      },
      "source": [
        "##Calcular el tamaño de una muestra $n$"
      ]
    },
    {
      "cell_type": "markdown",
      "metadata": {
        "id": "98wRyvNK0jUD"
      },
      "source": [
        "### Para una media poblacional $\\mu$"
      ]
    },
    {
      "cell_type": "markdown",
      "metadata": {
        "id": "d8Mg4gCG0p5Y"
      },
      "source": [
        "Sea $n$ el tamaño de la muestra.\n",
        "\n",
        "$$\\implies n = \\frac{N\\sigma^2}{(N-1)D+\\sigma^2}$$\n",
        "\n",
        "Donde $N$ es el tamaño de la población, $B$ la cota de error de estimación\n",
        "\n",
        "$$D = \\frac{B^2}{4}$$\n",
        "\n",
        "Sí $R$ es el rango entonces\n",
        "\n",
        "$$\\sigma = \\frac{R}{4}$$"
      ]
    },
    {
      "cell_type": "markdown",
      "metadata": {
        "id": "4YcRCfim1tf4"
      },
      "source": [
        "### Para un total poblacional $t$"
      ]
    },
    {
      "cell_type": "markdown",
      "metadata": {
        "id": "yFeUGhMu14o3"
      },
      "source": [
        "Sea $n$ el tamaño de la muestra.\n",
        "\n",
        "$$\\implies n = \\frac{N\\sigma^2}{(N-1)D+\\sigma^2}$$\n",
        "\n",
        "Donde $N$ es el tamaño de la población, $B$ la cota de error de estimación\n",
        "\n",
        "$$D = \\frac{B^2}{4N^2}$$\n",
        "\n",
        "Sí $R$ es el rango entonces\n",
        "\n",
        "$$\\sigma = \\frac{R}{4}$$"
      ]
    },
    {
      "cell_type": "markdown",
      "metadata": {
        "id": "T4FJDXQE3BWz"
      },
      "source": [
        "### Para una proporción poblacion $p$"
      ]
    },
    {
      "cell_type": "markdown",
      "metadata": {
        "id": "EyRoMBwu3Jup"
      },
      "source": [
        "Sea $n$ el tamaño de la muestra.\n",
        "\n",
        "$$\\implies n = \\frac{N\\sigma^2}{(N-1)D+\\sigma^2}$$\n",
        "\n",
        "Donde $N$ es el tamaño de la población, $B$ la cota de error de estimación\n",
        "\n",
        "$$D = \\frac{B^2}{4}$$\n",
        "\n",
        "Pero, además, tenemos que\n",
        "\n",
        "$$\\sigma^2 = p(1-p)$$"
      ]
    },
    {
      "cell_type": "code",
      "metadata": {
        "id": "K2CekmuR39hC"
      },
      "source": [
        "#FUNCIONES PARA CALCULAR LA CANTIDAD DE LA MUESTRA\n",
        "\n",
        "def n_MP (N,B,R):\n",
        "  if R == True:\n",
        "    r = float(input('Ingresa el rando de variacion : '))\n",
        "    Varianza = (r/4)**2\n",
        "  else:\n",
        "    Varianza = float(input('Ingresa el valor de la varianza :'))\n",
        "  Numerador = N*Varianza\n",
        "  D = (B**2)/4\n",
        "  Denominador = ((N-1)*D)+Varianza\n",
        "  return int(Numerador/Denominador)+1\n",
        "\n",
        "def n_TP (N,B,R):\n",
        "  if R == True:\n",
        "    r = float(input('Ingresa el rando de variacion : '))\n",
        "    Varianza = (r/4)**2\n",
        "  else:\n",
        "    Varianza = float(input('Ingresa el valor de la varianza :'))\n",
        "  Numerador = N*Varianza\n",
        "  D = (B**2)/(4*(N**2))\n",
        "  Denominador = ((N-1)*D)+Varianza\n",
        "  return int(Numerador/Denominador)+1\n",
        "\n",
        "def n_PP (P,N,B):\n",
        "  Varianza = P*(1-P)\n",
        "  Numerador = N*Varianza\n",
        "  D = (B**2)/4\n",
        "  Denominador = ((N-1)*D)+Varianza\n",
        "  return int(Numerador/Denominador)+1"
      ],
      "execution_count": null,
      "outputs": []
    }
  ]
}