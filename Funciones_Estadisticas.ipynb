{
  "nbformat": 4,
  "nbformat_minor": 0,
  "metadata": {
    "colab": {
      "name": "Funciones_Estadisticas.ipynb",
      "provenance": [],
      "collapsed_sections": [
        "Z8YvbDx2P0ML"
      ],
      "authorship_tag": "ABX9TyMlbtAby9AQc8G4JYCssMKO",
      "include_colab_link": true
    },
    "kernelspec": {
      "name": "python3",
      "display_name": "Python 3"
    },
    "language_info": {
      "name": "python"
    }
  },
  "cells": [
    {
      "cell_type": "markdown",
      "metadata": {
        "id": "view-in-github",
        "colab_type": "text"
      },
      "source": [
        "<a href=\"https://colab.research.google.com/github/DechiWords/Mathematic_and_Statistics/blob/main/Funciones_Estadisticas.ipynb\" target=\"_parent\"><img src=\"https://colab.research.google.com/assets/colab-badge.svg\" alt=\"Open In Colab\"/></a>"
      ]
    },
    {
      "cell_type": "markdown",
      "metadata": {
        "id": "Z8YvbDx2P0ML"
      },
      "source": [
        "#Información previa"
      ]
    },
    {
      "cell_type": "markdown",
      "metadata": {
        "id": "tVyePvaXJBcd"
      },
      "source": [
        "Las fórmulas son dadas en el siguiente libro.\n",
        "\n",
        "Miller, I. Miller, M. Freund, J. (2000). *Estadística matemática con aplicaciones* (6a. ed.). PEARSON EDUCACIÓN.\n",
        "\n",
        "[ESTADÍSTICA MATEMÁTICA CON APLICACIONES][1]\n",
        "\n",
        "[1]: https://books.google.com.pe/books?id=1ffwJNjZWxsC&printsec=copyright&hl=es#v=onepage&q&f=false"
      ]
    },
    {
      "cell_type": "markdown",
      "metadata": {
        "id": "5uELKhj6MTdA"
      },
      "source": [
        "En el siguiente link usted podrá visualizar las tablas estadísticas de referencia, estos valores, en particular de la distribución normal, $t$ de student, $\\chi^2$ y $F$ de Fisher, son de gran interés para la resolución de ciertas formulas.\n",
        "\n",
        "[TABLAS ESTADÍSTICAS][2]\n",
        "\n",
        "[2]: http://verso.mat.uam.es/~pablo.fernandez/tablas_ProbI_2007-2008.pdf\n",
        "\n",
        "Nosotros nos centraremos en este COLAB en la cola derecha de la curva de distribución."
      ]
    },
    {
      "cell_type": "markdown",
      "metadata": {
        "id": "_3cr3JqYNx1r"
      },
      "source": [
        "La librería de Python que nos ayudará a obtener estos valores es **scipy.stats**. En el siguiente link se encuentra la información de dicha librería.\n",
        "\n",
        "[scipy.stats][3]\n",
        "\n",
        "[3]: https://docs.scipy.org/doc/scipy/reference/stats.html"
      ]
    },
    {
      "cell_type": "markdown",
      "metadata": {
        "id": "IuZfugJ4NzLN"
      },
      "source": [
        "La librería de Python que nos ayudará con calculos estadísticos como la media poblacional, muestra, etc. es la librería **statistics**. En el siguiente link se enuentra la información de dicha librería.\n",
        "\n",
        "[statistics][4]\n",
        "\n",
        "[4]: https://docs.python.org/3/library/statistics.html"
      ]
    },
    {
      "cell_type": "markdown",
      "metadata": {
        "id": "h_yk2vVsO-1_"
      },
      "source": [
        "***NOTA***"
      ]
    },
    {
      "cell_type": "markdown",
      "metadata": {
        "id": "ebPeyw8LPBGr"
      },
      "source": [
        "Las funciones presentadas en este cuaderno tienen como finalidad un uso educativo más que industrial pues existen paqueterías en Python que realizan estos trabajos de manera óptima. Sin embargo, estas mismas pueden ser modificadas por un Científico de Datos y ayudar a la optimización computacional de las mismas."
      ]
    },
    {
      "cell_type": "markdown",
      "metadata": {
        "id": "Qt6N82tYPxSN"
      },
      "source": [
        "#Intervalos de confianza"
      ]
    },
    {
      "cell_type": "markdown",
      "metadata": {
        "id": "6vSIi2Sy1Ghy"
      },
      "source": [
        "## Intervalo de confianza"
      ]
    },
    {
      "cell_type": "markdown",
      "metadata": {
        "id": "Xjr2ZUm91KK6"
      },
      "source": [
        "Una estimación de intervalo de $\\theta$ es un intervalo de la forma\n",
        "\n",
        "$$\\hat{\\theta}_1 < \\theta < \\hat{\\theta}_2$$\n",
        "\n",
        "Donde $\\hat{\\theta}_1$ y $\\hat{\\theta}_2$ son valores de variables aleatorias apropiadas. Por 'Apropiada' queremos decir que\n",
        "\n",
        "$$P\\left( \\hat{\\theta}_1 < \\theta < \\hat{\\theta}_2 \\right) = 1 - \\alpha$$\n",
        "\n",
        "Para alguna probabilidad especificada $1-\\alpha$.\n",
        "\n",
        "Para un valor especificado de $1-\\alpha$ nos referimos a\n",
        "\n",
        "$$\\hat{\\theta}_1 < \\theta < \\hat{\\theta}_2$$\n",
        "\n",
        "como **intervalo de confianza** de $(1-\\alpha)100 \\%$ para $\\theta$.\n",
        "\n",
        "Llamamos **grado de confianza** a $1-\\alpha$.\n",
        "\n",
        "Llamamos **límites de confianza** a $\\hat{\\theta}_1$ y $\\hat{\\theta}_2$.\n",
        "\n",
        "Por ejemplo, sí deseamos un intervalo de confianza del $95\\%$ tenemos que\n",
        "\n",
        "$$\\implies 1-\\alpha = 0.95 \\implies \\alpha = 0.05$$"
      ]
    },
    {
      "cell_type": "markdown",
      "metadata": {
        "id": "TXQtrlzNP3Mm"
      },
      "source": [
        "## Intervalo de confianza para la media de una muestra aleatoria de tamaño $n$"
      ]
    },
    {
      "cell_type": "markdown",
      "metadata": {
        "id": "_lsOWz8wQB6F"
      },
      "source": [
        "Sea $\\bar{x}$ la media de una muestra aleatoria de tamaño $n$. \n",
        "\n",
        "Sí $n\\geq 30$ o $\\sigma^2$ es conocida entonces el intervalo de confianza para la media es\n",
        "\n",
        "$$\\bar{x}-z_{\\frac{\\alpha}{2}}\\frac{\\sigma}{\\sqrt{n}}<\\mu <\\bar{x}+z_{\\frac{\\alpha}{2}}\\frac{\\sigma}{\\sqrt{n}}$$\n",
        "\n",
        "Sí $n\\leq 29$ y $\\sigma^2$ es desconocida entonces el intervalo de confianza para la media es\n",
        "\n",
        "$$\\bar{x}-t_{\\frac{\\alpha}{2},n-1}\\frac{s}{\\sqrt{n}}<\\mu <\\bar{x}+t_{\\frac{\\alpha}{2},n-1}\\frac{s}{\\sqrt{n}}$$\n",
        "\n",
        "Con un margen de error de \n",
        "\n",
        "$$e = z_{\\frac{\\alpha}{2}}\\frac{\\sigma}{\\sqrt{n}}$$\n",
        "\n",
        "Tamaño de muestra necesario para estimar $\\mu$ de \n",
        "\n",
        "$$n = \\left(\\frac{z_{\\frac{\\alpha}{2}}\\cdot \\sigma}{e}\\right)^2$$"
      ]
    },
    {
      "cell_type": "code",
      "metadata": {
        "id": "uMepOiIyR7cy"
      },
      "source": [
        "def IC_1_Media_Datos_Conocidos (Media,Desviacion,Alpha,n,Varianza_Poblacional):\n",
        "  '''\n",
        "  Media : Recibe el valor de la media de una muestra aleatoria.\n",
        "\n",
        "  Desviacion : El valor de la desviacion, si la varianza poblacional es conocida\n",
        "  entonces el valor ingresado es el raiz de la varianza poblacional. Si la varianza\n",
        "  poblacional es desconocida entonces el valor ingresado es el valor de la desviacion\n",
        "  de la muestra.\n",
        "\n",
        "  n : Longitud de la muestra.\n",
        "\n",
        "  Alpha : Probabilidad deseada. Este es un valor entre 0 y 1.\n",
        "\n",
        "  Varianza_Poblacional : Es un valor booleano. True si la varianza poblacional\n",
        "  es conocida, False en caso contrario.\n",
        "\n",
        "  return.\n",
        "\n",
        "  Una lista donde el primer elemento es el la cota inferior del intervalo de confianza,\n",
        "  el segundo elemento es la cota superior del intervalo de confianza y el tercer\n",
        "  elemento es un string que engloba el intervalo de confianza.\n",
        "  '''\n",
        "  from scipy.stats import norm,t\n",
        "  from math import sqrt\n",
        "  Z = norm.isf(Alpha/2)\n",
        "  t_v = t.isf(Alpha/2,n-1)\n",
        "  Div = Desviacion/sqrt(n)\n",
        "  if Varianza_Poblacional == True or n>=30:\n",
        "    Izq = Media - Z*Div\n",
        "    Der = Media + Z*Div\n",
        "    return [Izq,Der,str(Izq)[0:8]+' <M< '+str(Der)[0:8]]\n",
        "  elif Varianza_Poblacional == False and n<=29:\n",
        "    Izq = Media - t_v*Div\n",
        "    Der = Media + t_v*Div\n",
        "    return [Izq,Der,str(Izq)[0:8]+' <M< '+str(Der)[0:8]]"
      ],
      "execution_count": 1,
      "outputs": []
    },
    {
      "cell_type": "markdown",
      "metadata": {
        "id": "QYyMfoXaVwSy"
      },
      "source": [
        "**EJEMPLO**"
      ]
    },
    {
      "cell_type": "markdown",
      "metadata": {
        "id": "1j1ksXRKVxQu"
      },
      "source": [
        "Ejemplo 11.1 del libro."
      ]
    },
    {
      "cell_type": "code",
      "metadata": {
        "colab": {
          "base_uri": "https://localhost:8080/",
          "height": 35
        },
        "id": "M6EJd-dwUf9H",
        "outputId": "71f97494-1d38-412e-b60c-4030cd57799d"
      },
      "source": [
        "IC_1_Media_Datos_Conocidos(64.3,15,0.025*2,20,True)[2]"
      ],
      "execution_count": 2,
      "outputs": [
        {
          "output_type": "execute_result",
          "data": {
            "application/vnd.google.colaboratory.intrinsic+json": {
              "type": "string"
            },
            "text/plain": [
              "'57.72608 <M< 70.87391'"
            ]
          },
          "metadata": {
            "tags": []
          },
          "execution_count": 2
        }
      ]
    },
    {
      "cell_type": "code",
      "metadata": {
        "id": "xXJZU_RTV5cf"
      },
      "source": [
        "def IC_1_Media_Datos_Desconocidos (Data,Alpha,Varianza_Poblacional):\n",
        "  '''\n",
        "  Data : Es una lista que contiene los datos de la muestra.\n",
        "\n",
        "  Alpha : Probabilidad deseada. Este es un valor entre 0 y 1.\n",
        "\n",
        "  Varianza_Poblacional : Es un valor booleano. True si la varianza poblacional\n",
        "  es conocida, False en caso contrario.\n",
        "\n",
        "  return.\n",
        "\n",
        "  Una lista donde el primer elemento es el la cota inferior del intervalo de confianza,\n",
        "  el segundo elemento es la cota superior del intervalo de confianza y el tercer\n",
        "  elemento es un string que engloba el intervalo de confianza.\n",
        "  '''\n",
        "  from scipy.stats import norm,t\n",
        "  from math import sqrt\n",
        "  from statistics import mean, stdev\n",
        "  Media = mean(Data)\n",
        "  n = len(Data)\n",
        "  Z = norm.isf(Alpha/2)\n",
        "  t = t.isf(Alpha/2,n-1)\n",
        "  if Varianza_Poblacional == True:\n",
        "    Varianza = float(input('Ingresa el valor de la varianza poblacional : '))\n",
        "    Desviacion = sqrt(Varianza)\n",
        "    Izq = Media - Z*(Desviacion/sqrt(n))\n",
        "    Der = Media + Z*(Desviacion/sqrt(n))\n",
        "    return [Izq,Der,str(Izq)[0:8]+' <M< '+str(Der)[0:8]]\n",
        "  elif n>= 30:\n",
        "    Desviacion = stdev(Data) #DESVIACION MUESTRAL\n",
        "    Izq = Media - Z*(Desviacion/sqrt(n))\n",
        "    Der = Media + Z*(Desviacion/sqrt(n))\n",
        "    return [Izq,Der,str(Izq)[0:8]+' <M< '+str(Der)[0:8]]\n",
        "  else: \n",
        "    Desviacion = stdev(Data) #DESVIACION MUESTRAL\n",
        "    Izq = Media - t_v*(Desviacion/sqrt(n))\n",
        "    Der = Media + t_v*(Desviacion/sqrt(n))\n",
        "    return [Izq,Der,str(Izq)[0:8]+' <M< '+str(Der)[0:8]]"
      ],
      "execution_count": 3,
      "outputs": []
    },
    {
      "cell_type": "markdown",
      "metadata": {
        "id": "XsCFpSrIaBqL"
      },
      "source": [
        "**EJEMPLO**"
      ]
    },
    {
      "cell_type": "markdown",
      "metadata": {
        "id": "yqdCel-NaFKM"
      },
      "source": [
        "Ejemplo 11.3 del libro"
      ]
    },
    {
      "cell_type": "code",
      "metadata": {
        "colab": {
          "base_uri": "https://localhost:8080/",
          "height": 35
        },
        "id": "VRgPhd0YaBX3",
        "outputId": "445fb766-c339-422b-97be-966d3675a833"
      },
      "source": [
        "Data = [17,13,18,19,17,21,29,22,16,28,21,15,26,23,24,20,8,17,17,21,32,18,25,22,16,10,20,22,19,14,30,22,12,24,28,11]\n",
        "IC_1_Media_Datos_Desconocidos(Data,0.025*2,False)[2]"
      ],
      "execution_count": 4,
      "outputs": [
        {
          "output_type": "execute_result",
          "data": {
            "application/vnd.google.colaboratory.intrinsic+json": {
              "type": "string"
            },
            "text/plain": [
              "'18.04359 <M< 21.78973'"
            ]
          },
          "metadata": {
            "tags": []
          },
          "execution_count": 4
        }
      ]
    },
    {
      "cell_type": "markdown",
      "metadata": {
        "id": "35qjNZdhbbz_"
      },
      "source": [
        "## Intervalo de confianza para diferencia de medias"
      ]
    },
    {
      "cell_type": "markdown",
      "metadata": {
        "id": "Ji9r1zvkbgcx"
      },
      "source": [
        "Sean $n_1,n_2$ dos muestras aleatorias de tamaño $n_1,n_2$ de dos poblaciones normales con varianzas conocidas $\\sigma_1^2, \\sigma_2^2$.\n",
        "\n",
        "El intervalo de confianza para $\\mu_1 - \\mu_2$ es : \n",
        "\n",
        "Sí $n_1, n_2$ son mayores o iguales a 30 o tenemos que $\\sigma_1^2$ y $\\sigma_2^2$ son conocidas\n",
        "\n",
        "$$\\left(\\bar{x_1}-\\bar{x_2}\\right)\\pm z_{\\frac{\\alpha}{2}}\\sqrt{\\frac{\\sigma_1^2}{n_1}+\\frac{\\sigma_2^2}{n_2}}$$"
      ]
    },
    {
      "cell_type": "markdown",
      "metadata": {
        "id": "UlammvoFc7dG"
      },
      "source": [
        "Sí $n_1, n_2$ son menores o iguales a 29 y las varianzas $\\sigma_1^2,\\sigma_2^2$ son desconocidas pero iguales\n",
        "\n",
        "$$\\left(\\bar{x_1}-\\bar{x_2}\\right)\\pm t_{\\frac{\\alpha}{2},n_1+n_2-2}\\cdot S_p\\cdot \\sqrt{\\frac{1}{n_1}+\\frac{1}{n_2}}$$\n",
        "\n",
        "Donde\n",
        "\n",
        "$$S_p = \\sqrt{\\frac{(n_1-1)\\cdot s_1^2+(n_2-1)\\cdot s_2^2}{n_1+n_2-2}}$$"
      ]
    },
    {
      "cell_type": "markdown",
      "metadata": {
        "id": "ALVL4N7O_c8h"
      },
      "source": [
        "Para determinar si las varianzas poblacionales son iguales, aun siendo desconocidas, hay que verificar el intervalo de confianza para la razón de dos varianzas. Sí el 1 está en el intervalo entonces las varianzas son iguales aun siendo desconocidas y, por tanto es matemáticamente correcto proceder por el segundo método."
      ]
    },
    {
      "cell_type": "code",
      "metadata": {
        "id": "7YVvYFHQaw1q"
      },
      "source": [
        "def IC_2_Media_Datos_Conocidos (Media_1,Varianza_1,n_1,Media_2,Varianza_2,n_2,Alpha,Varianza_Poblacional):\n",
        "  '''\n",
        "  Media_1 : El valor de la media de la primer poblacion\n",
        "\n",
        "  Media_2 : El valor de la media de la segunda poblacion\n",
        "\n",
        "  Varianza_1 : El valor de la varianza de la primer poblacion. Si la varianza de la poblacion es conocida\n",
        "  entonces el valor ingresado es el valor de la varianza poblacional.\n",
        "\n",
        "  Varianza_2 : El valor de la varianza de la segunda poblacion. Si la varianza de la poblacion es conocida\n",
        "  entonces el valor ingresado es el valor de la varianza poblacional.\n",
        "\n",
        "  n_1 : Longitud de la primer poblacion\n",
        "\n",
        "  n_2 : Longitud de la segunda poblacion\n",
        "\n",
        "  Alpha : Probabilidad deseada. Es un valor entre 0 y 1.\n",
        "\n",
        "  Varianza_Poblacional : Es un valor booleano. True si las varianzas de las poblaciones son conocidas, False\n",
        "  si son desconocidas pero iguales.\n",
        "\n",
        "  return.\n",
        "\n",
        "  Una lista que contiene 4 elementos. El primer elemento es la cota inferior del intervalo de confianza,\n",
        "  el segundo elemento es la cota superior del intervalo de confianza, el tercer elemento es el intervalo de confianza\n",
        "  y el cuarto elemento es la conclusion del intervalo de confianza.\n",
        "  '''\n",
        "  from scipy.stats import norm,t\n",
        "  from math import sqrt\n",
        "  Z = norm.isf(Alpha/2)\n",
        "  t_v = t.isf(Alpha/2,n_1+n_2-2)\n",
        "  if Varianza_Poblacional == True or (n_1 >= 30 and n_2 >= 30):\n",
        "    Raiz = sqrt( (Varianza_1/n_1) + (Varianza_2/n_2) )\n",
        "    Izq = (Media_1-Media_2) - Z*Raiz\n",
        "    Der = (Media_1-Media_2) + Z*Raiz\n",
        "    if Izq<0 and 0<Der:\n",
        "      Mensaje = 'Media_1 = Media_2'\n",
        "    elif Izq<0 and Der<0:\n",
        "      Mensaje = 'Media_1 < Media_2'\n",
        "    elif 0<Izq and 0<Der:\n",
        "      Mensaje = 'Media_1 > Media_2'\n",
        "    return [Izq,Der,str(Izq)[0:8]+' <M_1 - M_2< '+str(Der)[0:8],Mensaje]\n",
        "  elif Varianza_Poblacional == False and (n_1 <= 29 and n_2 <= 29):\n",
        "    S_p = S_p_Function(n_1,n_2,Varianza_1,Varianza_2)\n",
        "    Raiz = sqrt( (1/n_1) + (1/n_2) )\n",
        "    Izq = (Media_1-Media_2) - t_v*S_p*Raiz\n",
        "    Der = (Media_1-Media_2) + t_v*S_p*Raiz\n",
        "    if Izq<0 and 0<Der:\n",
        "      Mensaje = 'Media_1 = Media_2'\n",
        "    elif Izq<0 and Der<0:\n",
        "      Mensaje = 'Media_1 < Media_2'\n",
        "    elif 0<Izq and 0<Der:\n",
        "      Mensaje = 'Media_1 > Media_2'\n",
        "    return [Izq,Der,str(Izq)[0:8]+' <M_1 - M_2< '+str(Der)[0:8],Mensaje]"
      ],
      "execution_count": 5,
      "outputs": []
    },
    {
      "cell_type": "markdown",
      "metadata": {
        "id": "70LWwAnvs9w-"
      },
      "source": [
        "**EJEMPLO**"
      ]
    },
    {
      "cell_type": "markdown",
      "metadata": {
        "id": "Nh3o4ol2s_xJ"
      },
      "source": [
        "Los datos se obtuvieron del siguiente video: \n",
        "\n",
        "https://www.youtube.com/watch?v=vcV_-KSzy0M&t=45s"
      ]
    },
    {
      "cell_type": "code",
      "metadata": {
        "colab": {
          "base_uri": "https://localhost:8080/",
          "height": 35
        },
        "id": "DCDQgyf6tHG7",
        "outputId": "7422752a-7409-4951-d2cb-e73f151cfac5"
      },
      "source": [
        "#DATOS\n",
        "Media_Sindicalizada = 20.75\n",
        "Desviacion_Sindicalizada = 2.25\n",
        "Longitud_Sindicalizada = 40\n",
        "Media_No_Sindicalizada = 19.80\n",
        "Desviacion_No_Sindicalizada = 1.90\n",
        "Longitud_No_Sindicalizada = 45\n",
        "\n",
        "#INTERVALO DE CONFIANZA\n",
        "IC_2_Media_Datos_Conocidos(Media_Sindicalizada,(Desviacion_Sindicalizada)**2,Longitud_Sindicalizada,\n",
        "                           Media_No_Sindicalizada,(Desviacion_No_Sindicalizada)**2,Longitud_No_Sindicalizada,\n",
        "                           0.1,False)[2]"
      ],
      "execution_count": 6,
      "outputs": [
        {
          "output_type": "execute_result",
          "data": {
            "application/vnd.google.colaboratory.intrinsic+json": {
              "type": "string"
            },
            "text/plain": [
              "'0.202026 <M_1 - M_2< 1.697973'"
            ]
          },
          "metadata": {
            "tags": []
          },
          "execution_count": 6
        }
      ]
    },
    {
      "cell_type": "code",
      "metadata": {
        "colab": {
          "base_uri": "https://localhost:8080/",
          "height": 35
        },
        "id": "-w4uJrl1vHCL",
        "outputId": "813e4a98-7654-4b1d-c01b-b42d3d4ca59e"
      },
      "source": [
        "#CONCLUSION\n",
        "IC_2_Media_Datos_Conocidos(Media_Sindicalizada,(Desviacion_Sindicalizada)**2,Longitud_Sindicalizada,\n",
        "                           Media_No_Sindicalizada,(Desviacion_No_Sindicalizada)**2,Longitud_No_Sindicalizada,\n",
        "                           0.1,False)[3]"
      ],
      "execution_count": 7,
      "outputs": [
        {
          "output_type": "execute_result",
          "data": {
            "application/vnd.google.colaboratory.intrinsic+json": {
              "type": "string"
            },
            "text/plain": [
              "'Media_1 > Media_2'"
            ]
          },
          "metadata": {
            "tags": []
          },
          "execution_count": 7
        }
      ]
    },
    {
      "cell_type": "code",
      "metadata": {
        "id": "s0V7uEFwvtk_"
      },
      "source": [
        "def S_p_Function (n_1,n_2,V_1,V_2):\n",
        "  from math import sqrt\n",
        "  Numerador = (n_1-1)*V_1 + (n_2-1)*V_2\n",
        "  Denominador = n_1 + n_2 - 2\n",
        "  return sqrt(Numerador/Denominador)\n",
        "\n",
        "def IC_2_Media_Datos_Desconocidos (Data_1,Data_2,Alpha,Varianza_Poblacional):\n",
        "  '''\n",
        "  Data_1 : Los datos de la primer poblacion.\n",
        "\n",
        "  Data_2 : Los datos de la segunda poblacion.\n",
        "\n",
        "  Alpha : Probabilidad deseada. Es un valor entre 0 y 1.\n",
        "\n",
        "  Varianza_Poblacional : Es un valor booleano. True si las varianzas de las poblaciones son conocidas, False\n",
        "  si son desconocidas pero iguales.\n",
        "\n",
        "  return.\n",
        "\n",
        "  Una lista que contiene 4 elementos. El primer elemento es la cota inferior del intervalo de confianza,\n",
        "  el segundo elemento es la cota superior del intervalo de confianza, el tercer elemento es el intervalo de confianza\n",
        "  y el cuarto elemento es la conclusion del intervalo de confianza.\n",
        "  '''\n",
        "  from scipy.stats import norm,t\n",
        "  from math import sqrt\n",
        "  from statistics import mean, variance\n",
        "  n_1 = len(Data_1)\n",
        "  n_2 = len(Data_2)\n",
        "  Media_1 = mean(Data_1)\n",
        "  Media_2 = mean(Data_2)\n",
        "  Z = norm.isf(Alpha/2)\n",
        "  t_v = t.isf(Alpha/2,n_1+n_2-2)\n",
        "  if Varianza_Poblacional == True:\n",
        "    Varianza_1 = float(input('Ingresa la varianza de la primer poblacion : '))\n",
        "    Varianza_2 = float(input('Ingresa la varianza de la segunda poblacion : '))\n",
        "    Raiz = sqrt( (Varianza_1/n_1) + (Varianza_2/n_2) )\n",
        "    Izq = (Media_1-Media_2) - Z*Raiz\n",
        "    Der = (Media_1-Media_2) + Z*Raiz\n",
        "    if Izq<0 and 0<Der:\n",
        "      Mensaje = 'Media_1 = Media_2'\n",
        "    elif Izq<0 and Der<0:\n",
        "      Mensaje = 'Media_1 < Media_2'\n",
        "    elif 0<Izq and 0<Der:\n",
        "      Mensaje = 'Media_1 > Media_2'\n",
        "    return [Izq,Der,str(Izq)[0:8]+' <M_1 - M_2< '+str(Der)[0:8],Mensaje]\n",
        "  elif n_1 >= 30 and n_2 >= 30:\n",
        "    Varianza_1 = variance(Data_1) #VARIANZA MUESTRAL\n",
        "    Varianza_2 = variance(Data_2) #VARIANZA MUESTRAL\n",
        "    Raiz = sqrt( (Varianza_1/n_1) + (Varianza_2/n_2) )\n",
        "    Izq = (Media_1-Media_2) - Z*Raiz\n",
        "    Der = (Media_1-Media_2) + Z*Raiz\n",
        "    if Izq<0 and 0<Der:\n",
        "      Mensaje = 'Media_1 = Media_2'\n",
        "    elif Izq<0 and Der<0:\n",
        "      Mensaje = 'Media_1 < Media_2'\n",
        "    elif 0<Izq and 0<Der:\n",
        "      Mensaje = 'Media_1 > Media_2'\n",
        "    return [Izq,Der,str(Izq)[0:8]+' <M_1 - M_2< '+str(Der)[0:8],Mensaje]\n",
        "  elif Varianza_Poblacional == False and (n_1 <= 29 and n_2 <= 29):\n",
        "    Varianza_1 = variance(Data_1) #VARIANZA MUESTRAL\n",
        "    Varianza_2 = variance(Data_2) #VARIANZA MUESTRAL\n",
        "    S_p = S_p_Function(n_1,n_2,Varianza_1,Varianza_2)\n",
        "    Raiz = sqrt( (1/n_1) + (1/n_2) )\n",
        "    Izq = (Media_1-Media_2) - t_v*S_p*Raiz\n",
        "    Der = (Media_1-Media_2) + t_v*S_p*Raiz\n",
        "    if Izq<0 and 0<Der:\n",
        "      Mensaje = 'Media_1 = Media_2'\n",
        "    elif Izq<0 and Der<0:\n",
        "      Mensaje = 'Media_1 < Media_2'\n",
        "    elif 0<Izq and 0<Der:\n",
        "      Mensaje = 'Media_1 > Media_2'\n",
        "    return [Izq,Der,str(Izq)[0:8]+' <M_1 - M_2< '+str(Der)[0:8],Mensaje]"
      ],
      "execution_count": 8,
      "outputs": []
    },
    {
      "cell_type": "markdown",
      "metadata": {
        "id": "5cqWaMrKy041"
      },
      "source": [
        "**EJEMPLO**"
      ]
    },
    {
      "cell_type": "markdown",
      "metadata": {
        "id": "OlcB2sO1y2Ct"
      },
      "source": [
        "Los datos se obtuvieron en el siguiente video.\n",
        "\n",
        "https://www.youtube.com/watch?v=aMOINMuUXVc&ab_channel=Estad%C3%ADstica%C3%BAtil\n"
      ]
    },
    {
      "cell_type": "code",
      "metadata": {
        "colab": {
          "base_uri": "https://localhost:8080/",
          "height": 35
        },
        "id": "A8lbOI7Uy5cf",
        "outputId": "45128a60-ad93-4d27-f10e-6400767aa6ae"
      },
      "source": [
        "#DATOS\n",
        "T1 = [76,85,74,78,82,75,82]\n",
        "T2 = [57,67,55,64,61,63,63]\n",
        "\n",
        "#INTERVALO DE CONFIANZA\n",
        "IC_2_Media_Datos_Desconocidos(T1,T2,0.1,False)[2]"
      ],
      "execution_count": 9,
      "outputs": [
        {
          "output_type": "execute_result",
          "data": {
            "application/vnd.google.colaboratory.intrinsic+json": {
              "type": "string"
            },
            "text/plain": [
              "'13.45683 <M_1 - M_2< 21.40030'"
            ]
          },
          "metadata": {
            "tags": []
          },
          "execution_count": 9
        }
      ]
    },
    {
      "cell_type": "code",
      "metadata": {
        "colab": {
          "base_uri": "https://localhost:8080/",
          "height": 35
        },
        "id": "2kmS2v5vzmNV",
        "outputId": "c433e5d2-de88-4c4c-834e-33096e5d9edc"
      },
      "source": [
        "#CONCLUSION\n",
        "IC_2_Media_Datos_Desconocidos(T1,T2,0.1,False)[3]"
      ],
      "execution_count": 10,
      "outputs": [
        {
          "output_type": "execute_result",
          "data": {
            "application/vnd.google.colaboratory.intrinsic+json": {
              "type": "string"
            },
            "text/plain": [
              "'Media_1 > Media_2'"
            ]
          },
          "metadata": {
            "tags": []
          },
          "execution_count": 10
        }
      ]
    },
    {
      "cell_type": "markdown",
      "metadata": {
        "id": "ToRvcYAokKOu"
      },
      "source": [
        "## Intervalo de confianza para proporciones"
      ]
    },
    {
      "cell_type": "markdown",
      "metadata": {
        "id": "QAilFcPOkO5j"
      },
      "source": [
        "Sea $\\theta$ el parámetro de la binomial siendo esta nuestra proporción.\n",
        "\n",
        "Sí $n$ es la muestra total y $x$ es muestra pequeña de $n$ con $x\\leq 30$ entonces tenemos que el intervalo de confianza para la proporción $\\theta$ es\n",
        "\n",
        "$$\\hat{\\theta}\\pm z_{\\frac{\\alpha}{2}}\\sqrt{\\frac{\\hat{\\theta}(1-\\hat{\\theta})}{n}}$$\n",
        "\n",
        "Donde $\\hat{\\theta} = \\frac{x}{n}$.\n",
        "\n",
        "Llamamos margen de error a \n",
        "\n",
        "$$e = z_{\\frac{\\alpha}{2}}\\sqrt{\\frac{\\hat{\\theta}(1-\\hat{\\theta})}{n}}$$\n",
        "\n",
        "Si necesitamos el tamaño de muestra para estimar $\\theta$ con un margen de error $e$ e información previa\n",
        "\n",
        "$$n = \\frac{z_{\\frac{\\alpha}{2}}^2\\cdot \\hat{\\theta}(1-\\hat{\\theta})}{e^2}$$\n",
        "\n",
        "Sin información previa\n",
        "\n",
        "$$n^{'}=\\frac{z_{\\frac{\\alpha}{2}}^2}{4e^2}$$"
      ]
    },
    {
      "cell_type": "code",
      "metadata": {
        "id": "Jtph-FiqlolQ"
      },
      "source": [
        "def IC_1_Proporcion (X,n,Alpha):\n",
        "  '''\n",
        "  X : Numero de exitos de la muestra\n",
        "\n",
        "  n : Longitud de la muestra\n",
        "\n",
        "  Alpha : Probabilidad deseada. Es un numero entre 0 y 1.\n",
        "  '''\n",
        "  from math import sqrt\n",
        "  from scipy.stats import norm\n",
        "  Z = norm.isf(Alpha/2)\n",
        "  Theta = X/n\n",
        "  Izq = Theta - Z*sqrt( (Theta*(1-Theta))/n )\n",
        "  Der = Theta + Z*sqrt( (Theta*(1-Theta))/n )\n",
        "  return [Izq,Der,str(Izq)[0:8]+' <Theta< '+str(Der)[0:8]]"
      ],
      "execution_count": 11,
      "outputs": []
    },
    {
      "cell_type": "markdown",
      "metadata": {
        "id": "NzqVN5v4m0pC"
      },
      "source": [
        "**EJEMPLO**"
      ]
    },
    {
      "cell_type": "markdown",
      "metadata": {
        "id": "Vp_h6wb3m1oV"
      },
      "source": [
        "Ejemplo 11.7 del libro"
      ]
    },
    {
      "cell_type": "code",
      "metadata": {
        "colab": {
          "base_uri": "https://localhost:8080/",
          "height": 35
        },
        "id": "pJCFQkRcm5Kb",
        "outputId": "ac130cfe-1eb3-4528-8c58-9dded87f06fa"
      },
      "source": [
        "IC_1_Proporcion(136,400,0.025*2)[2]"
      ],
      "execution_count": 12,
      "outputs": [
        {
          "output_type": "execute_result",
          "data": {
            "application/vnd.google.colaboratory.intrinsic+json": {
              "type": "string"
            },
            "text/plain": [
              "'0.293577 <Theta< 0.386422'"
            ]
          },
          "metadata": {
            "tags": []
          },
          "execution_count": 12
        }
      ]
    },
    {
      "cell_type": "markdown",
      "metadata": {
        "id": "8nrgcchTnMPT"
      },
      "source": [
        "## Intervalos de confianza para una diferencia de proporciones"
      ]
    },
    {
      "cell_type": "markdown",
      "metadata": {
        "id": "eiXRzEBAnyv7"
      },
      "source": [
        "Sí $x_1, x_2$ son variables aleatorias binomiales con parámetros $n_1, \\theta_1$ y $n_2,\\theta_2$ respectivamente, donde $n_1$ y $n_2$ son mayores o iguales a 30 y $\\hat{\\theta}_1 = \\frac{x_1}{n_1}$, $\\hat{\\theta}_2 = \\frac{x_2}{n_2}$. \n",
        "\n",
        "El intervalo de confianza para $\\theta_1-\\theta_2$ es\n",
        "\n",
        "$$\\left(\\hat{\\theta}_1 - \\hat{\\theta}_2 \\right)\\pm z_{\\frac{\\alpha}{2}}\\sqrt{\\frac{\\hat{\\theta}_1 (1-\\hat{\\theta}_1)}{n_1} + \\frac{\\hat{\\theta}_2 (1-\\hat{\\theta}_2)}{n_2}}$$"
      ]
    },
    {
      "cell_type": "code",
      "metadata": {
        "id": "mp5WIJwrpL9g"
      },
      "source": [
        "def IC_2_Proporcion (x_1,n_1,x_2,n_2,Alpha):\n",
        "  '''\n",
        "  x_1 : Exitos de la muestra de la poblacion 1\n",
        "\n",
        "  n_1 : Longitud de la muestra de la poblacion 1\n",
        "\n",
        "  x_2 : Exitos de la muestra de la poblacion 2\n",
        "\n",
        "  n_2 : Longitud de la muestra de la poblacion 2\n",
        "\n",
        "  Alpha : Probabilidad deseada. Es un valor entre 0 y 1\n",
        "  '''\n",
        "  from math import sqrt\n",
        "  from scipy.stats import norm\n",
        "  Theta_1 = x_1/n_1\n",
        "  Theta_2 = x_2/n_2\n",
        "  Z = norm.isf(Alpha/2)\n",
        "  Raiz = sqrt( ( (Theta_1*(1-Theta_1)) /n_1 ) + ( (Theta_2*(1-Theta_2)) /n_2 ) )\n",
        "  Izq = (Theta_1 - Theta_2) - Z*Raiz\n",
        "  Der = (Theta_1 - Theta_2) + Z*Raiz\n",
        "  if Izq<0 and 0<Der:\n",
        "    Mensaje = 'Theta_1 = Theta_2'\n",
        "  elif Izq<0 and Der<0:\n",
        "    Mensaje = 'Theta_1 < Theta_2'\n",
        "  elif 0<Izq and 0<Der:\n",
        "    Mensaje = 'Theta_1 > Theta_2'\n",
        "  return [Izq,Der,str(Izq)[0:8]+' <Theta_1 - Theta_2< '+str(Der)[0:8],Mensaje]"
      ],
      "execution_count": 13,
      "outputs": []
    },
    {
      "cell_type": "markdown",
      "metadata": {
        "id": "K3i2U8udvivC"
      },
      "source": [
        "**EJEMPLO**"
      ]
    },
    {
      "cell_type": "markdown",
      "metadata": {
        "id": "bRsZeNLxvleI"
      },
      "source": [
        "Ejemplo 11.9 del libro."
      ]
    },
    {
      "cell_type": "code",
      "metadata": {
        "colab": {
          "base_uri": "https://localhost:8080/",
          "height": 35
        },
        "id": "zYUtQJ1dvj5j",
        "outputId": "d9143aac-7e00-4800-bcab-0ea29de971cb"
      },
      "source": [
        "#DATOS\n",
        "Total_Hombres = 200\n",
        "Exitos_Hombres = 132\n",
        "Total_Mujeres = 159\n",
        "Exitos_Mujeres = 90\n",
        "\n",
        "#INTERVALO DE CONFIANZA\n",
        "IC_2_Proporcion(Exitos_Hombres,Total_Hombres,Exitos_Mujeres,Total_Mujeres,0.005*2)[2]"
      ],
      "execution_count": 14,
      "outputs": [
        {
          "output_type": "execute_result",
          "data": {
            "application/vnd.google.colaboratory.intrinsic+json": {
              "type": "string"
            },
            "text/plain": [
              "'-0.03905 <Theta_1 - Theta_2< 0.226983'"
            ]
          },
          "metadata": {
            "tags": []
          },
          "execution_count": 14
        }
      ]
    },
    {
      "cell_type": "code",
      "metadata": {
        "colab": {
          "base_uri": "https://localhost:8080/",
          "height": 35
        },
        "id": "LUPfIFENzAZ8",
        "outputId": "a826b2e9-d865-447b-fac8-938f0bb2bce6"
      },
      "source": [
        "#CONCLUSION\n",
        "IC_2_Proporcion(Exitos_Hombres,Total_Hombres,Exitos_Mujeres,Total_Mujeres,0.005*2)[3]"
      ],
      "execution_count": 15,
      "outputs": [
        {
          "output_type": "execute_result",
          "data": {
            "application/vnd.google.colaboratory.intrinsic+json": {
              "type": "string"
            },
            "text/plain": [
              "'Theta_1 = Theta_2'"
            ]
          },
          "metadata": {
            "tags": []
          },
          "execution_count": 15
        }
      ]
    },
    {
      "cell_type": "markdown",
      "metadata": {
        "id": "6305NbYxzNPs"
      },
      "source": [
        "## Intervalo de confianza para varianzas"
      ]
    },
    {
      "cell_type": "markdown",
      "metadata": {
        "id": "HZ5TMJl3zRd2"
      },
      "source": [
        "Sea $n$ una muestra aleatoria de tamaño $n$ de una población normal, el intervalo de confianza de $\\sigma^2$ es\n",
        "\n",
        "$$\\frac{(n-1)s^2}{\\chi^2_{\\frac{\\alpha}{2},n-1}} < \\sigma^2 < \\frac{(n-1)s^2}{\\chi^2_{1-\\frac{\\alpha}{2},n-1}}$$\n",
        "\n",
        "Si queremos la desviación estandar\n",
        "\n",
        "$$\\sqrt{\\frac{(n-1)s^2}{\\chi^2_{\\frac{\\alpha}{2},n-1}}} < \\sigma < \\sqrt{\\frac{(n-1)s^2}{\\chi^2_{1-\\frac{\\alpha}{2},n-1}}}$$"
      ]
    },
    {
      "cell_type": "code",
      "metadata": {
        "id": "9at_JSUW0gxd"
      },
      "source": [
        "def IC_1_Varianza_Datos_Conocidos (n,s,Alpha):\n",
        "  '''\n",
        "  n : Longitud de la muestra aleatoria\n",
        "\n",
        "  s : Desviacion de la muestra\n",
        "\n",
        "  Alpha : Probabilidad deseada. Un valor entre 0 y 1.\n",
        "  '''\n",
        "  from scipy.stats import chi2\n",
        "  Chi_Izq = chi2.isf(Alpha/2,n-1)\n",
        "  Chi_Der = chi2.isf(1-(Alpha/2),n-1)\n",
        "  Izq = ((n-1)*(s**2))/Chi_Izq\n",
        "  Der = ((n-1)*(s**2))/Chi_Der\n",
        "  return [Izq,Der,str(Izq)[0:8]+' <sigma^2< '+str(Der)[0:8]]"
      ],
      "execution_count": 16,
      "outputs": []
    },
    {
      "cell_type": "markdown",
      "metadata": {
        "id": "oSl_bJwI6Pk6"
      },
      "source": [
        "**EJEMPLO**"
      ]
    },
    {
      "cell_type": "markdown",
      "metadata": {
        "id": "i1s7em4o6Q1B"
      },
      "source": [
        "Ejemplo 11.10 del libro"
      ]
    },
    {
      "cell_type": "code",
      "metadata": {
        "colab": {
          "base_uri": "https://localhost:8080/",
          "height": 35
        },
        "id": "a4kqGTkd6WeX",
        "outputId": "431fea2f-2be0-4773-c982-815df5a2250d"
      },
      "source": [
        "IC_1_Varianza_Datos_Conocidos(16,2.2,0.01)[2]"
      ],
      "execution_count": 17,
      "outputs": [
        {
          "output_type": "execute_result",
          "data": {
            "application/vnd.google.colaboratory.intrinsic+json": {
              "type": "string"
            },
            "text/plain": [
              "'2.213325 <sigma^2< 15.77946'"
            ]
          },
          "metadata": {
            "tags": []
          },
          "execution_count": 17
        }
      ]
    },
    {
      "cell_type": "code",
      "metadata": {
        "id": "-U9UZzJU7EEk"
      },
      "source": [
        "def IC_1_Varianza_Datos_Desconocidos (Data,Alpha):\n",
        "  '''\n",
        "  Data : Lista que contiene los datos a analizar.\n",
        "\n",
        "  Alpha : Probabilidad deseada. Un valor entre 0 y 1.\n",
        "  '''\n",
        "  from scipy.stats import chi2\n",
        "  from statistics import variance\n",
        "  Varianza = variance(Data)\n",
        "  n = len(Data)\n",
        "  Chi_Izq = chi2.isf(Alpha/2,n-1)\n",
        "  Chi_Der = chi2.isf(1-(Alpha/2),n-1)\n",
        "  Izq = ((n-1)*Varianza)/Chi_Izq\n",
        "  Der = ((n-1)*Varianza)/Chi_Der\n",
        "  return [Izq,Der,str(Izq)[0:8]+' <sigma^2< '+str(Der)[0:8]]"
      ],
      "execution_count": 18,
      "outputs": []
    },
    {
      "cell_type": "markdown",
      "metadata": {
        "id": "ezr6BWQs7wqB"
      },
      "source": [
        "**EJEMPLO**"
      ]
    },
    {
      "cell_type": "markdown",
      "metadata": {
        "id": "ipHLdxEG7xoc"
      },
      "source": [
        "Los datos se obtuvieron en el siguiente video\n",
        "\n",
        "https://www.youtube.com/watch?v=Pw66ZHxzAF4"
      ]
    },
    {
      "cell_type": "code",
      "metadata": {
        "colab": {
          "base_uri": "https://localhost:8080/",
          "height": 35
        },
        "id": "mqcylxGG70Xx",
        "outputId": "c2cc884a-a398-4ea5-dd14-ee2c4cd1e4a2"
      },
      "source": [
        "Data = [6.0,6.4,7.0,5.8,6.0,5.8,5.9,6.7,6.1,6.5,6.3,5.8]\n",
        "\n",
        "IC_1_Varianza_Datos_Desconocidos(Data,0.05)[2]"
      ],
      "execution_count": 19,
      "outputs": [
        {
          "output_type": "execute_result",
          "data": {
            "application/vnd.google.colaboratory.intrinsic+json": {
              "type": "string"
            },
            "text/plain": [
              "'0.077060 <sigma^2< 0.442682'"
            ]
          },
          "metadata": {
            "tags": []
          },
          "execution_count": 19
        }
      ]
    },
    {
      "cell_type": "markdown",
      "metadata": {
        "id": "DWqD85WM8SMZ"
      },
      "source": [
        "## Intervalo de confianza para razón de dos varianzas"
      ]
    },
    {
      "cell_type": "markdown",
      "metadata": {
        "id": "Po5mx6Ak8Vue"
      },
      "source": [
        "Sean $n_1, n_2$ muestras aleatorias independientes de poblaciones normales, el intervalo de confianza de $\\frac{\\sigma_1^2}{\\sigma_2^2}$ es \n",
        "\n",
        "$$\\frac{s_1^2}{s_2^2}\\cdot \\frac{1}{F_{\\frac{\\alpha}{2},n_1-1,n_2-1}}<\\frac{\\sigma_1^2}{\\sigma_2^2}<F_{\\frac{\\alpha}{2},n_2-1,n_1-1}$$\n",
        "\n",
        "Decimos que $\\sigma_1^2 = \\sigma_2^2$ sí el intervalo de confianza contiene al 1."
      ]
    },
    {
      "cell_type": "code",
      "metadata": {
        "id": "K9a91VVS9IR-"
      },
      "source": [
        "def IC_2_Varianza_Datos_Conocidos (n_1,s_1,n_2,s_2,Alpha):\n",
        "  '''\n",
        "  n_1 : Longitud de la muestra 1\n",
        "\n",
        "  s_1 : desviacion de la muestra 1\n",
        "\n",
        "  n_2 : Longitud de la muestra 2\n",
        "\n",
        "  s_2 : desviacion de la muestra 2\n",
        "\n",
        "  Alpha : Probabilidad deseada. Un valor entre 0 y 1\n",
        "  '''\n",
        "  from scipy.stats import f\n",
        "  F_Izq = f.isf(Alpha/2,n_1-1,n_2-1)\n",
        "  F_Der = f.isf(Alpha/2,n_2-1,n_1-1)\n",
        "  Div = (s_1/s_2)**2\n",
        "  Izq = Div*(1/F_Izq)\n",
        "  Der = Div*F_Der\n",
        "  if Izq < 1 and 1 < Der:\n",
        "    Mensaje = 'Las varianzas son iguales'\n",
        "  else:\n",
        "    Mensaje = 'No podemos argumentar que las varianzas sean iguales'\n",
        "  return [Izq,Der,str(Izq)[0:8]+' <(Sigma_1^2)/(Sigma_2^2)< '+str(Der)[0:8],Mensaje]"
      ],
      "execution_count": 20,
      "outputs": []
    },
    {
      "cell_type": "markdown",
      "metadata": {
        "id": "h2a0DcXH-rBF"
      },
      "source": [
        "**EJEMPLO**"
      ]
    },
    {
      "cell_type": "markdown",
      "metadata": {
        "id": "sJFgdYQk-sU0"
      },
      "source": [
        "Ejemplo 11.11 del libro\n"
      ]
    },
    {
      "cell_type": "code",
      "metadata": {
        "colab": {
          "base_uri": "https://localhost:8080/",
          "height": 35
        },
        "id": "G9XmEO5k-vqA",
        "outputId": "7995ad7e-10fa-40c3-fd37-d10464db579b"
      },
      "source": [
        "#DATOS\n",
        "n1 = 10\n",
        "n2 = 8\n",
        "Desviacion1 = 0.5\n",
        "Desviacion2 = 0.7\n",
        "\n",
        "#INTERVALO DE CONFIANZA\n",
        "IC_2_Varianza_Datos_Conocidos(n1,Desviacion1,n2,Desviacion2,0.02)[2]"
      ],
      "execution_count": 21,
      "outputs": [
        {
          "output_type": "execute_result",
          "data": {
            "application/vnd.google.colaboratory.intrinsic+json": {
              "type": "string"
            },
            "text/plain": [
              "'0.075937 <(Sigma_1^2)/(Sigma_2^2)< 2.863706'"
            ]
          },
          "metadata": {
            "tags": []
          },
          "execution_count": 21
        }
      ]
    },
    {
      "cell_type": "code",
      "metadata": {
        "colab": {
          "base_uri": "https://localhost:8080/",
          "height": 35
        },
        "id": "cWB0sAfK_KcJ",
        "outputId": "9b46420c-01b4-4055-ef9d-da09f9f69ad9"
      },
      "source": [
        "#CONCLUSION\n",
        "IC_2_Varianza_Datos_Conocidos(n1,Desviacion1,n2,Desviacion2,0.02)[3]"
      ],
      "execution_count": 22,
      "outputs": [
        {
          "output_type": "execute_result",
          "data": {
            "application/vnd.google.colaboratory.intrinsic+json": {
              "type": "string"
            },
            "text/plain": [
              "'Las varianzas son iguales'"
            ]
          },
          "metadata": {
            "tags": []
          },
          "execution_count": 22
        }
      ]
    },
    {
      "cell_type": "code",
      "metadata": {
        "id": "Npb2b9Nj_161"
      },
      "source": [
        "def IC_2_Varianza_Datos_Desconocidos (Data_1,Data_2,Alpha):\n",
        "  '''\n",
        "  Data_1 : Lista que contiene los datos de la primer muestra\n",
        "\n",
        "  Data_2 : Lista que contiene los datos de la segunda muestra\n",
        "\n",
        "  Alpha : Probabilidad deseada. Un valor entre 0 y 1\n",
        "  '''\n",
        "  from scipy.stats import f\n",
        "  from statistics import stdev\n",
        "  F_Izq = f.isf(Alpha/2,len(Data_1)-1,len(Data_2)-1)\n",
        "  F_Der = f.isf(Alpha/2,len(Data_2)-1,len(Data_1)-1)\n",
        "  Div = (stdev(Data_1)/stdev(Data_2))**2\n",
        "  Izq = Div*(1/F_Izq)\n",
        "  Der = Div*F_Der\n",
        "  if Izq < 1 and 1 < Der:\n",
        "    Mensaje = 'Las varianzas son iguales'\n",
        "  else:\n",
        "    Mensaje = 'No podemos argumentar que las varianzas sean iguales'\n",
        "  return [Izq,Der,str(Izq)[0:8]+' <(Sigma_1^2)/(Sigma_2^2)< '+str(Der)[0:8],Mensaje]"
      ],
      "execution_count": 23,
      "outputs": []
    },
    {
      "cell_type": "markdown",
      "metadata": {
        "id": "bTTkRbkIA1Ss"
      },
      "source": [
        "**EJEMPLO**"
      ]
    },
    {
      "cell_type": "markdown",
      "metadata": {
        "id": "MmuCLWKwA2R2"
      },
      "source": [
        "Los datos se obtuvieron en el siguiente video\n",
        "\n",
        "https://www.youtube.com/watch?v=SzXfVJbPh-0\n"
      ]
    },
    {
      "cell_type": "code",
      "metadata": {
        "colab": {
          "base_uri": "https://localhost:8080/",
          "height": 35
        },
        "id": "ZlENOzyyA4e7",
        "outputId": "52350b08-a6dc-43b0-d212-a844ba6aaa1c"
      },
      "source": [
        "#DATOS\n",
        "Gasolina = [34,36,39,31,33,26,45,34,39,38,37]\n",
        "Gas = [33,41,39,32,29,28,33,34,25,28,36,33,35]\n",
        "\n",
        "#INTERVALO DE CONFIANZA\n",
        "IC_2_Varianza_Datos_Desconocidos(Gasolina,Gas,0.1)[2]"
      ],
      "execution_count": 24,
      "outputs": [
        {
          "output_type": "execute_result",
          "data": {
            "application/vnd.google.colaboratory.intrinsic+json": {
              "type": "string"
            },
            "text/plain": [
              "'0.436251 <(Sigma_1^2)/(Sigma_2^2)< 3.498973'"
            ]
          },
          "metadata": {
            "tags": []
          },
          "execution_count": 24
        }
      ]
    },
    {
      "cell_type": "code",
      "metadata": {
        "colab": {
          "base_uri": "https://localhost:8080/",
          "height": 35
        },
        "id": "iRsDOzYcBK13",
        "outputId": "640febfd-a5c7-48b3-dc5f-3f44101dc94f"
      },
      "source": [
        "#CONCLUSION\n",
        "IC_2_Varianza_Datos_Desconocidos(Gasolina,Gas,0.1)[3]"
      ],
      "execution_count": 25,
      "outputs": [
        {
          "output_type": "execute_result",
          "data": {
            "application/vnd.google.colaboratory.intrinsic+json": {
              "type": "string"
            },
            "text/plain": [
              "'Las varianzas son iguales'"
            ]
          },
          "metadata": {
            "tags": []
          },
          "execution_count": 25
        }
      ]
    },
    {
      "cell_type": "markdown",
      "metadata": {
        "id": "kPRKd80gkhr2"
      },
      "source": [
        "#Prueba de hipótesis"
      ]
    },
    {
      "cell_type": "markdown",
      "metadata": {
        "id": "vNgZTeLTkj8I"
      },
      "source": [
        "##Prueba de hipótesis"
      ]
    },
    {
      "cell_type": "markdown",
      "metadata": {
        "id": "5AG1LaSojHRB"
      },
      "source": [
        "A continuación definiremos ciertos conceptos necesarios para la estructura de las siguiente fórmulas.\n",
        "\n",
        "**Hipótesis estadística**\n",
        "\n",
        "Es una afirmación acerca de la distribución de una o más variables aleatorias\n",
        "\n",
        "**Hipótesis simple**\n",
        "\n",
        "Es una hipótesis estadística que especifica por completo la forma de distribución\n",
        "\n",
        "**Hipótesis compuesta**\n",
        "\n",
        "Es una hipótesis estadística que no especifíca por completo la forma de distribución\n",
        "\n",
        "**Hipótesis nula**\n",
        "\n",
        "Es la hipótesis que queremos probar, denotada comúnmente como $H_0$\n",
        "\n",
        "**Hipótesis alternativa**\n",
        "\n",
        "Es la hipótesis contraria a la nula, denotada comúnmente como $H_1$\n",
        "\n",
        "**Error tipo 1**\n",
        "\n",
        "Rechazar la hipótesis nula siendo verdadera, se denota como $\\alpha$\n",
        "\n",
        "**Error tipo 2**\n",
        "\n",
        "Aceptar la hipótesis nula siendo falsa, denotada como $\\beta$\n",
        "\n",
        "**Prueba de una hipótesis estadística**\n",
        "\n",
        "Para probar una hipótesis nula contra una alternativa, se utiliza un estadístico de prueba generando una región de rechazo y aceptación para $H_0$"
      ]
    },
    {
      "cell_type": "markdown",
      "metadata": {
        "id": "Lvrj3sfakMN7"
      },
      "source": [
        "Plantear una hipótesis nula es\n",
        "\n",
        "$$H_0 : \\theta = \\theta_0$$\n",
        "\n",
        "Plantear una hipótesis alternativa es una de las siguientes opciones.\n",
        "\n",
        "$$H_1 : \\theta < \\theta_0$$\n",
        "$$H_1 : \\theta > \\theta_0$$\n",
        "$$H_1 : \\theta \\neq \\theta_0$$"
      ]
    },
    {
      "cell_type": "markdown",
      "metadata": {
        "id": "PcdqgoqQlD6k"
      },
      "source": [
        "##Prueba de hipótesis para una media"
      ]
    },
    {
      "cell_type": "markdown",
      "metadata": {
        "id": "E3gBjvpblHGG"
      },
      "source": [
        "Dada una muestra aleatoria de tamaño $n$ tomada de una población normal."
      ]
    },
    {
      "cell_type": "markdown",
      "metadata": {
        "id": "vRuNnUAalLVF"
      },
      "source": [
        "### Prueba $Z$"
      ]
    },
    {
      "cell_type": "markdown",
      "metadata": {
        "id": "j--s-yXClRsD"
      },
      "source": [
        "Condiciones de la prueba $Z$.\n",
        "\n",
        "|Condición|Descripción|\n",
        "|--|--|\n",
        "|1|Población normal y $\\sigma^2$ conocida|\n",
        "|2|Población no normal pero $n\\geq 30$|\n",
        "|3|$\\sigma^2$ desconocida pero $n\\geq 30$, entonces considere $s = \\sigma$|\n",
        "\n",
        "Prueba $Z$\n",
        "\n",
        "|Hipótesis Nula ($H_0$)|Hipótesis Alternativa ($H_1$)|Se rechaza $H_0$ sí|Estadístico de prueba|\n",
        "|--|--|--|--|\n",
        "|$$H_0 : \\mu = \\mu_0$$|$$H_1 : \\mu > \\mu_0$$|$$z\\geq z_{\\alpha}$$|$$z = \\frac{\\bar{x}-\\mu_0}{\\sigma/\\sqrt{n}}$$|\n",
        "|$$H_0 : \\mu = \\mu_0$$|$$H_1 : \\mu < \\mu_0$$|$$z\\leq -z_{\\alpha}$$|$$z = \\frac{\\bar{x}-\\mu_0}{\\sigma/\\sqrt{n}}$$|\n",
        "|$$H_0 : \\mu = \\mu_0$$|$$H_1 : \\mu \\neq \\mu_0$$|$$|z|\\geq z_{\\alpha/2}$$|$$z = \\frac{\\bar{x}-\\mu_0}{\\sigma/\\sqrt{n}}$$|"
      ]
    },
    {
      "cell_type": "code",
      "metadata": {
        "id": "aPqaEjzrm3Za"
      },
      "source": [
        "def PH_1_Media_Z (Bar_X,M_0,Sigma,n,Alpha,Var_Pob,H_A):\n",
        "  '''\n",
        "  Bar_X : Media de la muestra\n",
        "\n",
        "  M_0 : Media a comparar\n",
        "\n",
        "  Sigma : Desviacion de la muestra\n",
        "\n",
        "  n : Longitud de la muestra\n",
        "\n",
        "  Alpha : Probabilidad deseada. Un valor entre 0 y 1\n",
        "\n",
        "  Var_Pob : Un valor booleano. Si es True entonces la varianza poblacional\n",
        "  es conocida, False en otro caso.\n",
        "\n",
        "  H_A : Recibe el valor 1, 2 o 3 segun sea el caso de la hipotesis alternativa\n",
        "  a realizar. Si es 1 entonces la hipotesis alternativa es Mu > Mu_0, si es 2\n",
        "  entonces la hipotesis alternativa es Mu < Mu_0 y si es 3 entonces la hipotesis\n",
        "  alternativa es Mu != Mu_0\n",
        "  '''\n",
        "  from scipy.stats import norm\n",
        "  from math import sqrt\n",
        "  Estadistico_Prueba = (Bar_X - M_0)/(Sigma/sqrt(n))\n",
        "  if H_A == 1:\n",
        "    Z = norm.isf(Alpha)\n",
        "    if Estadistico_Prueba >= Z:\n",
        "      return [Estadistico_Prueba,Z,'Rechazamos la hipotesis nula']\n",
        "    else:\n",
        "      return [Estadistico_Prueba,Z,'No rechazamos la hipotesis nula']\n",
        "  elif H_A == 2:\n",
        "    Z = -norm.isf(Alpha)\n",
        "    if Estadistico_Prueba <= Z:\n",
        "      return [Estadistico_Prueba,Z,'Rechazamos la hipotesis nula']\n",
        "    else:\n",
        "      return [Estadistico_Prueba,Z,'No rechazamos la hipotesis nula']\n",
        "  elif H_A == 3:\n",
        "    Z = norm.isf(Alpha/2)\n",
        "    if abs(Estadistico_Prueba) >= Z:\n",
        "      return [abs(Estadistico_Prueba),Z,'Rechazamos la hipotesis nula']\n",
        "    else:\n",
        "      return [abs(Estadistico_Prueba),Z,'No rechazamos la hipotesis nula']"
      ],
      "execution_count": 26,
      "outputs": []
    },
    {
      "cell_type": "markdown",
      "metadata": {
        "id": "XKGFFlcOzV5a"
      },
      "source": [
        "**EJEMPLO**"
      ]
    },
    {
      "cell_type": "markdown",
      "metadata": {
        "id": "litFZUuqzX39"
      },
      "source": [
        "Ejemplo 13.2 del libro"
      ]
    },
    {
      "cell_type": "code",
      "metadata": {
        "colab": {
          "base_uri": "https://localhost:8080/",
          "height": 35
        },
        "id": "Zfx4WXiX0I0G",
        "outputId": "e2009f29-a7a8-4e05-b92b-124b74a89897"
      },
      "source": [
        "PH_1_Media_Z(Bar_X = 21819,M_0 = 22000, Sigma = 1295,n = 100,Alpha = 0.05,Var_Pob = False,H_A = 2)[2]"
      ],
      "execution_count": 27,
      "outputs": [
        {
          "output_type": "execute_result",
          "data": {
            "application/vnd.google.colaboratory.intrinsic+json": {
              "type": "string"
            },
            "text/plain": [
              "'No rechazamos la hipotesis nula'"
            ]
          },
          "metadata": {
            "tags": []
          },
          "execution_count": 27
        }
      ]
    },
    {
      "cell_type": "code",
      "metadata": {
        "colab": {
          "base_uri": "https://localhost:8080/"
        },
        "id": "p2iFnA0oE2Fl",
        "outputId": "4cda508b-cfaf-41e6-ae4d-551e97d0cc3c"
      },
      "source": [
        "print('Estadistico de prueba',PH_1_Media_Z(Bar_X = 21819,M_0 = 22000, Sigma = 1295,n = 100,Alpha = 0.05,Var_Pob = False,H_A = 2)[0],\n",
        "      '\\nValor de Z',PH_1_Media_Z(Bar_X = 21819,M_0 = 22000, Sigma = 1295,n = 100,Alpha = 0.05,Var_Pob = False,H_A = 2)[1])"
      ],
      "execution_count": 28,
      "outputs": [
        {
          "output_type": "stream",
          "text": [
            "Estadistico de prueba -1.3976833976833978 \n",
            "Valor de Z -1.6448536269514729\n"
          ],
          "name": "stdout"
        }
      ]
    },
    {
      "cell_type": "markdown",
      "metadata": {
        "id": "bWxH_PLalOG7"
      },
      "source": [
        "### Prueba $t$"
      ]
    },
    {
      "cell_type": "markdown",
      "metadata": {
        "id": "mxDV-Oui0qLh"
      },
      "source": [
        "Condiciontes de la prueba $t$\n",
        "\n",
        "|Condicion|Descripción|\n",
        "|---------|-----------|\n",
        "|1|Se aplica cuando el tamaño de muestra es menor a 30 y $\\sigma^2$ es desconocida|\n",
        "\n",
        "Prueba $t$\n",
        "\n",
        "|Hipótesis nula $(H_0)$|Hipótesis alternativa $(H_1)$|Se rechaza $H_0$ sí|Estadístico de prueba|\n",
        "|--|--|--|--|\n",
        "|$$H_0 : \\mu = \\mu_0$$|$$H_1 : \\mu > \\mu_0$$|$$t\\geq t_{\\alpha,n-1}$$|$$t = \\frac{\\bar{x}-\\mu_0}{s/\\sqrt{n}}$$|\n",
        "|$$H_0 : \\mu = \\mu_0$$|$$H_1 : \\mu < \\mu_0$$|$$t\\leq -t_{\\alpha,n-1}$$|$$t = \\frac{\\bar{x}-\\mu_0}{s/\\sqrt{n}}$$|\n",
        "|$$H_0 : \\mu = \\mu_0$$|$$H_1 : \\mu \\neq \\mu_0$$|$$|t|\\geq t_{\\alpha/2,n-1}$$|$$t = \\frac{\\bar{x}-\\mu_0}{s/\\sqrt{n}}$$|"
      ]
    },
    {
      "cell_type": "code",
      "metadata": {
        "id": "95OsimaC1xWI"
      },
      "source": [
        "def PH_1_Media_t (Bar_X,M_0,Sigma,n,Alpha,H_A):\n",
        "  '''\n",
        "  Bar_X : Media de la muestra\n",
        "\n",
        "  M_0 : Media a comparar\n",
        "\n",
        "  Sigma : Desviacion de la muestra\n",
        "\n",
        "  n : Longitud de la muestra\n",
        "\n",
        "  Alpha : Probabilidad deseada. Un valor entre 0 y 1\n",
        "\n",
        "  H_A : Recibe el valor 1, 2 o 3 segun sea el caso de la hipotesis alternativa\n",
        "  a realizar. Si es 1 entonces la hipotesis alternativa es Mu > Mu_0, si es 2\n",
        "  entonces la hipotesis alternativa es Mu < Mu_0 y si es 3 entonces la hipotesis\n",
        "  alternativa es Mu != Mu_0\n",
        "  '''\n",
        "  from scipy.stats import t\n",
        "  from math import sqrt\n",
        "  Estadistico_Prueba = (Bar_X-M_0)/(Sigma/sqrt(n))\n",
        "  if H_A == 1:\n",
        "    t_v = t.isf(Alpha,n-1)\n",
        "    if Estadistico_Prueba >= t_v:\n",
        "      return [Estadistico_Prueba,t_v,'Rechazamos la hipotesis nula']\n",
        "    else:\n",
        "      return [Estadistico_Prueba,t_v,'No rechazamos la hipotesis nula']\n",
        "  elif H_A == 2:\n",
        "    t_v = -t.isf(Alpha,n-1)\n",
        "    if Estadistico_Prueba <= t_v:\n",
        "      return [Estadistico_Prueba,t_v,'Rechazamos la hipotesis nula']\n",
        "    else:\n",
        "      return [Estadistico_Prueba,t_v,'No rechazamos la hipotesis nula']\n",
        "  elif H_A == 3:\n",
        "    t_v = t.isf(Alpha/2,n-1)\n",
        "    if abs(Estadistico_Prueba) >= t_v:\n",
        "      return [abs(Estadistico_Prueba),t_v,'Rechazamos la hipotesis nula']\n",
        "    else:\n",
        "      return [abs(Estadistico_Prueba),t_v,'No rechazamos la hipotesis nula']"
      ],
      "execution_count": 29,
      "outputs": []
    },
    {
      "cell_type": "markdown",
      "metadata": {
        "id": "HU_ZTWsMF4Hj"
      },
      "source": [
        "**EJEMPLO**"
      ]
    },
    {
      "cell_type": "markdown",
      "metadata": {
        "id": "18vWFj02F5QY"
      },
      "source": [
        "Los datos se obtuvieron del siguiente video\n",
        "\n",
        "https://www.youtube.com/watch?v=muHwIBu6s8Y&ab_channel=MaestroGustavo"
      ]
    },
    {
      "cell_type": "code",
      "metadata": {
        "colab": {
          "base_uri": "https://localhost:8080/",
          "height": 35
        },
        "id": "tUNKhj0iF7n4",
        "outputId": "069e99e4-fa26-40a4-9555-8636e0b25916"
      },
      "source": [
        "from statistics import mean,stdev\n",
        "Datos = [88,82,81,87,80,78,79,89,83,88,79,85,81,77,78,85]\n",
        "\n",
        "#CONCLUSION\n",
        "PH_1_Media_t(Bar_X=mean(Datos),M_0=87,Sigma=stdev(Datos),n=len(Datos),Alpha=0.05,H_A=2)[2]"
      ],
      "execution_count": 30,
      "outputs": [
        {
          "output_type": "execute_result",
          "data": {
            "application/vnd.google.colaboratory.intrinsic+json": {
              "type": "string"
            },
            "text/plain": [
              "'Rechazamos la hipotesis nula'"
            ]
          },
          "metadata": {
            "tags": []
          },
          "execution_count": 30
        }
      ]
    },
    {
      "cell_type": "code",
      "metadata": {
        "colab": {
          "base_uri": "https://localhost:8080/"
        },
        "id": "8SAlwGxeHAGB",
        "outputId": "fdc4150b-20ce-4e20-fae8-25d56a69b631"
      },
      "source": [
        "#ESTADISTICO DE PRUEBA Y VALOR DE t\n",
        "print('Estadistico de prueba',PH_1_Media_t(Bar_X=mean(Datos),M_0=87,Sigma=stdev(Datos),n=len(Datos),Alpha=0.05,H_A=2)[0],\n",
        "      '\\nValor de t',PH_1_Media_t(Bar_X=mean(Datos),M_0=87,Sigma=stdev(Datos),n=len(Datos),Alpha=0.05,H_A=2)[1])"
      ],
      "execution_count": 31,
      "outputs": [
        {
          "output_type": "stream",
          "text": [
            "Estadistico de prueba -4.4813663795877225 \n",
            "Valor de t -1.7530503556925552\n"
          ],
          "name": "stdout"
        }
      ]
    },
    {
      "cell_type": "markdown",
      "metadata": {
        "id": "7iN_73Fd6wKp"
      },
      "source": [
        "## Prueba de hipótesis para dos medias"
      ]
    },
    {
      "cell_type": "markdown",
      "metadata": {
        "id": "PraCIFjd6zOc"
      },
      "source": [
        "Dadas dos muestras aleatorias independientes de tamaños $n_1$ y $n_2$ tomadas de poblaciones normales con $\\sigma_1^2$ y $\\sigma_2^2$ conocidas."
      ]
    },
    {
      "cell_type": "markdown",
      "metadata": {
        "id": "38APlGnG6-Tu"
      },
      "source": [
        "### Prueba $Z$"
      ]
    },
    {
      "cell_type": "markdown",
      "metadata": {
        "id": "XkoCi9eP7AC5"
      },
      "source": [
        "Condiciones para la prueba $Z$\n",
        "\n",
        "|Condición|Descripción|\n",
        "|--|--|\n",
        "|1|Poblaciones normales y $\\sigma_1^2,\\sigma_2^2$ conocidas|\n",
        "|2|$$n_1,n_2 \\geq 30$$|"
      ]
    },
    {
      "cell_type": "markdown",
      "metadata": {
        "id": "8YRBKKD07UTw"
      },
      "source": [
        "Prueba $Z$\n",
        "\n",
        "|Hipótesis nula $(H_0)$|Hipótesis alternativa $(H_1)$|Se rechaza $H_0$ sí|Estadístico de prueba|\n",
        "|--|--|--|--|\n",
        "|$$H_0 : \\mu_1 - \\mu_2 = \\delta$$|$$H_1 : \\mu_1 - \\mu_2 > \\delta$$|$$z\\geq z_{\\alpha}$$|$$z = \\frac{(\\bar{x_1}-\\bar{x_2})-\\delta}{\\sqrt{\\frac{\\sigma_1^2}{n_1} + \\frac{\\sigma_2^2}{n_2} }}$$|\n",
        "|$$H_0 : \\mu_1 - \\mu_2 = \\delta$$|$$H_1 : \\mu_1 - \\mu_2 < \\delta$$|$$z\\leq -z_{\\alpha}$$|$$z = \\frac{(\\bar{x_1}-\\bar{x_2})-\\delta}{\\sqrt{\\frac{\\sigma_1^2}{n_1} + \\frac{\\sigma_2^2}{n_2} }}$$|\n",
        "|$$H_0 : \\mu_1 - \\mu_2 = \\delta$$|$$H_1 : \\mu_1 - \\mu_2 \\neq \\delta$$|$$|z|\\geq z_{\\alpha/2}$$|$$z = \\frac{(\\bar{x_1}-\\bar{x_2})-\\delta}{\\sqrt{\\frac{\\sigma_1^2}{n_1} + \\frac{\\sigma_2^2}{n_2} }}$$|\n",
        "\n",
        "Sí deseamos saber si una media es mayor, menor o distinta de otra media hacemos $\\delta = 0$"
      ]
    },
    {
      "cell_type": "code",
      "metadata": {
        "id": "3Zu5QYlF9qUB"
      },
      "source": [
        "def PH_2_Media_Z (Bar_X_1,Varianza_1,n_1,Bar_X_2,Varianza_2,n_2,Delta,Alpha,H_A):\n",
        "  '''\n",
        "  Bar_X_i : Media de la muestra i\n",
        "\n",
        "  Delta : Valor a comparar\n",
        "\n",
        "  Varianza_i : Varianza de la muestra i\n",
        "\n",
        "  n_i : Longitud de la muestra i\n",
        "\n",
        "  Alpha : Probabilidad deseada. Un valor entre 0 y 1\n",
        "\n",
        "  H_A : Recibe el valor 1, 2 o 3 segun sea el caso de la hipotesis alternativa\n",
        "  a realizar. Si es 1 entonces la hipotesis alternativa es Mu_1 > Mu_0, si es 2\n",
        "  entonces la hipotesis alternativa es Mu_1 < Mu_0 y si es 3 entonces la hipotesis\n",
        "  alternativa es Mu_1 != Mu_0\n",
        "  '''\n",
        "  from scipy.stats import norm\n",
        "  from math import sqrt\n",
        "  Estadistico_Prueba = ((Bar_X_1 - Bar_X_2) - Delta)/sqrt((Varianza_1/n_1)+(Varianza_2/n_2))\n",
        "  if H_A == 1:\n",
        "    Z = norm.isf(Alpha)\n",
        "    if Estadistico_Prueba >= Z:\n",
        "      return [Estadistico_Prueba,Z,'Rechazamos la hipotesis nula']\n",
        "    else:\n",
        "      return [Estadistico_Prueba,Z,'No rechazamos la hipotesis nula']\n",
        "  elif H_A == 2:\n",
        "    Z = -norm.isf(Alpha)\n",
        "    if Estadistico_Prueba <= Z:\n",
        "      return [Estadistico_Prueba,Z,'Rechazamos la hipotesis nula']\n",
        "    else:\n",
        "      return [Estadistico_Prueba,Z,'No rechazamos la hipotesis nula']\n",
        "  elif H_A == 3:\n",
        "    Z = norm.isf(Alpha/2)\n",
        "    if abs(Estadistico_Prueba) >= Z:\n",
        "      return [abs(Estadistico_Prueba),Z,'Rechazamos la hipotesis nula']\n",
        "    else:\n",
        "      return [abs(Estadistico_Prueba),Z,'No rechazamos la hipotesis nula']"
      ],
      "execution_count": 32,
      "outputs": []
    },
    {
      "cell_type": "markdown",
      "metadata": {
        "id": "sH5AzuuyCO5V"
      },
      "source": [
        "**EJEMPLO**"
      ]
    },
    {
      "cell_type": "markdown",
      "metadata": {
        "id": "6217oOO2CQaX"
      },
      "source": [
        "Los datos se obtuvieron del siguiente video\n",
        "\n",
        "https://www.youtube.com/watch?v=8HLhlN1BDjA&ab_channel=MaestroGustavo"
      ]
    },
    {
      "cell_type": "code",
      "metadata": {
        "id": "TRxPSUBqCUEs"
      },
      "source": [
        "Media_Colegio_A = 135\n",
        "Varianza_Colegio_A = 19**2\n",
        "n_Colegio_A = 50\n",
        "Media_Colegio_B = 141\n",
        "Varianza_Colegio_B = 27**2\n",
        "n_Colegio_B = 63\n",
        "Delta = 0\n",
        "Alpha = 0.05\n",
        "H_A = 2 #VEREMOS SI LA MEDIA DEL COLEGIO B ES MAYOR A LA DEL COLEGIO A"
      ],
      "execution_count": 33,
      "outputs": []
    },
    {
      "cell_type": "code",
      "metadata": {
        "colab": {
          "base_uri": "https://localhost:8080/",
          "height": 35
        },
        "id": "kgmXoiI5DnIe",
        "outputId": "592aef22-c5f1-40d5-92ca-4e5d5b158062"
      },
      "source": [
        "#CONCLUSION\n",
        "PH_2_Media_Z(Bar_X_1 = Media_Colegio_A,Varianza_1=Varianza_Colegio_A,\n",
        "             n_1=n_Colegio_A,Bar_X_2=Media_Colegio_B,\n",
        "             Varianza_2=Varianza_Colegio_B,n_2=n_Colegio_B,\n",
        "             Delta=Delta,Alpha=Alpha,H_A=H_A)[2]"
      ],
      "execution_count": 34,
      "outputs": [
        {
          "output_type": "execute_result",
          "data": {
            "application/vnd.google.colaboratory.intrinsic+json": {
              "type": "string"
            },
            "text/plain": [
              "'No rechazamos la hipotesis nula'"
            ]
          },
          "metadata": {
            "tags": []
          },
          "execution_count": 34
        }
      ]
    },
    {
      "cell_type": "code",
      "metadata": {
        "colab": {
          "base_uri": "https://localhost:8080/"
        },
        "id": "SW5S8ENrEZ7C",
        "outputId": "7533b594-4f34-433a-f7c6-cb24a1c36534"
      },
      "source": [
        "#ESTADISTICO DE PRUEBA Y VALOR DE Z\n",
        "print('Estadistico de prueba',PH_2_Media_Z(Bar_X_1 = Media_Colegio_A,Varianza_1=Varianza_Colegio_A,\n",
        "             n_1=n_Colegio_A,Bar_X_2=Media_Colegio_B,\n",
        "             Varianza_2=Varianza_Colegio_B,n_2=n_Colegio_B,\n",
        "             Delta=Delta,Alpha=Alpha,H_A=H_A)[0],'\\nValor de Z',PH_2_Media_Z(Bar_X_1 = Media_Colegio_A,Varianza_1=Varianza_Colegio_A,\n",
        "             n_1=n_Colegio_A,Bar_X_2=Media_Colegio_B,\n",
        "             Varianza_2=Varianza_Colegio_B,n_2=n_Colegio_B,\n",
        "             Delta=Delta,Alpha=Alpha,H_A=H_A)[1])"
      ],
      "execution_count": 35,
      "outputs": [
        {
          "output_type": "stream",
          "text": [
            "Estadistico de prueba -1.3841123751530606 \n",
            "Valor de Z -1.6448536269514729\n"
          ],
          "name": "stdout"
        }
      ]
    },
    {
      "cell_type": "markdown",
      "metadata": {
        "id": "ER-aO37t8Pt3"
      },
      "source": [
        "### Prueba $t$"
      ]
    },
    {
      "cell_type": "markdown",
      "metadata": {
        "id": "WX94p1YQ8Ru_"
      },
      "source": [
        "Condiciones para la prueba $t$\n",
        "\n",
        "|Condición|Descripción|\n",
        "|--|--|\n",
        "|1|$n_1,n_2$ son menores o iguales a 29 y $\\sigma_1^2,\\sigma_2^2$ son desconocidas pero iguales|"
      ]
    },
    {
      "cell_type": "markdown",
      "metadata": {
        "id": "sHzCfuPZ8eZT"
      },
      "source": [
        "Prueba $t$\n",
        "\n",
        "|Hipótesis nula $(H_0)$|Hipótesis alternativa $(H_1)$|Se rechaza $H_0$ sí|Estadístico de prueba|\n",
        "|--|--|--|--|\n",
        "|$$H_0 : \\mu_1 - \\mu_2 = \\delta$$|$$H_1 : \\mu_1 - \\mu_2 > \\delta$$|$$t \\geq t_{\\alpha,n_1+n_2-2}$$|$$t = \\frac{(\\bar{x_1}-\\bar{x_2})-\\delta}{S_p\\cdot \\sqrt{\\frac{1}{n_1} + \\frac{1}{n_2} }}$$|\n",
        "|$$H_0 : \\mu_1 - \\mu_2 = \\delta$$|$$H_1 : \\mu_1 - \\mu_2 < \\delta$$|$$t \\leq -t_{\\alpha,n_1+n_2-2}$$|$$t = \\frac{(\\bar{x_1}-\\bar{x_2})-\\delta}{S_p\\cdot \\sqrt{\\frac{1}{n_1} + \\frac{1}{n_2} }}$$|\n",
        "|$$H_0 : \\mu_1 - \\mu_2 = \\delta$$|$$H_1 : \\mu_1 - \\mu_2 \\neq \\delta$$|$$|t| \\geq t_{\\alpha/2,n_1+n_2-2}$$|$$t = \\frac{(\\bar{x_1}-\\bar{x_2})-\\delta}{S_p\\cdot \\sqrt{\\frac{1}{n_1} + \\frac{1}{n_2} }}$$|\n",
        "\n",
        "Donde\n",
        "\n",
        "$$S_p = \\sqrt{\\frac{(n_1-1)s_1^2+(n_2-1)s_2^2}{n_1+n_2-2} }$$\n",
        "\n",
        "Sí deseamos saber si una media es mayor, menor o distinta de otra media hacemos $\\delta = 0$"
      ]
    },
    {
      "cell_type": "code",
      "metadata": {
        "id": "4sduJ93RY9zA"
      },
      "source": [
        "#HACEMOS USO DE LA FUNCION ANTERIOR DEFINIDA S_p_Function\n",
        "\n",
        "def PH_2_Media_t (Bar_X_1,Varianza_1,n_1,Bar_X_2,Varianza_2,n_2,Delta,Alpha,H_A):\n",
        "  '''\n",
        "  Bar_X_i : Media de la muestra i\n",
        "\n",
        "  Delta : Valor a comparar\n",
        "\n",
        "  Varianza_i : Varianza de la muestra i\n",
        "\n",
        "  n_i : Longitud de la muestra i\n",
        "\n",
        "  Alpha : Probabilidad deseada. Un valor entre 0 y 1\n",
        "\n",
        "  H_A : Recibe el valor 1, 2 o 3 segun sea el caso de la hipotesis alternativa\n",
        "  a realizar. Si es 1 entonces la hipotesis alternativa es Mu_1 > Mu_0, si es 2\n",
        "  entonces la hipotesis alternativa es Mu_1 < Mu_0 y si es 3 entonces la hipotesis\n",
        "  alternativa es Mu_1 != Mu_0\n",
        "  '''\n",
        "  from scipy.stats import t\n",
        "  from math import sqrt\n",
        "  Estadistico_Prueba = ( (Bar_X_1-Bar_X_2) - Delta ) / (S_p_Function(n_1,n_2,Varianza_1,Varianza_2)*sqrt( (1/n_1)+(1/n_2) ) ) \n",
        "  if H_A == 1:\n",
        "    t_v = t.isf(Alpha,n_1+n_2-2)\n",
        "    if Estadistico_Prueba >= t_v :\n",
        "      return [Estadistico_Prueba,t_v,'Rechazamos la hipotesis nula']\n",
        "    else:\n",
        "      return [Estadistico_Prueba,t_v,'No rechazamos la hipotesis nula']\n",
        "  elif H_A == 2:\n",
        "    t_v = -t.isf(Alpha,n_1+n_2-2)\n",
        "    if Estadistico_Prueba <= t_v:\n",
        "      return [Estadistico_Prueba,t_v,'Rechazamos la hipotesis nula']\n",
        "    else:\n",
        "      return [Estadistico_Prueba,t_v,'No rechazamos la hipotesis nula']\n",
        "  elif H_A == 3:\n",
        "    t_v = t.isf(Alpha/2,n_1+n_2-2)\n",
        "    if abs(Estadistico_Prueba)>= t_v:\n",
        "      return [abs(Estadistico_Prueba),t_v,'Rechazamos la hipotesis nula']\n",
        "    else:\n",
        "      return [abs(Estadistico_Prueba),t_v,'No rechazamos la hipotesis nula']"
      ],
      "execution_count": 36,
      "outputs": []
    },
    {
      "cell_type": "markdown",
      "metadata": {
        "id": "9Lmndztt_isc"
      },
      "source": [
        "**EJEMPLO**"
      ]
    },
    {
      "cell_type": "markdown",
      "metadata": {
        "id": "-HdmVDuP_j2T"
      },
      "source": [
        "Los datos se obtuvieron del siguiente video\n",
        "\n",
        "https://www.youtube.com/watch?v=8K7QbatdrIA"
      ]
    },
    {
      "cell_type": "code",
      "metadata": {
        "id": "tayT3ESb_l6g"
      },
      "source": [
        "from statistics import mean, variance\n",
        "Mujeres = [12,11,14,13,13,14,13,12,14,12]\n",
        "Hombres = [13,10,11,12,13,12,10,12]\n",
        "Mujeres_n = len(Mujeres)\n",
        "Hombres_n = len(Hombres)\n",
        "Mujeres_Media  = mean(Mujeres)\n",
        "Hombres_Media  = mean(Hombres)\n",
        "Mujeres_Varianza = variance(Mujeres)\n",
        "Hombres_Varianza = variance(Hombres)\n",
        "#QUEREMOS PROBAR QUE LA MEDIA DE LAS MUJERES ES MAYOR AL DE LOS HOMBRES"
      ],
      "execution_count": 37,
      "outputs": []
    },
    {
      "cell_type": "code",
      "metadata": {
        "colab": {
          "base_uri": "https://localhost:8080/",
          "height": 35
        },
        "id": "_P1NcorQhWni",
        "outputId": "119bb841-4135-4061-ea07-a9656802a850"
      },
      "source": [
        "PH_2_Media_t(Bar_X_1=Mujeres_Media,Varianza_1=Mujeres_Varianza,n_1=Mujeres_n,Bar_X_2=Hombres_Media,Varianza_2=Hombres_Varianza,n_2=Hombres_n,Delta=0,Alpha=0.05,H_A = 1)[2]"
      ],
      "execution_count": 38,
      "outputs": [
        {
          "output_type": "execute_result",
          "data": {
            "application/vnd.google.colaboratory.intrinsic+json": {
              "type": "string"
            },
            "text/plain": [
              "'Rechazamos la hipotesis nula'"
            ]
          },
          "metadata": {
            "tags": []
          },
          "execution_count": 38
        }
      ]
    },
    {
      "cell_type": "code",
      "metadata": {
        "colab": {
          "base_uri": "https://localhost:8080/"
        },
        "id": "CI4dK1AGhxFk",
        "outputId": "6b4a84cf-17ec-46ed-c2d7-f30527a1f268"
      },
      "source": [
        "print('Estadistico de prueba',PH_2_Media_t(Bar_X_1=Mujeres_Media,Varianza_1=Mujeres_Varianza,n_1=Mujeres_n,Bar_X_2=Hombres_Media,Varianza_2=Hombres_Varianza,n_2=Hombres_n,Delta=0,Alpha=0.05,H_A = 1)[0],\n",
        "      '\\nValor de t',PH_2_Media_t(Bar_X_1=Mujeres_Media,Varianza_1=Mujeres_Varianza,n_1=Mujeres_n,Bar_X_2=Hombres_Media,Varianza_2=Hombres_Varianza,n_2=Hombres_n,Delta=0,Alpha=0.05,H_A = 1)[1])"
      ],
      "execution_count": 39,
      "outputs": [
        {
          "output_type": "stream",
          "text": [
            "Estadistico de prueba 2.2452663402200597 \n",
            "Valor de t 1.7458836762762404\n"
          ],
          "name": "stdout"
        }
      ]
    },
    {
      "cell_type": "markdown",
      "metadata": {
        "id": "B0o83Q7UiceN"
      },
      "source": [
        "## Prueba de hipótesis para una varianza"
      ]
    },
    {
      "cell_type": "markdown",
      "metadata": {
        "id": "PrlKgirqifOp"
      },
      "source": [
        "|Hipótesis nula $(H_0)$|Hipótesis alternativa $(H_1)$|Se rechaza $H_0$ sí|Estadístico de prueba|\n",
        "|--|--|--|--|\n",
        "|$$H_0 : \\sigma^2 = \\sigma_0^2$$|$$H_1 : \\sigma^2 > \\sigma_0^2$$|$$\\chi^2 \\geq \\chi^2_{\\alpha,n-1}$$|$$\\chi^2 = \\frac{(n-1)s^2}{\\sigma_0^2}$$|\n",
        "|$$H_0 : \\sigma^2 = \\sigma_0^2$$|$$H_1 : \\sigma^2 < \\sigma_0^2$$|$$\\chi^2 \\leq \\chi^2_{1-\\alpha,n-1}$$|$$\\chi^2 = \\frac{(n-1)s^2}{\\sigma_0^2}$$|\n",
        "|$$H_0 : \\sigma^2 = \\sigma_0^2$$|$$H_1 : \\sigma^2 \\neq \\sigma_0^2$$|$$\\chi^2 \\geq \\chi^2_{\\alpha/2,n-1}$$|$$\\chi^2 = \\frac{(n-1)s^2}{\\sigma_0^2}$$|"
      ]
    },
    {
      "cell_type": "code",
      "metadata": {
        "id": "GiJ35Izqj0cQ"
      },
      "source": [
        "def PH_1_Varianza (n,Varianza_0,Varianza,Alpha,H_A):\n",
        "  '''\n",
        "  n : Longitud de la muestra\n",
        "\n",
        "  Varianza_0 : Varianza a comparar.\n",
        "\n",
        "  Varianza : Valor de la varianza muestral.\n",
        "\n",
        "  Alpha : Probabilidad deseada. Un valor entre 0 y 1\n",
        "\n",
        "  H_A : Recibe el valor 1, 2 o 3 segun sea el caso de la hipotesis alternativa\n",
        "  a realizar. Si es 1 entonces la hipotesis alternativa es Var > Var_0, si es 2\n",
        "  entonces la hipotesis alternativa es Var < Var_0 y si es 3 entonces la hipotesis\n",
        "  alternativa es Var != Var_0\n",
        "  '''\n",
        "  from scipy.stats import chi2\n",
        "  Estadistico_Prueba = ((n-1)*Varianza)/Varianza_0\n",
        "  if H_A == 1:\n",
        "    Chi_2 = chi2.isf(Alpha,n-1)\n",
        "    if Estadistico_Prueba >= Chi_2:\n",
        "      return [Estadistico_Prueba,Chi_2,'Rechazamos la hipotesis nula']\n",
        "    else:\n",
        "      return [Estadistico_Prueba,Chi_2,'No rechazamos la hipotesis nula']\n",
        "  elif H_A == 2:\n",
        "    Chi_2 = chi2.isf(1-Alpha,n-1)\n",
        "    if Estadistico_Prueba <= Chi_2:\n",
        "      return [Estadistico_Prueba,Chi_2,'Rechazamos la hipotesis nula']\n",
        "    else:\n",
        "      return [Estadistico_Prueba,Chi_2,'No rechazamos la hipotesis nula']\n",
        "  elif H_A == 3:\n",
        "    Chi_2 = chi2.isf(Alpha/2,n-1)\n",
        "    if Estadistico_Prueba >= Chi_2:\n",
        "      return [Estadistico_Prueba,Chi_2,'Rechazamos la hipotesis nula']\n",
        "    else:\n",
        "      return [Estadistico_Prueba,Chi_2,'No rechazamos la hipotesis nula']"
      ],
      "execution_count": 40,
      "outputs": []
    },
    {
      "cell_type": "markdown",
      "metadata": {
        "id": "DVdxFJ5ul3Gc"
      },
      "source": [
        "**EJEMPLO**"
      ]
    },
    {
      "cell_type": "markdown",
      "metadata": {
        "id": "k5WqoAAll4PR"
      },
      "source": [
        "Los datos se obtuvieron del siguiente video\n",
        "\n",
        "https://www.youtube.com/watch?v=qrtBrueW_sE"
      ]
    },
    {
      "cell_type": "code",
      "metadata": {
        "colab": {
          "base_uri": "https://localhost:8080/",
          "height": 35
        },
        "id": "KfHLEOlUl9RR",
        "outputId": "f3739312-db0c-40e0-94e6-86b968b954c0"
      },
      "source": [
        "PH_1_Varianza(n = 20,Varianza_0=18,Varianza = 22.63,Alpha = 0.01, H_A = 1)[2]"
      ],
      "execution_count": 41,
      "outputs": [
        {
          "output_type": "execute_result",
          "data": {
            "application/vnd.google.colaboratory.intrinsic+json": {
              "type": "string"
            },
            "text/plain": [
              "'No rechazamos la hipotesis nula'"
            ]
          },
          "metadata": {
            "tags": []
          },
          "execution_count": 41
        }
      ]
    },
    {
      "cell_type": "code",
      "metadata": {
        "colab": {
          "base_uri": "https://localhost:8080/"
        },
        "id": "ELAujGE_mWY8",
        "outputId": "b7fb00d4-b300-44cc-f1e8-a4072b856d95"
      },
      "source": [
        "print('Estadistico de prueba',PH_1_Varianza(n = 20,Varianza_0=18,Varianza = 22.63,Alpha = 0.01, H_A = 1)[0],\n",
        "      '\\nValor de Chi^2',PH_1_Varianza(n = 20,Varianza_0=18,Varianza = 22.63,Alpha = 0.01, H_A = 1)[1])"
      ],
      "execution_count": 42,
      "outputs": [
        {
          "output_type": "stream",
          "text": [
            "Estadistico de prueba 23.88722222222222 \n",
            "Valor de Chi^2 36.19086912927005\n"
          ],
          "name": "stdout"
        }
      ]
    },
    {
      "cell_type": "markdown",
      "metadata": {
        "id": "XMYvTLckne0-"
      },
      "source": [
        "##Prueba de hipótesis para dos varianzas"
      ]
    },
    {
      "cell_type": "markdown",
      "metadata": {
        "id": "zFg3dQRunhet"
      },
      "source": [
        "Dadas dos muestras aleatorias independientes de tamaño $n_1$ y $n_2$ tomadas de poblaciones normales.\n",
        "\n",
        "|Hipótesis nula $(H_0)$|Hipótesis alternativa $(H_1)$|Se rechaza $H_0$ sí|\n",
        "|--|--|--|\n",
        "|$$H_0 : \\sigma_1^2 = \\sigma_2^2$$|$$H_1 : \\sigma_1^2 > \\sigma_2^2$$ | $$\\frac{s_1^2}{s_2^2}\\geq f_{\\alpha,n_1-1,n_2-1}$$|\n",
        "|$$H_0 : \\sigma^2 = \\sigma_0^2$$|$$H_1 : \\sigma_1^2 < \\sigma_2^2$$|$$\\frac{s_2^2}{s_1^2}\\geq f_{\\alpha,n_2-1,n_1-1}$$|\n",
        "|$$H_0 : \\sigma^2 = \\sigma_0^2$$|$$H_1 : \\sigma^2 \\neq \\sigma_0^2$$|$$\\text{Sí }s_1^2>s_2^2\\implies \\frac{s_1^2}{s_2^2}\\geq f_{\\alpha/2,n_1-1,n_2-1}$$ $$ $$$$\\text{Sí }s_2^2>s_1^2\\implies \\frac{s_2^2}{s_1^2}\\geq f_{\\alpha/2,n_2-1,n_1-1}$$|"
      ]
    },
    {
      "cell_type": "code",
      "metadata": {
        "id": "QeMSgE-2p9_U"
      },
      "source": [
        "def PH_2_Varianza (Varianza_1,n_1,Varianza_2,n_2,Alpha,H_A):\n",
        "  '''\n",
        "  Varianza_1 : Varianza de la muestra 1\n",
        "\n",
        "  n_1 : Longitud de la muestra 1\n",
        "\n",
        "  Varianza_2 : Varianza de la muestra 2\n",
        "\n",
        "  n_2 : Longitud de la muestra 2\n",
        "\n",
        "  Alpha : Probabilidad deseada. Un valor entre 0 y 1\n",
        "\n",
        "  H_A :  Recibe el valor 1, 2 o 3 segun sea el caso de la hipotesis alternativa\n",
        "  a realizar. Si es 1 entonces la hipotesis alternativa es Var_1 > Var_2, si es 2\n",
        "  entonces la hipotesis alternativa es Var_1 < Var_2 y si es 3 entonces la hipotesis\n",
        "  alternativa es Var_1 != Var_2\n",
        "  '''\n",
        "  from scipy.stats import f\n",
        "  Estadistico_Prueba_1 = Varianza_1/Varianza_2\n",
        "  Estadistico_Prueba_2 = Varianza_2/Varianza_1\n",
        "  if H_A == 1:\n",
        "    f_v = f.isf(Alpha,n_1-1,n_2-1)\n",
        "    if Estadistico_Prueba_1>=f_v:\n",
        "      return [Estadistico_Prueba_1,f_v,'Rechazamos la hipotesis nula']\n",
        "    else:\n",
        "      return [Estadistico_Prueba_1,f_v,'No rechazamos la hipotesis nula']\n",
        "  elif H_A == 2:\n",
        "    f_v = f.isf(Alpha,n_2-1,n_1-1)\n",
        "    if Estadistico_Prueba_2>=f_v:\n",
        "      return [Estadistico_Prueba_2,f_v,'Rechazamos la hipotesis nula']\n",
        "    else:\n",
        "      return [Estadistico_Prueba_2,f_v,'No rechazamos la hipotesis nula']\n",
        "  elif H_A == 3:\n",
        "    if Varianza_1 > Varianza_2:\n",
        "      f_v = f.isf(Alpha/2,n_1-1,n_2-1)\n",
        "      if Estadistico_Prueba_1>=f_v:\n",
        "        return [Estadistico_Prueba_1,f_v,'Rechazamos la hipotesis nula']\n",
        "      else:\n",
        "        return [Estadistico_Prueba_1,f_v,'No rechazamos la hipotesis nula']\n",
        "    elif Varianza_2 > Varianza_1:\n",
        "      f_v = f.isf(Alpha/2,n_2-1,n_1-1)\n",
        "      if Estadistico_Prueba_2>=f_v:\n",
        "        return [Estadistico_Prueba_2,f_v,'Rechazamos la hipotesis nula']\n",
        "      else:\n",
        "        return [Estadistico_Prueba_2,f_v,'No rechazamos la hipotesis nula']"
      ],
      "execution_count": 43,
      "outputs": []
    },
    {
      "cell_type": "markdown",
      "metadata": {
        "id": "nFWGl28Esijb"
      },
      "source": [
        "**EJEMPLO**"
      ]
    },
    {
      "cell_type": "markdown",
      "metadata": {
        "id": "HipcgaFFsj1x"
      },
      "source": [
        "Ejemplo 13.7 del libro"
      ]
    },
    {
      "cell_type": "code",
      "metadata": {
        "colab": {
          "base_uri": "https://localhost:8080/",
          "height": 35
        },
        "id": "fTJ7l8lZsnvg",
        "outputId": "a93ae649-acf1-4277-c0fb-91483e159d22"
      },
      "source": [
        "#CONCLUSION\n",
        "PH_2_Varianza(Varianza_1=19.2,n_1=13,Varianza_2=3.5,n_2=16,Alpha = 0.02,H_A = 3)[2]"
      ],
      "execution_count": 44,
      "outputs": [
        {
          "output_type": "execute_result",
          "data": {
            "application/vnd.google.colaboratory.intrinsic+json": {
              "type": "string"
            },
            "text/plain": [
              "'Rechazamos la hipotesis nula'"
            ]
          },
          "metadata": {
            "tags": []
          },
          "execution_count": 44
        }
      ]
    },
    {
      "cell_type": "code",
      "metadata": {
        "colab": {
          "base_uri": "https://localhost:8080/"
        },
        "id": "tPXUsc2QtJly",
        "outputId": "11cbfb84-3310-4051-9c92-5f08a12a43b8"
      },
      "source": [
        "#ESTADISTICO DE PRUEBA Y VALORD DE F\n",
        "print('Estadistico de prueba',PH_2_Varianza(Varianza_1=19.2,n_1=13,Varianza_2=3.5,n_2=16,Alpha = 0.02,H_A = 3)[0],\n",
        "      '\\nValor de F',PH_2_Varianza(Varianza_1=19.2,n_1=13,Varianza_2=3.5,n_2=16,Alpha = 0.02,H_A = 3)[1])"
      ],
      "execution_count": 45,
      "outputs": [
        {
          "output_type": "stream",
          "text": [
            "Estadistico de prueba 5.485714285714286 \n",
            "Valor de F 3.6662397836079657\n"
          ],
          "name": "stdout"
        }
      ]
    },
    {
      "cell_type": "markdown",
      "metadata": {
        "id": "R6yRpY34tm0A"
      },
      "source": [
        "## Pruebas concerniente a proporciones (muestra grande)"
      ]
    },
    {
      "cell_type": "markdown",
      "metadata": {
        "id": "mpGHG3EFtqNf"
      },
      "source": [
        "Note que\n",
        "\n",
        "* $n$ es el número de repeticiones del experimento, además $n\\geq 30$\n",
        "\n",
        "* $x$ número de éxitos observados en las $n$ repeticiones"
      ]
    },
    {
      "cell_type": "markdown",
      "metadata": {
        "id": "Y5KUtcZpt0Mt"
      },
      "source": [
        "|Hipótesis nula $(H_0)$|Hipótesis alternativa $(H_1)$|Se rechaza $H_0$ sí|Estadístico de prueba|\n",
        "|--|--|--|--|\n",
        "|$$H_0 : \\theta = \\theta_0$$|$$H_1 : \\theta > \\theta_0$$|$$z\\geq z_{\\alpha}$$|$$z = \\frac{x-n\\theta_0}{\\sqrt{n\\theta_0(1-\\theta_0)}}$$|\n",
        "|$$H_0 : \\theta = \\theta_0$$|$$H_1 : \\theta < \\theta_0$$|$$z\\leq -z_{\\alpha}$$|$$z = \\frac{x-n\\theta_0}{\\sqrt{n\\theta_0(1-\\theta_0)}}$$|\n",
        "|$$H_0 : \\theta = \\theta_0$$|$$H_1 : \\theta \\neq \\theta_0$$|$$|z|\\geq z_{\\alpha/2}$$|$$z = \\frac{x-n\\theta_0}{\\sqrt{n\\theta_0(1-\\theta_0)}}$$|"
      ]
    },
    {
      "cell_type": "code",
      "metadata": {
        "id": "H7zlgvZ6Gcbo"
      },
      "source": [
        "def PH_Proporcion_MG (n,x,Theta_0,Alpha,H_A):\n",
        "  '''\n",
        "  n : Numero de repeticiones\n",
        "\n",
        "  x : Numero de exitos en las n repeticiones\n",
        "\n",
        "  Theta_0 : Proporcion a comparar\n",
        "\n",
        "  Alpha : Probabilidad deseada. Un valor entre 0 y 1\n",
        "\n",
        "  H_A : Recibe el valor 1, 2 o 3 segun sea el caso de la hipotesis alternativa\n",
        "  a realizar. Si es 1 entonces la hipotesis alternativa es Theta > Theta_0, si es 2\n",
        "  entonces la hipotesis alternativa es Theta < Theta_0 y si es 3 entonces la hipotesis\n",
        "  alternativa es Theta != Theta_0\n",
        "  '''\n",
        "  from scipy.stats import norm\n",
        "  from math import sqrt\n",
        "  Estadistico_Prueba = (x-(n*Theta_0))/sqrt((n*Theta_0)*(1-Theta_0))\n",
        "  if H_A == 1:\n",
        "    Z = norm.isf(Alpha)\n",
        "    if Estadistico_Prueba >= Z:\n",
        "      return [Estadistico_Prueba,Z,'Rechazamos la hipotesis nula']\n",
        "    else:\n",
        "      return [Estadistico_Prueba,Z,'No rechazamos la hipotesis nula']\n",
        "  elif H_A == 2:\n",
        "    Z = -norm.isf(Alpha)\n",
        "    if Estadistico_Prueba <= Z:\n",
        "      return [Estadistico_Prueba,Z,'Rechazamos la hipotesis nula']\n",
        "    else:\n",
        "      return [Estadistico_Prueba,Z,'No rechazamos la hipotesis nula']\n",
        "  elif H_A == 3:\n",
        "    Z = norm.isf(Alpha/2)\n",
        "    if abs(Estadistico_Prueba) >= Z:\n",
        "      return [abs(Estadistico_Prueba),Z,'Rechazamos la hipotesis nula']\n",
        "    else:\n",
        "      return [abs(Estadistico_Prueba),Z,'Rechazamos la hipotesis nula']"
      ],
      "execution_count": 46,
      "outputs": []
    },
    {
      "cell_type": "markdown",
      "metadata": {
        "id": "-bJHRwbuH-nJ"
      },
      "source": [
        "**EJEMPLO**"
      ]
    },
    {
      "cell_type": "markdown",
      "metadata": {
        "id": "aiW4MtOEIaJd"
      },
      "source": [
        "Ejemplo 13.9 del libro"
      ]
    },
    {
      "cell_type": "code",
      "metadata": {
        "colab": {
          "base_uri": "https://localhost:8080/",
          "height": 35
        },
        "id": "QrN38VafH_4C",
        "outputId": "e9d58388-880e-435b-e953-cf4f32536151"
      },
      "source": [
        "#CONCLUSION\n",
        "PH_Proporcion_MG(n = 200,x = 22,Theta_0=0.20,Alpha = 0.01,H_A = 2)[2]"
      ],
      "execution_count": 47,
      "outputs": [
        {
          "output_type": "execute_result",
          "data": {
            "application/vnd.google.colaboratory.intrinsic+json": {
              "type": "string"
            },
            "text/plain": [
              "'Rechazamos la hipotesis nula'"
            ]
          },
          "metadata": {
            "tags": []
          },
          "execution_count": 47
        }
      ]
    },
    {
      "cell_type": "code",
      "metadata": {
        "colab": {
          "base_uri": "https://localhost:8080/"
        },
        "id": "G-kvJs2uJPrF",
        "outputId": "582a59c1-f616-4e09-dfe8-9bbb981c046a"
      },
      "source": [
        "print('Estadistico de prueba',PH_Proporcion_MG(n = 200,x = 22,Theta_0=0.20,Alpha = 0.01,H_A = 2)[0],\n",
        "      '\\nValor de Z',PH_Proporcion_MG(n = 200,x = 22,Theta_0=0.20,Alpha = 0.01,H_A = 2)[1])"
      ],
      "execution_count": 48,
      "outputs": [
        {
          "output_type": "stream",
          "text": [
            "Estadistico de prueba -3.181980515339464 \n",
            "Valor de Z -2.3263478740408408\n"
          ],
          "name": "stdout"
        }
      ]
    },
    {
      "cell_type": "markdown",
      "metadata": {
        "id": "69MshAQcMgwQ"
      },
      "source": [
        "#Prueba de bondad y ajuste."
      ]
    },
    {
      "cell_type": "markdown",
      "metadata": {
        "id": "2rizIdkXMih0"
      },
      "source": [
        "Para realizar la prueba de bondad y ajuste, según desee el investigador, se anexa el siguiente link de la librería Scipy que contiene las pruebas estadísticas y sus diversas variantes.\n",
        "\n",
        "[Statistical functions][1]\n",
        "\n",
        "[1]: https://docs.scipy.org/doc/scipy/reference/stats.html"
      ]
    },
    {
      "cell_type": "markdown",
      "metadata": {
        "id": "gIU7wg4VMzc-"
      },
      "source": [
        "Pondremos de ejemplo algunas distribuciones."
      ]
    },
    {
      "cell_type": "markdown",
      "metadata": {
        "id": "wGnbf9sJUW5f"
      },
      "source": [
        "Recordemos que aquí tenemos dos hipótesis\n",
        "\n",
        "$$H_0 : \\text{ El conjunto de datos observados proviene de una distribución dada}$$\n",
        "\n",
        "$$H_1 : \\text{ El conjunto de datos observados proviene de otra distribución}$$"
      ]
    },
    {
      "cell_type": "code",
      "metadata": {
        "id": "kSFzDZpMUwkJ"
      },
      "source": [
        "#PROBEMOS SI EL SIGUIENTE CONJUNTO VIENE DE UNA POBLACION Poisson\n",
        "\n",
        "#LOS DATOS SE OBTUVIERON DEL EJEMPLO 13.12 DEL LIBRO\n",
        "Data = [18,53,103,107,82,46,18,10,2,1]"
      ],
      "execution_count": 49,
      "outputs": []
    },
    {
      "cell_type": "markdown",
      "metadata": {
        "id": "g-XkX4aoVNdP"
      },
      "source": [
        "## Prueba Kolmogorov-Smirnov"
      ]
    },
    {
      "cell_type": "code",
      "metadata": {
        "id": "i6Yf-064VQPP"
      },
      "source": [
        "#IMPORTAMOS\n",
        "\n",
        "from scipy.stats import kstest"
      ],
      "execution_count": 50,
      "outputs": []
    },
    {
      "cell_type": "markdown",
      "metadata": {
        "id": "Ey9IJy71XOm-"
      },
      "source": [
        "Esta función regresa dos cosas:\n",
        "\n",
        "1. El estadístico Kolmogorov-Smirnov\n",
        "\n",
        "2. El p-valor"
      ]
    },
    {
      "cell_type": "markdown",
      "metadata": {
        "id": "0b_h9dcEXWkV"
      },
      "source": [
        "Mediante el p-valor es posible determinar si el conjunto de datos proviene de una distribución o no."
      ]
    },
    {
      "cell_type": "markdown",
      "metadata": {
        "id": "p2EfpVJIYFjO"
      },
      "source": [
        "$$\\text{Sí p-valor}\\geq \\alpha\\implies \\text{ Aceptamos la hipótesis nula}$$\n",
        "\n",
        "$$\\text{Sí p-valor}< \\alpha\\implies \\text{ Rechazamos la hipótesis nula}$$"
      ]
    },
    {
      "cell_type": "markdown",
      "metadata": {
        "id": "qalkyYN3Y4df"
      },
      "source": [
        "El primer argumento de la función debe ser los datos a analizar y el segundo el nombre de la distribución, este nombre debe ir acorde a como está escrito en la librería scipy."
      ]
    },
    {
      "cell_type": "code",
      "metadata": {
        "id": "csUdKn5IYxGU"
      },
      "source": [
        "#TOMEMOS DATOS DE UNA DISTRIBUCION UNIFORME\n",
        "from random import uniform"
      ],
      "execution_count": 51,
      "outputs": []
    },
    {
      "cell_type": "code",
      "metadata": {
        "colab": {
          "base_uri": "https://localhost:8080/"
        },
        "id": "J_GgLwQHY2vF",
        "outputId": "a43190f6-00d9-4966-b3a0-40fc06d9b972"
      },
      "source": [
        "if kstest(list(uniform(0,1) for i in range (100)),'uniform')[1] >= 0.01:\n",
        "  print('Los datos tienen una distribucion uniforme','\\nP-Valor',kstest(list(uniform(0,1) for i in range (100)),'uniform')[1])\n",
        "else:\n",
        "  print('Los datos no tienen una distribucion uniforme')"
      ],
      "execution_count": 52,
      "outputs": [
        {
          "output_type": "stream",
          "text": [
            "Los datos tienen una distribucion uniforme \n",
            "P-Valor 0.9955932636130662\n"
          ],
          "name": "stdout"
        }
      ]
    },
    {
      "cell_type": "markdown",
      "metadata": {
        "id": "B2zjaI8gMyba"
      },
      "source": [
        "## Prueba de Anderson-Darling"
      ]
    },
    {
      "cell_type": "code",
      "metadata": {
        "id": "b-so6uNOM6BQ"
      },
      "source": [
        "#IMPORTAMOS \n",
        "\n",
        "from scipy.stats import anderson"
      ],
      "execution_count": 53,
      "outputs": []
    },
    {
      "cell_type": "markdown",
      "metadata": {
        "id": "DzA5Z-iZORgB"
      },
      "source": [
        "Esta función regresa tres cosas:\n",
        "\n",
        "1. El estadístico de Anderson-Darling\n",
        "\n",
        "2. Valores críticos\n",
        "\n",
        "3. Nivel de significancia"
      ]
    },
    {
      "cell_type": "markdown",
      "metadata": {
        "id": "5qWClO11PzM1"
      },
      "source": [
        "Las distribuciones a comparar disponibles son:\n",
        "\n",
        "* Normal ('norm')\n",
        "\n",
        "* Exponencial ('expon')\n",
        "\n",
        "* Logistica ('logistic')\n",
        "\n",
        "* Gumbel ('gumbel')"
      ]
    },
    {
      "cell_type": "markdown",
      "metadata": {
        "id": "VKYO75qdb7Pu"
      },
      "source": [
        "Los valores críticos son\n",
        "\n",
        "normal/exponenential\n",
        "15%, 10%, 5%, 2.5%, 1%\n",
        "\n",
        "logistic\n",
        "25%, 10%, 5%, 2.5%, 1%, 0.5%\n",
        "\n",
        "Gumbel\n",
        "25%, 10%, 5%, 2.5%, 1%"
      ]
    },
    {
      "cell_type": "code",
      "metadata": {
        "id": "EoklRI6FZl6E"
      },
      "source": [
        "from random import expovariate"
      ],
      "execution_count": 54,
      "outputs": []
    },
    {
      "cell_type": "code",
      "metadata": {
        "colab": {
          "base_uri": "https://localhost:8080/"
        },
        "id": "dLnR5fZYNnu8",
        "outputId": "73f805a7-9b62-482d-e5f7-f732bb7a6384"
      },
      "source": [
        "#VERIFICAMOS CON LA NORMAL\n",
        "anderson(list(expovariate(lambd = 1.5) for j in range (10000)),dist='norm')"
      ],
      "execution_count": 55,
      "outputs": [
        {
          "output_type": "execute_result",
          "data": {
            "text/plain": [
              "AndersonResult(statistic=455.1253768743318, critical_values=array([0.576, 0.656, 0.787, 0.918, 1.092]), significance_level=array([15. , 10. ,  5. ,  2.5,  1. ]))"
            ]
          },
          "metadata": {
            "tags": []
          },
          "execution_count": 55
        }
      ]
    },
    {
      "cell_type": "code",
      "metadata": {
        "colab": {
          "base_uri": "https://localhost:8080/"
        },
        "id": "lo22P5JL_LG8",
        "outputId": "a18a5d5e-5e6d-4e86-b6a0-a8428f0b777c"
      },
      "source": [
        "#VERIFICAMOS CON LA EXPONENCIAL\n",
        "anderson(list(expovariate(lambd = 1.5) for j in range (10000)),dist='expon')"
      ],
      "execution_count": 56,
      "outputs": [
        {
          "output_type": "execute_result",
          "data": {
            "text/plain": [
              "AndersonResult(statistic=1.066828704730142, critical_values=array([0.922, 1.078, 1.341, 1.606, 1.957]), significance_level=array([15. , 10. ,  5. ,  2.5,  1. ]))"
            ]
          },
          "metadata": {
            "tags": []
          },
          "execution_count": 56
        }
      ]
    },
    {
      "cell_type": "markdown",
      "metadata": {
        "id": "tybxUlzf_s1l"
      },
      "source": [
        "# Tablas $r\\times c$"
      ]
    },
    {
      "cell_type": "markdown",
      "metadata": {
        "id": "WJM-M7uL_v9-"
      },
      "source": [
        "El análisis de tablas $r\\times c$ se usa para determinar la relación entre dos variables categóricas."
      ]
    },
    {
      "cell_type": "markdown",
      "metadata": {
        "id": "eKxPAi4W_2_Z"
      },
      "source": [
        "Tenemos de hipótesis\n",
        "\n",
        "$$H_0 : \\text{ Las variables son independientes},i.e, \\theta_{ij} = \\theta_{i\\circ}\\cdot \\theta_{\\circ j}$$\n",
        "\n",
        "$$H_1 : \\text{ Las variables son dependientes},i.e, \\theta{ij} \\neq \\theta_{i\\circ}\\cdot \\theta_{\\circ j}$$\n",
        "\n",
        "Donde el estadístico de prueba es\n",
        "\n",
        "$$\\chi^2 = \\sum_{i=1}^r\\sum_{j=1}^c\\frac{\\left(f_{ij}-e_{ij}\\right)^2}{e_{ij}}$$\n",
        "\n",
        "Con $r,c$ el número de filas y columnas respectivamente, $e_{ij}=\\frac{f_{i\\circ}f_{\\circ j}}{f},\\forall i,jj$\n",
        "\n",
        "La región de rechazo es\n",
        "\n",
        "$$\\chi^2 \\geq \\chi^2_{\\alpha,(r-1)(c-1)}$$"
      ]
    },
    {
      "cell_type": "markdown",
      "metadata": {
        "id": "OS9ZlYqxA1Dl"
      },
      "source": [
        "Definimos la siguiente notación\n",
        "\n",
        "1. $f_{ij} :$  frecuencia observada en $ij$\n",
        "\n",
        "2. $f_{i\\circ} :$ frecuencia observada en el i-ésimo renglón\n",
        "\n",
        "3. $f_{\\circ j} :$ frecuencia observada en el j-ésima columna\n",
        "\n",
        "4. $f :$ frecuencia total\n",
        "\n",
        "5. $\\theta_{ij} :$ Probabilidad del elemento $ij$\n",
        "\n",
        "6. $\\theta_{i\\circ} :$ Probabilidad en el i-ésimo renglón\n",
        "\n",
        "7. $\\theta_{\\circ j} :$ Probabilidad en el j-ésima columna"
      ]
    },
    {
      "cell_type": "markdown",
      "metadata": {
        "id": "7-nMEc6sLL6C"
      },
      "source": [
        "Una deficiencia del análisis ji cuadrada de una tabla $r\\times c$ es que no toma en consideración un posible orden de los renglones y/o columnas."
      ]
    },
    {
      "cell_type": "code",
      "metadata": {
        "id": "az90a9EGCAWu"
      },
      "source": [
        "def RxC (DF,Alpha):\n",
        "  '''\n",
        "  DF : Data Frame que contiene exclusivamente datos numericos no NaN.\n",
        "\n",
        "  Alpha : Probabilidad deseada. Un valor entre 0 y 1.\n",
        "\n",
        "  return\n",
        "\n",
        "  Una lista donde el primer elemento es el estadistico de prueba, el segundo el valor de la chi cuadrada y el tercero la conclusion.\n",
        "  '''\n",
        "  from scipy.stats import chi2\n",
        "  import pandas as pd\n",
        "  Chi_2 = chi2.isf(Alpha, (len(DF.index)-1)*(len(DF.columns)-1) )\n",
        "  Frecuencias_io = list(DF.sum(axis=1)) #SUMAMOS CADA FILA Y LA AGREGAMOS A UNA LISTA\n",
        "  Frecuencias_oj = list(DF.sum(axis=0)) #SUMAMOS CADA COLUMNA Y LO AGREGAMOS A UNA LISTA\n",
        "  F = sum(list(DF.sum())) #SUMAMOS TODO EL DATA FRAME\n",
        "  Frecuencias_Esperadas = []\n",
        "  #CADA F_oj ES MULTIPLICADA POR CADA F_io Y DIVIDIO ENTRE F\n",
        "  for j in range (len(Frecuencias_oj)):\n",
        "    Frecuencias_Esperadas.append( list( (Frecuencias_oj[j]*Frecuencias_io[i])/F  for i in range (len(Frecuencias_io))) ) \n",
        "  Dic = {}\n",
        "  for k in range (len(Frecuencias_Esperadas)):\n",
        "    Dic[k] = Frecuencias_Esperadas[k]\n",
        "  #DF CON LAS FRECUENCIAS ESPERADAS\n",
        "  DF_Frecuencias_Esperadas = pd.DataFrame(Dic)\n",
        "  E_P=[]\n",
        "  for j2 in range (len(DF.columns)):\n",
        "    E_P.append( list( (DF.iloc[:,j2][i2]-DF_Frecuencias_Esperadas.iloc[:,j2][i2])**2/DF_Frecuencias_Esperadas.iloc[:,j2][i2] for i2 in range (len(DF.index)) ) )\n",
        "  #LA VARIABLE Estadistico_Prueba CONTIENE SUMAS PARCIALES DEL ESTADISTICO DE PRUEBA\n",
        "  Estadistico_Prueba = list( sum(E_P[i3]) for i3 in range (len(E_P)))\n",
        "  if sum(Estadistico_Prueba) >= Chi_2:\n",
        "    return [sum(Estadistico_Prueba),Chi_2,'Rechazamos la hipotesis nula']\n",
        "  else:\n",
        "    return [sum(Estadistico_Prueba),Chi_2,'No rechazamos la hipotesis nula']"
      ],
      "execution_count": 57,
      "outputs": []
    },
    {
      "cell_type": "markdown",
      "metadata": {
        "id": "MYMtixOrJOcr"
      },
      "source": [
        "**EJEMPLO**"
      ]
    },
    {
      "cell_type": "markdown",
      "metadata": {
        "id": "7YUvcqpDJP0X"
      },
      "source": [
        "Ejemplo 13.11 del libro"
      ]
    },
    {
      "cell_type": "code",
      "metadata": {
        "colab": {
          "base_uri": "https://localhost:8080/",
          "height": 142
        },
        "id": "ecq16lJUD8Lk",
        "outputId": "bcdebe66-c089-4f05-8822-734c3b15811f"
      },
      "source": [
        "import pandas as pd\n",
        "Tabla = pd.DataFrame({'Baja':[63,58,14],'Promedio':[42,61,47],'Alta':[15,31,29]}, index = ['Bajo','Promedio','Alto'])\n",
        "Tabla"
      ],
      "execution_count": 59,
      "outputs": [
        {
          "output_type": "execute_result",
          "data": {
            "text/html": [
              "<div>\n",
              "<style scoped>\n",
              "    .dataframe tbody tr th:only-of-type {\n",
              "        vertical-align: middle;\n",
              "    }\n",
              "\n",
              "    .dataframe tbody tr th {\n",
              "        vertical-align: top;\n",
              "    }\n",
              "\n",
              "    .dataframe thead th {\n",
              "        text-align: right;\n",
              "    }\n",
              "</style>\n",
              "<table border=\"1\" class=\"dataframe\">\n",
              "  <thead>\n",
              "    <tr style=\"text-align: right;\">\n",
              "      <th></th>\n",
              "      <th>Baja</th>\n",
              "      <th>Promedio</th>\n",
              "      <th>Alta</th>\n",
              "    </tr>\n",
              "  </thead>\n",
              "  <tbody>\n",
              "    <tr>\n",
              "      <th>Bajo</th>\n",
              "      <td>63</td>\n",
              "      <td>42</td>\n",
              "      <td>15</td>\n",
              "    </tr>\n",
              "    <tr>\n",
              "      <th>Promedio</th>\n",
              "      <td>58</td>\n",
              "      <td>61</td>\n",
              "      <td>31</td>\n",
              "    </tr>\n",
              "    <tr>\n",
              "      <th>Alto</th>\n",
              "      <td>14</td>\n",
              "      <td>47</td>\n",
              "      <td>29</td>\n",
              "    </tr>\n",
              "  </tbody>\n",
              "</table>\n",
              "</div>"
            ],
            "text/plain": [
              "          Baja  Promedio  Alta\n",
              "Bajo        63        42    15\n",
              "Promedio    58        61    31\n",
              "Alto        14        47    29"
            ]
          },
          "metadata": {
            "tags": []
          },
          "execution_count": 59
        }
      ]
    },
    {
      "cell_type": "code",
      "metadata": {
        "colab": {
          "base_uri": "https://localhost:8080/",
          "height": 35
        },
        "id": "QQPoypTrJtcW",
        "outputId": "a949e583-c9a8-4ebc-96b3-af94351092c0"
      },
      "source": [
        "#CONCLUSION\n",
        "RxC(Tabla,0.01)[2]"
      ],
      "execution_count": 61,
      "outputs": [
        {
          "output_type": "execute_result",
          "data": {
            "application/vnd.google.colaboratory.intrinsic+json": {
              "type": "string"
            },
            "text/plain": [
              "'Rechazamos la hipotesis nula'"
            ]
          },
          "metadata": {
            "tags": []
          },
          "execution_count": 61
        }
      ]
    },
    {
      "cell_type": "code",
      "metadata": {
        "colab": {
          "base_uri": "https://localhost:8080/"
        },
        "id": "09nTzPFIKgvw",
        "outputId": "c55c030a-6773-4385-b86b-60a42fd46357"
      },
      "source": [
        "#ESTADISTICO DE PRUEBA Y VALOR DE CHI2\n",
        "print('Estadistico de prueba',RxC(Tabla,0.01)[0],'\\nValor de Chi^2',RxC(Tabla,0.01)[1])"
      ],
      "execution_count": 63,
      "outputs": [
        {
          "output_type": "stream",
          "text": [
            "Estadistico de prueba 32.13985185185185 \n",
            "Valor de Chi^2 13.276704135987625\n"
          ],
          "name": "stdout"
        }
      ]
    }
  ]
}