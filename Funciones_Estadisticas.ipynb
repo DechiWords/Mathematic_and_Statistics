{
  "nbformat": 4,
  "nbformat_minor": 0,
  "metadata": {
    "colab": {
      "name": "Funciones_Estadisticas.ipynb",
      "provenance": [],
      "collapsed_sections": [
        "Z8YvbDx2P0ML"
      ],
      "authorship_tag": "ABX9TyPhR0bkv0ta+SFICCd6A1Q6",
      "include_colab_link": true
    },
    "kernelspec": {
      "name": "python3",
      "display_name": "Python 3"
    },
    "language_info": {
      "name": "python"
    }
  },
  "cells": [
    {
      "cell_type": "markdown",
      "metadata": {
        "id": "view-in-github",
        "colab_type": "text"
      },
      "source": [
        "<a href=\"https://colab.research.google.com/github/DechiWords/Mathematic_and_Statistics/blob/main/Funciones_Estadisticas.ipynb\" target=\"_parent\"><img src=\"https://colab.research.google.com/assets/colab-badge.svg\" alt=\"Open In Colab\"/></a>"
      ]
    },
    {
      "cell_type": "markdown",
      "metadata": {
        "id": "Z8YvbDx2P0ML"
      },
      "source": [
        "#Información previa"
      ]
    },
    {
      "cell_type": "markdown",
      "metadata": {
        "id": "tVyePvaXJBcd"
      },
      "source": [
        "Las fórmulas son dadas en el siguiente libro.\n",
        "\n",
        "Miller, I. Miller, M. Freund, J. (2000). *Estadística matemática con aplicaciones* (6a. ed.). PEARSON EDUCACIÓN.\n",
        "\n",
        "[ESTADÍSTICA MATEMÁTICA CON APLICACIONES][1]\n",
        "\n",
        "[1]: https://books.google.com.pe/books?id=1ffwJNjZWxsC&printsec=copyright&hl=es#v=onepage&q&f=false"
      ]
    },
    {
      "cell_type": "markdown",
      "metadata": {
        "id": "5uELKhj6MTdA"
      },
      "source": [
        "En el siguiente link usted podrá visualizar las tablas estadísticas de referencia, estos valores, en particular de la distribución normal, $t$ de student, $\\chi^2$ y $F$ de Fisher, son de gran interés para la resolución de ciertas formulas.\n",
        "\n",
        "[TABLAS ESTADÍSTICAS][2]\n",
        "\n",
        "[2]: http://verso.mat.uam.es/~pablo.fernandez/tablas_ProbI_2007-2008.pdf\n",
        "\n",
        "Nosotros nos centraremos en este COLAB en la cola derecha de la curva de distribución."
      ]
    },
    {
      "cell_type": "markdown",
      "metadata": {
        "id": "_3cr3JqYNx1r"
      },
      "source": [
        "La librería de Python que nos ayudará a obtener estos valores es **scipy.stats**. En el siguiente link se encuentra la información de dicha librería.\n",
        "\n",
        "[scipy.stats][3]\n",
        "\n",
        "[3]: https://docs.scipy.org/doc/scipy/reference/stats.html"
      ]
    },
    {
      "cell_type": "markdown",
      "metadata": {
        "id": "IuZfugJ4NzLN"
      },
      "source": [
        "La librería de Python que nos ayudará con calculos estadísticos como la media poblacional, muestra, etc. es la librería **statistics**. En el siguiente link se enuentra la información de dicha librería.\n",
        "\n",
        "[statistics][4]\n",
        "\n",
        "[4]: https://docs.python.org/3/library/statistics.html"
      ]
    },
    {
      "cell_type": "markdown",
      "metadata": {
        "id": "h_yk2vVsO-1_"
      },
      "source": [
        "***NOTA***"
      ]
    },
    {
      "cell_type": "markdown",
      "metadata": {
        "id": "ebPeyw8LPBGr"
      },
      "source": [
        "Las funciones presentadas en este cuaderno tienen como finalidad un uso educativo más que industrial pues existen paqueterías en Python que realizan estos trabajos de manera óptima. Sin embargo, estas mismas pueden ser modificadas por un Científico de Datos y ayudar a la optimización computacional de las mismas."
      ]
    },
    {
      "cell_type": "markdown",
      "metadata": {
        "id": "Qt6N82tYPxSN"
      },
      "source": [
        "#Intervalos de confianza"
      ]
    },
    {
      "cell_type": "markdown",
      "metadata": {
        "id": "6vSIi2Sy1Ghy"
      },
      "source": [
        "## Intervalo de confianza"
      ]
    },
    {
      "cell_type": "markdown",
      "metadata": {
        "id": "Xjr2ZUm91KK6"
      },
      "source": [
        "Una estimación de intervalo de $\\theta$ es un intervalo de la forma\n",
        "\n",
        "$$\\hat{\\theta}_1 < \\theta < \\hat{\\theta}_2$$\n",
        "\n",
        "Donde $\\hat{\\theta}_1$ y $\\hat{\\theta}_2$ son valores de variables aleatorias apropiadas. Por 'Apropiada' queremos decir que\n",
        "\n",
        "$$P\\left( \\hat{\\theta}_1 < \\theta < \\hat{\\theta}_2 \\right) = 1 - \\alpha$$\n",
        "\n",
        "Para alguna probabilidad especificada $1-\\alpha$.\n",
        "\n",
        "Para un valor especificado de $1-\\alpha$ nos referimos a\n",
        "\n",
        "$$\\hat{\\theta}_1 < \\theta < \\hat{\\theta}_2$$\n",
        "\n",
        "como **intervalo de confianza** de $(1-\\alpha)100 \\%$ para $\\theta$.\n",
        "\n",
        "Llamamos **grado de confianza** a $1-\\alpha$.\n",
        "\n",
        "Llamamos **límites de confianza** a $\\hat{\\theta}_1$ y $\\hat{\\theta}_2$.\n",
        "\n",
        "Por ejemplo, sí deseamos un intervalo de confianza del $95\\%$ tenemos que\n",
        "\n",
        "$$\\implies 1-\\alpha = 0.95 \\implies \\alpha = 0.05$$"
      ]
    },
    {
      "cell_type": "markdown",
      "metadata": {
        "id": "TXQtrlzNP3Mm"
      },
      "source": [
        "## Intervalo de confianza para la media de una muestra aleatoria de tamaño $n$"
      ]
    },
    {
      "cell_type": "markdown",
      "metadata": {
        "id": "_lsOWz8wQB6F"
      },
      "source": [
        "Sea $\\bar{x}$ la media de una muestra aleatoria de tamaño $n$. \n",
        "\n",
        "Sí $n\\geq 30$ o $\\sigma^2$ es conocida entonces el intervalo de confianza para la media es\n",
        "\n",
        "$$\\bar{x}-z_{\\frac{\\alpha}{2}}\\frac{\\sigma}{\\sqrt{n}}<\\mu <\\bar{x}+z_{\\frac{\\alpha}{2}}\\frac{\\sigma}{\\sqrt{n}}$$\n",
        "\n",
        "Sí $n\\leq 29$ y $\\sigma^2$ es desconocida entonces el intervalo de confianza para la media es\n",
        "\n",
        "$$\\bar{x}-t_{\\frac{\\alpha}{2},n-1}\\frac{s}{\\sqrt{n}}<\\mu <\\bar{x}+t_{\\frac{\\alpha}{2},n-1}\\frac{s}{\\sqrt{n}}$$\n",
        "\n",
        "Con un margen de error de \n",
        "\n",
        "$$e = z_{\\frac{\\alpha}{2}}\\frac{\\sigma}{\\sqrt{n}}$$\n",
        "\n",
        "Tamaño de muestra necesario para estimar $\\mu$ de \n",
        "\n",
        "$$n = \\left(\\frac{z_{\\frac{\\alpha}{2}}\\cdot \\sigma}{e}\\right)^2$$"
      ]
    },
    {
      "cell_type": "code",
      "metadata": {
        "id": "uMepOiIyR7cy"
      },
      "source": [
        "def IC_1_Media_Datos_Conocidos (Media,Desviacion,Alpha,n,Varianza_Poblacional):\n",
        "  '''\n",
        "  Media : Recibe el valor de la media de una muestra aleatoria.\n",
        "\n",
        "  Desviacion : El valor de la desviacion, si la varianza poblacional es conocida\n",
        "  entonces el valor ingresado es el raiz de la varianza poblacional. Si la varianza\n",
        "  poblacional es desconocida entonces el valor ingresado es el valor de la desviacion\n",
        "  de la muestra.\n",
        "\n",
        "  n : Longitud de la muestra.\n",
        "\n",
        "  Alpha : Probabilidad deseada. Este es un valor entre 0 y 1.\n",
        "\n",
        "  Varianza_Poblacional : Es un valor booleano. True si la varianza poblacional\n",
        "  es conocida, False en caso contrario.\n",
        "\n",
        "  return.\n",
        "\n",
        "  Una lista donde el primer elemento es el la cota inferior del intervalo de confianza,\n",
        "  el segundo elemento es la cota superior del intervalo de confianza y el tercer\n",
        "  elemento es un string que engloba el intervalo de confianza.\n",
        "  '''\n",
        "  from scipy.stats import norm,t\n",
        "  from math import sqrt\n",
        "  Z = norm.isf(Alpha/2)\n",
        "  t_v = t.isf(Alpha/2,n-1)\n",
        "  Div = Desviacion/sqrt(n)\n",
        "  if Varianza_Poblacional == True or n>=30:\n",
        "    Izq = Media - Z*Div\n",
        "    Der = Media + Z*Div\n",
        "    return [Izq,Der,str(Izq)[0:8]+' <M< '+str(Der)[0:8]]\n",
        "  elif Varianza_Poblacional == False and n<=29:\n",
        "    Izq = Media - t_v*Div\n",
        "    Der = Media + t_v*Div\n",
        "    return [Izq,Der,str(Izq)[0:8]+' <M< '+str(Der)[0:8]]"
      ],
      "execution_count": null,
      "outputs": []
    },
    {
      "cell_type": "markdown",
      "metadata": {
        "id": "QYyMfoXaVwSy"
      },
      "source": [
        "**EJEMPLO**"
      ]
    },
    {
      "cell_type": "markdown",
      "metadata": {
        "id": "1j1ksXRKVxQu"
      },
      "source": [
        "Ejemplo 11.1 del libro."
      ]
    },
    {
      "cell_type": "code",
      "metadata": {
        "colab": {
          "base_uri": "https://localhost:8080/",
          "height": 35
        },
        "id": "M6EJd-dwUf9H",
        "outputId": "71f97494-1d38-412e-b60c-4030cd57799d"
      },
      "source": [
        "IC_1_Media_Datos_Conocidos(64.3,15,0.025*2,20,True)[2]"
      ],
      "execution_count": null,
      "outputs": [
        {
          "output_type": "execute_result",
          "data": {
            "application/vnd.google.colaboratory.intrinsic+json": {
              "type": "string"
            },
            "text/plain": [
              "'57.72608 <M< 70.87391'"
            ]
          },
          "metadata": {
            "tags": []
          },
          "execution_count": 2
        }
      ]
    },
    {
      "cell_type": "code",
      "metadata": {
        "id": "xXJZU_RTV5cf"
      },
      "source": [
        "def IC_1_Media_Datos_Desconocidos (Data,Alpha,Varianza_Poblacional):\n",
        "  '''\n",
        "  Data : Es una lista que contiene los datos de la muestra.\n",
        "\n",
        "  Alpha : Probabilidad deseada. Este es un valor entre 0 y 1.\n",
        "\n",
        "  Varianza_Poblacional : Es un valor booleano. True si la varianza poblacional\n",
        "  es conocida, False en caso contrario.\n",
        "\n",
        "  return.\n",
        "\n",
        "  Una lista donde el primer elemento es el la cota inferior del intervalo de confianza,\n",
        "  el segundo elemento es la cota superior del intervalo de confianza y el tercer\n",
        "  elemento es un string que engloba el intervalo de confianza.\n",
        "  '''\n",
        "  from scipy.stats import norm,t\n",
        "  from math import sqrt\n",
        "  from statistics import mean, stdev\n",
        "  Media = mean(Data)\n",
        "  n = len(Data)\n",
        "  Z = norm.isf(Alpha/2)\n",
        "  t = t.isf(Alpha/2,n-1)\n",
        "  if Varianza_Poblacional == True:\n",
        "    Varianza = float(input('Ingresa el valor de la varianza poblacional : '))\n",
        "    Desviacion = sqrt(Varianza)\n",
        "    Izq = Media - Z*(Desviacion/sqrt(n))\n",
        "    Der = Media + Z*(Desviacion/sqrt(n))\n",
        "    return [Izq,Der,str(Izq)[0:8]+' <M< '+str(Der)[0:8]]\n",
        "  elif n>= 30:\n",
        "    Desviacion = stdev(Data) #DESVIACION MUESTRAL\n",
        "    Izq = Media - Z*(Desviacion/sqrt(n))\n",
        "    Der = Media + Z*(Desviacion/sqrt(n))\n",
        "    return [Izq,Der,str(Izq)[0:8]+' <M< '+str(Der)[0:8]]\n",
        "  else: \n",
        "    Desviacion = stdev(Data) #DESVIACION MUESTRAL\n",
        "    Izq = Media - t_v*(Desviacion/sqrt(n))\n",
        "    Der = Media + t_v*(Desviacion/sqrt(n))\n",
        "    return [Izq,Der,str(Izq)[0:8]+' <M< '+str(Der)[0:8]]"
      ],
      "execution_count": null,
      "outputs": []
    },
    {
      "cell_type": "markdown",
      "metadata": {
        "id": "XsCFpSrIaBqL"
      },
      "source": [
        "**EJEMPLO**"
      ]
    },
    {
      "cell_type": "markdown",
      "metadata": {
        "id": "yqdCel-NaFKM"
      },
      "source": [
        "Ejemplo 11.3 del libro"
      ]
    },
    {
      "cell_type": "code",
      "metadata": {
        "colab": {
          "base_uri": "https://localhost:8080/",
          "height": 35
        },
        "id": "VRgPhd0YaBX3",
        "outputId": "445fb766-c339-422b-97be-966d3675a833"
      },
      "source": [
        "Data = [17,13,18,19,17,21,29,22,16,28,21,15,26,23,24,20,8,17,17,21,32,18,25,22,16,10,20,22,19,14,30,22,12,24,28,11]\n",
        "IC_1_Media_Datos_Desconocidos(Data,0.025*2,False)[2]"
      ],
      "execution_count": null,
      "outputs": [
        {
          "output_type": "execute_result",
          "data": {
            "application/vnd.google.colaboratory.intrinsic+json": {
              "type": "string"
            },
            "text/plain": [
              "'18.04359 <M< 21.78973'"
            ]
          },
          "metadata": {
            "tags": []
          },
          "execution_count": 4
        }
      ]
    },
    {
      "cell_type": "markdown",
      "metadata": {
        "id": "35qjNZdhbbz_"
      },
      "source": [
        "## Intervalo de confianza para diferencia de medias"
      ]
    },
    {
      "cell_type": "markdown",
      "metadata": {
        "id": "Ji9r1zvkbgcx"
      },
      "source": [
        "Sean $n_1,n_2$ dos muestras aleatorias de tamaño $n_1,n_2$ de dos poblaciones normales con varianzas conocidas $\\sigma_1^2, \\sigma_2^2$.\n",
        "\n",
        "El intervalo de confianza para $\\mu_1 - \\mu_2$ es : \n",
        "\n",
        "Sí $n_1, n_2$ son mayores o iguales a 30 o tenemos que $\\sigma_1^2$ y $\\sigma_2^2$ son conocidas\n",
        "\n",
        "$$\\left(\\bar{x_1}-\\bar{x_2}\\right)\\pm z_{\\frac{\\alpha}{2}}\\sqrt{\\frac{\\sigma_1^2}{n_1}+\\frac{\\sigma_2^2}{n_2}}$$"
      ]
    },
    {
      "cell_type": "markdown",
      "metadata": {
        "id": "UlammvoFc7dG"
      },
      "source": [
        "Sí $n_1, n_2$ son menores o iguales a 29 y las varianzas $\\sigma_1^2,\\sigma_2^2$ son desconocidas pero iguales\n",
        "\n",
        "$$\\left(\\bar{x_1}-\\bar{x_2}\\right)\\pm t_{\\frac{\\alpha}{2},n_1+n_2-2}\\cdot S_p\\cdot \\sqrt{\\frac{1}{n_1}+\\frac{1}{n_2}}$$\n",
        "\n",
        "Donde\n",
        "\n",
        "$$S_p = \\sqrt{\\frac{(n_1-1)\\cdot s_1^2+(n_2-1)\\cdot s_2^2}{n_1+n_2-2}}$$"
      ]
    },
    {
      "cell_type": "markdown",
      "metadata": {
        "id": "ALVL4N7O_c8h"
      },
      "source": [
        "Para determinar si las varianzas poblacionales son iguales, aun siendo desconocidas, hay que verificar el intervalo de confianza para la razón de dos varianzas. Sí el 1 está en el intervalo entonces las varianzas son iguales aun siendo desconocidas y, por tanto es matemáticamente correcto proceder por el segundo método."
      ]
    },
    {
      "cell_type": "code",
      "metadata": {
        "id": "7YVvYFHQaw1q"
      },
      "source": [
        "def IC_2_Media_Datos_Conocidos (Media_1,Varianza_1,n_1,Media_2,Varianza_2,n_2,Alpha,Varianza_Poblacional):\n",
        "  '''\n",
        "  Media_1 : El valor de la media de la primer poblacion\n",
        "\n",
        "  Media_2 : El valor de la media de la segunda poblacion\n",
        "\n",
        "  Varianza_1 : El valor de la varianza de la primer poblacion. Si la varianza de la poblacion es conocida\n",
        "  entonces el valor ingresado es el valor de la varianza poblacional.\n",
        "\n",
        "  Varianza_2 : El valor de la varianza de la segunda poblacion. Si la varianza de la poblacion es conocida\n",
        "  entonces el valor ingresado es el valor de la varianza poblacional.\n",
        "\n",
        "  n_1 : Longitud de la primer poblacion\n",
        "\n",
        "  n_2 : Longitud de la segunda poblacion\n",
        "\n",
        "  Alpha : Probabilidad deseada. Es un valor entre 0 y 1.\n",
        "\n",
        "  Varianza_Poblacional : Es un valor booleano. True si las varianzas de las poblaciones son conocidas, False\n",
        "  si son desconocidas pero iguales.\n",
        "\n",
        "  return.\n",
        "\n",
        "  Una lista que contiene 4 elementos. El primer elemento es la cota inferior del intervalo de confianza,\n",
        "  el segundo elemento es la cota superior del intervalo de confianza, el tercer elemento es el intervalo de confianza\n",
        "  y el cuarto elemento es la conclusion del intervalo de confianza.\n",
        "  '''\n",
        "  from scipy.stats import norm,t\n",
        "  from math import sqrt\n",
        "  Z = norm.isf(Alpha/2)\n",
        "  t_v = t.isf(Alpha/2,n_1+n_2-2)\n",
        "  if Varianza_Poblacional == True or (n_1 >= 30 and n_2 >= 30):\n",
        "    Raiz = sqrt( (Varianza_1/n_1) + (Varianza_2/n_2) )\n",
        "    Izq = (Media_1-Media_2) - Z*Raiz\n",
        "    Der = (Media_1-Media_2) + Z*Raiz\n",
        "    if Izq<0 and 0<Der:\n",
        "      Mensaje = 'Media_1 = Media_2'\n",
        "    elif Izq<0 and Der<0:\n",
        "      Mensaje = 'Media_1 < Media_2'\n",
        "    elif 0<Izq and 0<Der:\n",
        "      Mensaje = 'Media_1 > Media_2'\n",
        "    return [Izq,Der,str(Izq)[0:8]+' <M_1 - M_2< '+str(Der)[0:8],Mensaje]\n",
        "  elif Varianza_Poblacional == False and (n_1 <= 29 and n_2 <= 29):\n",
        "    S_p = S_p_Function(n_1,n_2,Varianza_1,Varianza_2)\n",
        "    Raiz = sqrt( (1/n_1) + (1/n_2) )\n",
        "    Izq = (Media_1-Media_2) - t_v*S_p*Raiz\n",
        "    Der = (Media_1-Media_2) + t_v*S_p*Raiz\n",
        "    if Izq<0 and 0<Der:\n",
        "      Mensaje = 'Media_1 = Media_2'\n",
        "    elif Izq<0 and Der<0:\n",
        "      Mensaje = 'Media_1 < Media_2'\n",
        "    elif 0<Izq and 0<Der:\n",
        "      Mensaje = 'Media_1 > Media_2'\n",
        "    return [Izq,Der,str(Izq)[0:8]+' <M_1 - M_2< '+str(Der)[0:8],Mensaje]"
      ],
      "execution_count": null,
      "outputs": []
    },
    {
      "cell_type": "markdown",
      "metadata": {
        "id": "70LWwAnvs9w-"
      },
      "source": [
        "**EJEMPLO**"
      ]
    },
    {
      "cell_type": "markdown",
      "metadata": {
        "id": "Nh3o4ol2s_xJ"
      },
      "source": [
        "Los datos se obtuvieron del siguiente video: \n",
        "\n",
        "https://www.youtube.com/watch?v=vcV_-KSzy0M&t=45s"
      ]
    },
    {
      "cell_type": "code",
      "metadata": {
        "colab": {
          "base_uri": "https://localhost:8080/",
          "height": 35
        },
        "id": "DCDQgyf6tHG7",
        "outputId": "7422752a-7409-4951-d2cb-e73f151cfac5"
      },
      "source": [
        "#DATOS\n",
        "Media_Sindicalizada = 20.75\n",
        "Desviacion_Sindicalizada = 2.25\n",
        "Longitud_Sindicalizada = 40\n",
        "Media_No_Sindicalizada = 19.80\n",
        "Desviacion_No_Sindicalizada = 1.90\n",
        "Longitud_No_Sindicalizada = 45\n",
        "\n",
        "#INTERVALO DE CONFIANZA\n",
        "IC_2_Media_Datos_Conocidos(Media_Sindicalizada,(Desviacion_Sindicalizada)**2,Longitud_Sindicalizada,\n",
        "                           Media_No_Sindicalizada,(Desviacion_No_Sindicalizada)**2,Longitud_No_Sindicalizada,\n",
        "                           0.1,False)[2]"
      ],
      "execution_count": null,
      "outputs": [
        {
          "output_type": "execute_result",
          "data": {
            "application/vnd.google.colaboratory.intrinsic+json": {
              "type": "string"
            },
            "text/plain": [
              "'0.202026 <M_1 - M_2< 1.697973'"
            ]
          },
          "metadata": {
            "tags": []
          },
          "execution_count": 6
        }
      ]
    },
    {
      "cell_type": "code",
      "metadata": {
        "colab": {
          "base_uri": "https://localhost:8080/",
          "height": 35
        },
        "id": "-w4uJrl1vHCL",
        "outputId": "813e4a98-7654-4b1d-c01b-b42d3d4ca59e"
      },
      "source": [
        "#CONCLUSION\n",
        "IC_2_Media_Datos_Conocidos(Media_Sindicalizada,(Desviacion_Sindicalizada)**2,Longitud_Sindicalizada,\n",
        "                           Media_No_Sindicalizada,(Desviacion_No_Sindicalizada)**2,Longitud_No_Sindicalizada,\n",
        "                           0.1,False)[3]"
      ],
      "execution_count": null,
      "outputs": [
        {
          "output_type": "execute_result",
          "data": {
            "application/vnd.google.colaboratory.intrinsic+json": {
              "type": "string"
            },
            "text/plain": [
              "'Media_1 > Media_2'"
            ]
          },
          "metadata": {
            "tags": []
          },
          "execution_count": 7
        }
      ]
    },
    {
      "cell_type": "code",
      "metadata": {
        "id": "s0V7uEFwvtk_"
      },
      "source": [
        "def S_p_Function (n_1,n_2,V_1,V_2):\n",
        "  from math import sqrt\n",
        "  Numerador = (n_1-1)*V_1 + (n_2-1)*V_2\n",
        "  Denominador = n_1 + n_2 - 2\n",
        "  return sqrt(Numerador/Denominador)\n",
        "\n",
        "def IC_2_Media_Datos_Desconocidos (Data_1,Data_2,Alpha,Varianza_Poblacional):\n",
        "  '''\n",
        "  Data_1 : Los datos de la primer poblacion.\n",
        "\n",
        "  Data_2 : Los datos de la segunda poblacion.\n",
        "\n",
        "  Alpha : Probabilidad deseada. Es un valor entre 0 y 1.\n",
        "\n",
        "  Varianza_Poblacional : Es un valor booleano. True si las varianzas de las poblaciones son conocidas, False\n",
        "  si son desconocidas pero iguales.\n",
        "\n",
        "  return.\n",
        "\n",
        "  Una lista que contiene 4 elementos. El primer elemento es la cota inferior del intervalo de confianza,\n",
        "  el segundo elemento es la cota superior del intervalo de confianza, el tercer elemento es el intervalo de confianza\n",
        "  y el cuarto elemento es la conclusion del intervalo de confianza.\n",
        "  '''\n",
        "  from scipy.stats import norm,t\n",
        "  from math import sqrt\n",
        "  from statistics import mean, variance\n",
        "  n_1 = len(Data_1)\n",
        "  n_2 = len(Data_2)\n",
        "  Media_1 = mean(Data_1)\n",
        "  Media_2 = mean(Data_2)\n",
        "  Z = norm.isf(Alpha/2)\n",
        "  t_v = t.isf(Alpha/2,n_1+n_2-2)\n",
        "  if Varianza_Poblacional == True:\n",
        "    Varianza_1 = float(input('Ingresa la varianza de la primer poblacion : '))\n",
        "    Varianza_2 = float(input('Ingresa la varianza de la segunda poblacion : '))\n",
        "    Raiz = sqrt( (Varianza_1/n_1) + (Varianza_2/n_2) )\n",
        "    Izq = (Media_1-Media_2) - Z*Raiz\n",
        "    Der = (Media_1-Media_2) + Z*Raiz\n",
        "    if Izq<0 and 0<Der:\n",
        "      Mensaje = 'Media_1 = Media_2'\n",
        "    elif Izq<0 and Der<0:\n",
        "      Mensaje = 'Media_1 < Media_2'\n",
        "    elif 0<Izq and 0<Der:\n",
        "      Mensaje = 'Media_1 > Media_2'\n",
        "    return [Izq,Der,str(Izq)[0:8]+' <M_1 - M_2< '+str(Der)[0:8],Mensaje]\n",
        "  elif n_1 >= 30 and n_2 >= 30:\n",
        "    Varianza_1 = variance(Data_1) #VARIANZA MUESTRAL\n",
        "    Varianza_2 = variance(Data_2) #VARIANZA MUESTRAL\n",
        "    Raiz = sqrt( (Varianza_1/n_1) + (Varianza_2/n_2) )\n",
        "    Izq = (Media_1-Media_2) - Z*Raiz\n",
        "    Der = (Media_1-Media_2) + Z*Raiz\n",
        "    if Izq<0 and 0<Der:\n",
        "      Mensaje = 'Media_1 = Media_2'\n",
        "    elif Izq<0 and Der<0:\n",
        "      Mensaje = 'Media_1 < Media_2'\n",
        "    elif 0<Izq and 0<Der:\n",
        "      Mensaje = 'Media_1 > Media_2'\n",
        "    return [Izq,Der,str(Izq)[0:8]+' <M_1 - M_2< '+str(Der)[0:8],Mensaje]\n",
        "  elif Varianza_Poblacional == False and (n_1 <= 29 and n_2 <= 29):\n",
        "    Varianza_1 = variance(Data_1) #VARIANZA MUESTRAL\n",
        "    Varianza_2 = variance(Data_2) #VARIANZA MUESTRAL\n",
        "    S_p = S_p_Function(n_1,n_2,Varianza_1,Varianza_2)\n",
        "    Raiz = sqrt( (1/n_1) + (1/n_2) )\n",
        "    Izq = (Media_1-Media_2) - t_v*S_p*Raiz\n",
        "    Der = (Media_1-Media_2) + t_v*S_p*Raiz\n",
        "    if Izq<0 and 0<Der:\n",
        "      Mensaje = 'Media_1 = Media_2'\n",
        "    elif Izq<0 and Der<0:\n",
        "      Mensaje = 'Media_1 < Media_2'\n",
        "    elif 0<Izq and 0<Der:\n",
        "      Mensaje = 'Media_1 > Media_2'\n",
        "    return [Izq,Der,str(Izq)[0:8]+' <M_1 - M_2< '+str(Der)[0:8],Mensaje]"
      ],
      "execution_count": null,
      "outputs": []
    },
    {
      "cell_type": "markdown",
      "metadata": {
        "id": "5cqWaMrKy041"
      },
      "source": [
        "**EJEMPLO**"
      ]
    },
    {
      "cell_type": "markdown",
      "metadata": {
        "id": "OlcB2sO1y2Ct"
      },
      "source": [
        "Los datos se obtuvieron en el siguiente video.\n",
        "\n",
        "https://www.youtube.com/watch?v=aMOINMuUXVc&ab_channel=Estad%C3%ADstica%C3%BAtil\n"
      ]
    },
    {
      "cell_type": "code",
      "metadata": {
        "colab": {
          "base_uri": "https://localhost:8080/",
          "height": 35
        },
        "id": "A8lbOI7Uy5cf",
        "outputId": "45128a60-ad93-4d27-f10e-6400767aa6ae"
      },
      "source": [
        "#DATOS\n",
        "T1 = [76,85,74,78,82,75,82]\n",
        "T2 = [57,67,55,64,61,63,63]\n",
        "\n",
        "#INTERVALO DE CONFIANZA\n",
        "IC_2_Media_Datos_Desconocidos(T1,T2,0.1,False)[2]"
      ],
      "execution_count": null,
      "outputs": [
        {
          "output_type": "execute_result",
          "data": {
            "application/vnd.google.colaboratory.intrinsic+json": {
              "type": "string"
            },
            "text/plain": [
              "'13.45683 <M_1 - M_2< 21.40030'"
            ]
          },
          "metadata": {
            "tags": []
          },
          "execution_count": 9
        }
      ]
    },
    {
      "cell_type": "code",
      "metadata": {
        "colab": {
          "base_uri": "https://localhost:8080/",
          "height": 35
        },
        "id": "2kmS2v5vzmNV",
        "outputId": "c433e5d2-de88-4c4c-834e-33096e5d9edc"
      },
      "source": [
        "#CONCLUSION\n",
        "IC_2_Media_Datos_Desconocidos(T1,T2,0.1,False)[3]"
      ],
      "execution_count": null,
      "outputs": [
        {
          "output_type": "execute_result",
          "data": {
            "application/vnd.google.colaboratory.intrinsic+json": {
              "type": "string"
            },
            "text/plain": [
              "'Media_1 > Media_2'"
            ]
          },
          "metadata": {
            "tags": []
          },
          "execution_count": 10
        }
      ]
    },
    {
      "cell_type": "markdown",
      "metadata": {
        "id": "ToRvcYAokKOu"
      },
      "source": [
        "## Intervalo de confianza para proporciones"
      ]
    },
    {
      "cell_type": "markdown",
      "metadata": {
        "id": "QAilFcPOkO5j"
      },
      "source": [
        "Sea $\\theta$ el parámetro de la binomial siendo esta nuestra proporción.\n",
        "\n",
        "Sí $n$ es la muestra total y $x$ es muestra pequeña de $n$ con $x\\leq 30$ entonces tenemos que el intervalo de confianza para la proporción $\\theta$ es\n",
        "\n",
        "$$\\hat{\\theta}\\pm z_{\\frac{\\alpha}{2}}\\sqrt{\\frac{\\hat{\\theta}(1-\\hat{\\theta})}{n}}$$\n",
        "\n",
        "Donde $\\hat{\\theta} = \\frac{x}{n}$.\n",
        "\n",
        "Llamamos margen de error a \n",
        "\n",
        "$$e = z_{\\frac{\\alpha}{2}}\\sqrt{\\frac{\\hat{\\theta}(1-\\hat{\\theta})}{n}}$$\n",
        "\n",
        "Si necesitamos el tamaño de muestra para estimar $\\theta$ con un margen de error $e$ e información previa\n",
        "\n",
        "$$n = \\frac{z_{\\frac{\\alpha}{2}}^2\\cdot \\hat{\\theta}(1-\\hat{\\theta})}{e^2}$$\n",
        "\n",
        "Sin información previa\n",
        "\n",
        "$$n^{'}=\\frac{z_{\\frac{\\alpha}{2}}^2}{4e^2}$$"
      ]
    },
    {
      "cell_type": "code",
      "metadata": {
        "id": "Jtph-FiqlolQ"
      },
      "source": [
        "def IC_1_Proporcion (X,n,Alpha):\n",
        "  '''\n",
        "  X : Numero de exitos de la muestra\n",
        "\n",
        "  n : Longitud de la muestra\n",
        "\n",
        "  Alpha : Probabilidad deseada. Es un numero entre 0 y 1.\n",
        "  '''\n",
        "  from math import sqrt\n",
        "  from scipy.stats import norm\n",
        "  Z = norm.isf(Alpha/2)\n",
        "  Theta = X/n\n",
        "  Izq = Theta - Z*sqrt( (Theta*(1-Theta))/n )\n",
        "  Der = Theta + Z*sqrt( (Theta*(1-Theta))/n )\n",
        "  return [Izq,Der,str(Izq)[0:8]+' <Theta< '+str(Der)[0:8]]"
      ],
      "execution_count": null,
      "outputs": []
    },
    {
      "cell_type": "markdown",
      "metadata": {
        "id": "NzqVN5v4m0pC"
      },
      "source": [
        "**EJEMPLO**"
      ]
    },
    {
      "cell_type": "markdown",
      "metadata": {
        "id": "Vp_h6wb3m1oV"
      },
      "source": [
        "Ejemplo 11.7 del libro"
      ]
    },
    {
      "cell_type": "code",
      "metadata": {
        "colab": {
          "base_uri": "https://localhost:8080/",
          "height": 35
        },
        "id": "pJCFQkRcm5Kb",
        "outputId": "ac130cfe-1eb3-4528-8c58-9dded87f06fa"
      },
      "source": [
        "IC_1_Proporcion(136,400,0.025*2)[2]"
      ],
      "execution_count": null,
      "outputs": [
        {
          "output_type": "execute_result",
          "data": {
            "application/vnd.google.colaboratory.intrinsic+json": {
              "type": "string"
            },
            "text/plain": [
              "'0.293577 <Theta< 0.386422'"
            ]
          },
          "metadata": {
            "tags": []
          },
          "execution_count": 12
        }
      ]
    },
    {
      "cell_type": "markdown",
      "metadata": {
        "id": "8nrgcchTnMPT"
      },
      "source": [
        "## Intervalos de confianza para una diferencia de proporciones"
      ]
    },
    {
      "cell_type": "markdown",
      "metadata": {
        "id": "eiXRzEBAnyv7"
      },
      "source": [
        "Sí $x_1, x_2$ son variables aleatorias binomiales con parámetros $n_1, \\theta_1$ y $n_2,\\theta_2$ respectivamente, donde $n_1$ y $n_2$ son mayores o iguales a 30 y $\\hat{\\theta}_1 = \\frac{x_1}{n_1}$, $\\hat{\\theta}_2 = \\frac{x_2}{n_2}$. \n",
        "\n",
        "El intervalo de confianza para $\\theta_1-\\theta_2$ es\n",
        "\n",
        "$$\\left(\\hat{\\theta}_1 - \\hat{\\theta}_2 \\right)\\pm z_{\\frac{\\alpha}{2}}\\sqrt{\\frac{\\hat{\\theta}_1 (1-\\hat{\\theta}_1)}{n_1} + \\frac{\\hat{\\theta}_2 (1-\\hat{\\theta}_2)}{n_2}}$$"
      ]
    },
    {
      "cell_type": "code",
      "metadata": {
        "id": "mp5WIJwrpL9g"
      },
      "source": [
        "def IC_2_Proporcion (x_1,n_1,x_2,n_2,Alpha):\n",
        "  '''\n",
        "  x_1 : Exitos de la muestra de la poblacion 1\n",
        "\n",
        "  n_1 : Longitud de la muestra de la poblacion 1\n",
        "\n",
        "  x_2 : Exitos de la muestra de la poblacion 2\n",
        "\n",
        "  n_2 : Longitud de la muestra de la poblacion 2\n",
        "\n",
        "  Alpha : Probabilidad deseada. Es un valor entre 0 y 1\n",
        "  '''\n",
        "  from math import sqrt\n",
        "  from scipy.stats import norm\n",
        "  Theta_1 = x_1/n_1\n",
        "  Theta_2 = x_2/n_2\n",
        "  Z = norm.isf(Alpha/2)\n",
        "  Raiz = sqrt( ( (Theta_1*(1-Theta_1)) /n_1 ) + ( (Theta_2*(1-Theta_2)) /n_2 ) )\n",
        "  Izq = (Theta_1 - Theta_2) - Z*Raiz\n",
        "  Der = (Theta_1 - Theta_2) + Z*Raiz\n",
        "  if Izq<0 and 0<Der:\n",
        "    Mensaje = 'Theta_1 = Theta_2'\n",
        "  elif Izq<0 and Der<0:\n",
        "    Mensaje = 'Theta_1 < Theta_2'\n",
        "  elif 0<Izq and 0<Der:\n",
        "    Mensaje = 'Theta_1 > Theta_2'\n",
        "  return [Izq,Der,str(Izq)[0:8]+' <Theta_1 - Theta_2< '+str(Der)[0:8],Mensaje]"
      ],
      "execution_count": null,
      "outputs": []
    },
    {
      "cell_type": "markdown",
      "metadata": {
        "id": "K3i2U8udvivC"
      },
      "source": [
        "**EJEMPLO**"
      ]
    },
    {
      "cell_type": "markdown",
      "metadata": {
        "id": "bRsZeNLxvleI"
      },
      "source": [
        "Ejemplo 11.9 del libro."
      ]
    },
    {
      "cell_type": "code",
      "metadata": {
        "colab": {
          "base_uri": "https://localhost:8080/",
          "height": 35
        },
        "id": "zYUtQJ1dvj5j",
        "outputId": "d9143aac-7e00-4800-bcab-0ea29de971cb"
      },
      "source": [
        "#DATOS\n",
        "Total_Hombres = 200\n",
        "Exitos_Hombres = 132\n",
        "Total_Mujeres = 159\n",
        "Exitos_Mujeres = 90\n",
        "\n",
        "#INTERVALO DE CONFIANZA\n",
        "IC_2_Proporcion(Exitos_Hombres,Total_Hombres,Exitos_Mujeres,Total_Mujeres,0.005*2)[2]"
      ],
      "execution_count": null,
      "outputs": [
        {
          "output_type": "execute_result",
          "data": {
            "application/vnd.google.colaboratory.intrinsic+json": {
              "type": "string"
            },
            "text/plain": [
              "'-0.03905 <Theta_1 - Theta_2< 0.226983'"
            ]
          },
          "metadata": {
            "tags": []
          },
          "execution_count": 14
        }
      ]
    },
    {
      "cell_type": "code",
      "metadata": {
        "colab": {
          "base_uri": "https://localhost:8080/",
          "height": 35
        },
        "id": "LUPfIFENzAZ8",
        "outputId": "a826b2e9-d865-447b-fac8-938f0bb2bce6"
      },
      "source": [
        "#CONCLUSION\n",
        "IC_2_Proporcion(Exitos_Hombres,Total_Hombres,Exitos_Mujeres,Total_Mujeres,0.005*2)[3]"
      ],
      "execution_count": null,
      "outputs": [
        {
          "output_type": "execute_result",
          "data": {
            "application/vnd.google.colaboratory.intrinsic+json": {
              "type": "string"
            },
            "text/plain": [
              "'Theta_1 = Theta_2'"
            ]
          },
          "metadata": {
            "tags": []
          },
          "execution_count": 15
        }
      ]
    },
    {
      "cell_type": "markdown",
      "metadata": {
        "id": "6305NbYxzNPs"
      },
      "source": [
        "## Intervalo de confianza para varianzas"
      ]
    },
    {
      "cell_type": "markdown",
      "metadata": {
        "id": "HZ5TMJl3zRd2"
      },
      "source": [
        "Sea $n$ una muestra aleatoria de tamaño $n$ de una población normal, el intervalo de confianza de $\\sigma^2$ es\n",
        "\n",
        "$$\\frac{(n-1)s^2}{\\chi^2_{\\frac{\\alpha}{2},n-1}} < \\sigma^2 < \\frac{(n-1)s^2}{\\chi^2_{1-\\frac{\\alpha}{2},n-1}}$$\n",
        "\n",
        "Si queremos la desviación estandar\n",
        "\n",
        "$$\\sqrt{\\frac{(n-1)s^2}{\\chi^2_{\\frac{\\alpha}{2},n-1}}} < \\sigma < \\sqrt{\\frac{(n-1)s^2}{\\chi^2_{1-\\frac{\\alpha}{2},n-1}}}$$"
      ]
    },
    {
      "cell_type": "code",
      "metadata": {
        "id": "9at_JSUW0gxd"
      },
      "source": [
        "def IC_1_Varianza_Datos_Conocidos (n,s,Alpha):\n",
        "  '''\n",
        "  n : Longitud de la muestra aleatoria\n",
        "\n",
        "  s : Desviacion de la muestra\n",
        "\n",
        "  Alpha : Probabilidad deseada. Un valor entre 0 y 1.\n",
        "  '''\n",
        "  from scipy.stats import chi2\n",
        "  Chi_Izq = chi2.isf(Alpha/2,n-1)\n",
        "  Chi_Der = chi2.isf(1-(Alpha/2),n-1)\n",
        "  Izq = ((n-1)*(s**2))/Chi_Izq\n",
        "  Der = ((n-1)*(s**2))/Chi_Der\n",
        "  return [Izq,Der,str(Izq)[0:8]+' <sigma^2< '+str(Der)[0:8]]"
      ],
      "execution_count": null,
      "outputs": []
    },
    {
      "cell_type": "markdown",
      "metadata": {
        "id": "oSl_bJwI6Pk6"
      },
      "source": [
        "**EJEMPLO**"
      ]
    },
    {
      "cell_type": "markdown",
      "metadata": {
        "id": "i1s7em4o6Q1B"
      },
      "source": [
        "Ejemplo 11.10 del libro"
      ]
    },
    {
      "cell_type": "code",
      "metadata": {
        "colab": {
          "base_uri": "https://localhost:8080/",
          "height": 35
        },
        "id": "a4kqGTkd6WeX",
        "outputId": "431fea2f-2be0-4773-c982-815df5a2250d"
      },
      "source": [
        "IC_1_Varianza_Datos_Conocidos(16,2.2,0.01)[2]"
      ],
      "execution_count": null,
      "outputs": [
        {
          "output_type": "execute_result",
          "data": {
            "application/vnd.google.colaboratory.intrinsic+json": {
              "type": "string"
            },
            "text/plain": [
              "'2.213325 <sigma^2< 15.77946'"
            ]
          },
          "metadata": {
            "tags": []
          },
          "execution_count": 17
        }
      ]
    },
    {
      "cell_type": "code",
      "metadata": {
        "id": "-U9UZzJU7EEk"
      },
      "source": [
        "def IC_1_Varianza_Datos_Desconocidos (Data,Alpha):\n",
        "  '''\n",
        "  Data : Lista que contiene los datos a analizar.\n",
        "\n",
        "  Alpha : Probabilidad deseada. Un valor entre 0 y 1.\n",
        "  '''\n",
        "  from scipy.stats import chi2\n",
        "  from statistics import variance\n",
        "  Varianza = variance(Data)\n",
        "  n = len(Data)\n",
        "  Chi_Izq = chi2.isf(Alpha/2,n-1)\n",
        "  Chi_Der = chi2.isf(1-(Alpha/2),n-1)\n",
        "  Izq = ((n-1)*Varianza)/Chi_Izq\n",
        "  Der = ((n-1)*Varianza)/Chi_Der\n",
        "  return [Izq,Der,str(Izq)[0:8]+' <sigma^2< '+str(Der)[0:8]]"
      ],
      "execution_count": null,
      "outputs": []
    },
    {
      "cell_type": "markdown",
      "metadata": {
        "id": "ezr6BWQs7wqB"
      },
      "source": [
        "**EJEMPLO**"
      ]
    },
    {
      "cell_type": "markdown",
      "metadata": {
        "id": "ipHLdxEG7xoc"
      },
      "source": [
        "Los datos se obtuvieron en el siguiente video\n",
        "\n",
        "https://www.youtube.com/watch?v=Pw66ZHxzAF4"
      ]
    },
    {
      "cell_type": "code",
      "metadata": {
        "colab": {
          "base_uri": "https://localhost:8080/",
          "height": 35
        },
        "id": "mqcylxGG70Xx",
        "outputId": "c2cc884a-a398-4ea5-dd14-ee2c4cd1e4a2"
      },
      "source": [
        "Data = [6.0,6.4,7.0,5.8,6.0,5.8,5.9,6.7,6.1,6.5,6.3,5.8]\n",
        "\n",
        "IC_1_Varianza_Datos_Desconocidos(Data,0.05)[2]"
      ],
      "execution_count": null,
      "outputs": [
        {
          "output_type": "execute_result",
          "data": {
            "application/vnd.google.colaboratory.intrinsic+json": {
              "type": "string"
            },
            "text/plain": [
              "'0.077060 <sigma^2< 0.442682'"
            ]
          },
          "metadata": {
            "tags": []
          },
          "execution_count": 19
        }
      ]
    },
    {
      "cell_type": "markdown",
      "metadata": {
        "id": "DWqD85WM8SMZ"
      },
      "source": [
        "## Intervalo de confianza para razón de dos varianzas"
      ]
    },
    {
      "cell_type": "markdown",
      "metadata": {
        "id": "Po5mx6Ak8Vue"
      },
      "source": [
        "Sean $n_1, n_2$ muestras aleatorias independientes de poblaciones normales, el intervalo de confianza de $\\frac{\\sigma_1^2}{\\sigma_2^2}$ es \n",
        "\n",
        "$$\\frac{s_1^2}{s_2^2}\\cdot \\frac{1}{F_{\\frac{\\alpha}{2},n_1-1,n_2-1}}<\\frac{\\sigma_1^2}{\\sigma_2^2}<F_{\\frac{\\alpha}{2},n_2-1,n_1-1}$$\n",
        "\n",
        "Decimos que $\\sigma_1^2 = \\sigma_2^2$ sí el intervalo de confianza contiene al 1."
      ]
    },
    {
      "cell_type": "code",
      "metadata": {
        "id": "K9a91VVS9IR-"
      },
      "source": [
        "def IC_2_Varianza_Datos_Conocidos (n_1,s_1,n_2,s_2,Alpha):\n",
        "  '''\n",
        "  n_1 : Longitud de la muestra 1\n",
        "\n",
        "  s_1 : desviacion de la muestra 1\n",
        "\n",
        "  n_2 : Longitud de la muestra 2\n",
        "\n",
        "  s_2 : desviacion de la muestra 2\n",
        "\n",
        "  Alpha : Probabilidad deseada. Un valor entre 0 y 1\n",
        "  '''\n",
        "  from scipy.stats import f\n",
        "  F_Izq = f.isf(Alpha/2,n_1-1,n_2-1)\n",
        "  F_Der = f.isf(Alpha/2,n_2-1,n_1-1)\n",
        "  Div = (s_1/s_2)**2\n",
        "  Izq = Div*(1/F_Izq)\n",
        "  Der = Div*F_Der\n",
        "  if Izq < 1 and 1 < Der:\n",
        "    Mensaje = 'Las varianzas son iguales'\n",
        "  else:\n",
        "    Mensaje = 'No podemos argumentar que las varianzas sean iguales'\n",
        "  return [Izq,Der,str(Izq)[0:8]+' <(Sigma_1^2)/(Sigma_2^2)< '+str(Der)[0:8],Mensaje]"
      ],
      "execution_count": null,
      "outputs": []
    },
    {
      "cell_type": "markdown",
      "metadata": {
        "id": "h2a0DcXH-rBF"
      },
      "source": [
        "**EJEMPLO**"
      ]
    },
    {
      "cell_type": "markdown",
      "metadata": {
        "id": "sJFgdYQk-sU0"
      },
      "source": [
        "Ejemplo 11.11 del libro\n"
      ]
    },
    {
      "cell_type": "code",
      "metadata": {
        "colab": {
          "base_uri": "https://localhost:8080/",
          "height": 35
        },
        "id": "G9XmEO5k-vqA",
        "outputId": "7995ad7e-10fa-40c3-fd37-d10464db579b"
      },
      "source": [
        "#DATOS\n",
        "n1 = 10\n",
        "n2 = 8\n",
        "Desviacion1 = 0.5\n",
        "Desviacion2 = 0.7\n",
        "\n",
        "#INTERVALO DE CONFIANZA\n",
        "IC_2_Varianza_Datos_Conocidos(n1,Desviacion1,n2,Desviacion2,0.02)[2]"
      ],
      "execution_count": null,
      "outputs": [
        {
          "output_type": "execute_result",
          "data": {
            "application/vnd.google.colaboratory.intrinsic+json": {
              "type": "string"
            },
            "text/plain": [
              "'0.075937 <(Sigma_1^2)/(Sigma_2^2)< 2.863706'"
            ]
          },
          "metadata": {
            "tags": []
          },
          "execution_count": 21
        }
      ]
    },
    {
      "cell_type": "code",
      "metadata": {
        "colab": {
          "base_uri": "https://localhost:8080/",
          "height": 35
        },
        "id": "cWB0sAfK_KcJ",
        "outputId": "9b46420c-01b4-4055-ef9d-da09f9f69ad9"
      },
      "source": [
        "#CONCLUSION\n",
        "IC_2_Varianza_Datos_Conocidos(n1,Desviacion1,n2,Desviacion2,0.02)[3]"
      ],
      "execution_count": null,
      "outputs": [
        {
          "output_type": "execute_result",
          "data": {
            "application/vnd.google.colaboratory.intrinsic+json": {
              "type": "string"
            },
            "text/plain": [
              "'Las varianzas son iguales'"
            ]
          },
          "metadata": {
            "tags": []
          },
          "execution_count": 22
        }
      ]
    },
    {
      "cell_type": "code",
      "metadata": {
        "id": "Npb2b9Nj_161"
      },
      "source": [
        "def IC_2_Varianza_Datos_Desconocidos (Data_1,Data_2,Alpha):\n",
        "  '''\n",
        "  Data_1 : Lista que contiene los datos de la primer muestra\n",
        "\n",
        "  Data_2 : Lista que contiene los datos de la segunda muestra\n",
        "\n",
        "  Alpha : Probabilidad deseada. Un valor entre 0 y 1\n",
        "  '''\n",
        "  from scipy.stats import f\n",
        "  from statistics import stdev\n",
        "  F_Izq = f.isf(Alpha/2,len(Data_1)-1,len(Data_2)-1)\n",
        "  F_Der = f.isf(Alpha/2,len(Data_2)-1,len(Data_1)-1)\n",
        "  Div = (stdev(Data_1)/stdev(Data_2))**2\n",
        "  Izq = Div*(1/F_Izq)\n",
        "  Der = Div*F_Der\n",
        "  if Izq < 1 and 1 < Der:\n",
        "    Mensaje = 'Las varianzas son iguales'\n",
        "  else:\n",
        "    Mensaje = 'No podemos argumentar que las varianzas sean iguales'\n",
        "  return [Izq,Der,str(Izq)[0:8]+' <(Sigma_1^2)/(Sigma_2^2)< '+str(Der)[0:8],Mensaje]"
      ],
      "execution_count": null,
      "outputs": []
    },
    {
      "cell_type": "markdown",
      "metadata": {
        "id": "bTTkRbkIA1Ss"
      },
      "source": [
        "**EJEMPLO**"
      ]
    },
    {
      "cell_type": "markdown",
      "metadata": {
        "id": "MmuCLWKwA2R2"
      },
      "source": [
        "Los datos se obtuvieron en el siguiente video\n",
        "\n",
        "https://www.youtube.com/watch?v=SzXfVJbPh-0\n"
      ]
    },
    {
      "cell_type": "code",
      "metadata": {
        "colab": {
          "base_uri": "https://localhost:8080/",
          "height": 35
        },
        "id": "ZlENOzyyA4e7",
        "outputId": "52350b08-a6dc-43b0-d212-a844ba6aaa1c"
      },
      "source": [
        "#DATOS\n",
        "Gasolina = [34,36,39,31,33,26,45,34,39,38,37]\n",
        "Gas = [33,41,39,32,29,28,33,34,25,28,36,33,35]\n",
        "\n",
        "#INTERVALO DE CONFIANZA\n",
        "IC_2_Varianza_Datos_Desconocidos(Gasolina,Gas,0.1)[2]"
      ],
      "execution_count": null,
      "outputs": [
        {
          "output_type": "execute_result",
          "data": {
            "application/vnd.google.colaboratory.intrinsic+json": {
              "type": "string"
            },
            "text/plain": [
              "'0.436251 <(Sigma_1^2)/(Sigma_2^2)< 3.498973'"
            ]
          },
          "metadata": {
            "tags": []
          },
          "execution_count": 24
        }
      ]
    },
    {
      "cell_type": "code",
      "metadata": {
        "colab": {
          "base_uri": "https://localhost:8080/",
          "height": 35
        },
        "id": "iRsDOzYcBK13",
        "outputId": "640febfd-a5c7-48b3-dc5f-3f44101dc94f"
      },
      "source": [
        "#CONCLUSION\n",
        "IC_2_Varianza_Datos_Desconocidos(Gasolina,Gas,0.1)[3]"
      ],
      "execution_count": null,
      "outputs": [
        {
          "output_type": "execute_result",
          "data": {
            "application/vnd.google.colaboratory.intrinsic+json": {
              "type": "string"
            },
            "text/plain": [
              "'Las varianzas son iguales'"
            ]
          },
          "metadata": {
            "tags": []
          },
          "execution_count": 25
        }
      ]
    },
    {
      "cell_type": "markdown",
      "metadata": {
        "id": "kPRKd80gkhr2"
      },
      "source": [
        "#Prueba de hipótesis"
      ]
    },
    {
      "cell_type": "markdown",
      "metadata": {
        "id": "vNgZTeLTkj8I"
      },
      "source": [
        "##Prueba de hipótesis"
      ]
    },
    {
      "cell_type": "markdown",
      "metadata": {
        "id": "5AG1LaSojHRB"
      },
      "source": [
        "A continuación definiremos ciertos conceptos necesarios para la estructura de las siguiente fórmulas.\n",
        "\n",
        "**Hipótesis estadística**\n",
        "\n",
        "Es una afirmación acerca de la distribución de una o más variables aleatorias\n",
        "\n",
        "**Hipótesis simple**\n",
        "\n",
        "Es una hipótesis estadística que especifica por completo la forma de distribución\n",
        "\n",
        "**Hipótesis compuesta**\n",
        "\n",
        "Es una hipótesis estadística que no especifíca por completo la forma de distribución\n",
        "\n",
        "**Hipótesis nula**\n",
        "\n",
        "Es la hipótesis que queremos probar, denotada comúnmente como $H_0$\n",
        "\n",
        "**Hipótesis alternativa**\n",
        "\n",
        "Es la hipótesis contraria a la nula, denotada comúnmente como $H_1$\n",
        "\n",
        "**Error tipo 1**\n",
        "\n",
        "Rechazar la hipótesis nula siendo verdadera, se denota como $\\alpha$\n",
        "\n",
        "**Error tipo 2**\n",
        "\n",
        "Aceptar la hipótesis nula siendo falsa, denotada como $\\beta$\n",
        "\n",
        "**Prueba de una hipótesis estadística**\n",
        "\n",
        "Para probar una hipótesis nula contra una alternativa, se utiliza un estadístico de prueba generando una región de rechazo y aceptación para $H_0$"
      ]
    },
    {
      "cell_type": "markdown",
      "metadata": {
        "id": "Lvrj3sfakMN7"
      },
      "source": [
        "Plantear una hipótesis nula es\n",
        "\n",
        "$$H_0 : \\theta = \\theta_0$$\n",
        "\n",
        "Plantear una hipótesis alternativa es una de las siguientes opciones.\n",
        "\n",
        "$$H_1 : \\theta < \\theta_0$$\n",
        "$$H_1 : \\theta > \\theta_0$$\n",
        "$$H_1 : \\theta \\neq \\theta_0$$"
      ]
    },
    {
      "cell_type": "markdown",
      "metadata": {
        "id": "PcdqgoqQlD6k"
      },
      "source": [
        "##Prueba de hipótesis para una media"
      ]
    },
    {
      "cell_type": "markdown",
      "metadata": {
        "id": "E3gBjvpblHGG"
      },
      "source": [
        "Dada una muestra aleatoria de tamaño $n$ tomada de una población normal."
      ]
    },
    {
      "cell_type": "markdown",
      "metadata": {
        "id": "vRuNnUAalLVF"
      },
      "source": [
        "### Prueba $Z$"
      ]
    },
    {
      "cell_type": "markdown",
      "metadata": {
        "id": "j--s-yXClRsD"
      },
      "source": [
        "Condiciones de la prueba $Z$.\n",
        "\n",
        "|Condición|Descripción|\n",
        "|--|--|\n",
        "|1|Población normal y $\\sigma^2$ conocida|\n",
        "|2|Población no normal pero $n\\geq 30$|\n",
        "|3|$\\sigma^2$ desconocida pero $n\\geq 30$, entonces considere $s = \\sigma$|\n",
        "\n",
        "Prueba $Z$\n",
        "\n",
        "|Hipótesis Nula ($H_0$)|Hipótesis Alternativa ($H_1$)|Se rechaza $H_0$ sí|Estadístico de prueba|\n",
        "|--|--|--|--|\n",
        "|$$H_0 : \\mu = \\mu_0$$|$$H_1 : \\mu > \\mu_0$$|$$z\\geq z_{\\alpha}$$|$$z = \\frac{\\bar{x}-\\mu_0}{\\sigma/\\sqrt{n}}$$|\n",
        "|$$H_0 : \\mu = \\mu_0$$|$$H_1 : \\mu < \\mu_0$$|$$z\\leq -z_{\\alpha}$$|$$z = \\frac{\\bar{x}-\\mu_0}{\\sigma/\\sqrt{n}}$$|\n",
        "|$$H_0 : \\mu = \\mu_0$$|$$H_1 : \\mu \\neq \\mu_0$$|$$|z|\\geq z_{\\alpha/2}$$|$$z = \\frac{\\bar{x}-\\mu_0}{\\sigma/\\sqrt{n}}$$|"
      ]
    },
    {
      "cell_type": "code",
      "metadata": {
        "id": "aPqaEjzrm3Za"
      },
      "source": [
        "def PH_1_Media_Z (Bar_X,M_0,Sigma,n,Alpha,Var_Pob,H_A):\n",
        "  '''\n",
        "  Bar_X : Media de la muestra\n",
        "\n",
        "  M_0 : Media a comparar\n",
        "\n",
        "  Sigma : Desviacion de la muestra\n",
        "\n",
        "  n : Longitud de la muestra\n",
        "\n",
        "  Alpha : Probabilidad deseada. Un valor entre 0 y 1\n",
        "\n",
        "  Var_Pob : Un valor booleano. Si es True entonces la varianza poblacional\n",
        "  es conocida, False en otro caso.\n",
        "\n",
        "  H_A : Recibe el valor 1, 2 o 3 segun sea el caso de la hipotesis alternativa\n",
        "  a realizar. Si es 1 entonces la hipotesis alternativa es Mu > Mu_0, si es 2\n",
        "  entonces la hipotesis alternativa es Mu < Mu_0 y si es 3 entonces la hipotesis\n",
        "  alternativa es Mu != Mu_0\n",
        "  '''\n",
        "  from scipy.stats import norm\n",
        "  from math import sqrt\n",
        "  Estadistico_Prueba = (Bar_X - M_0)/(Sigma/sqrt(n))\n",
        "  if H_A == 1:\n",
        "    Z = norm.isf(Alpha)\n",
        "    if Estadistico_Prueba >= Z:\n",
        "      return [Estadistico_Prueba,Z,'Rechazamos la hipotesis nula']\n",
        "    else:\n",
        "      return [Estadistico_Prueba,Z,'No rechazamos la hipotesis nula']\n",
        "  elif H_A == 2:\n",
        "    Z = -norm.isf(Alpha)\n",
        "    if Estadistico_Prueba <= Z:\n",
        "      return [Estadistico_Prueba,Z,'Rechazamos la hipotesis nula']\n",
        "    else:\n",
        "      return [Estadistico_Prueba,Z,'No rechazamos la hipotesis nula']\n",
        "  elif H_A == 3:\n",
        "    Z = norm.isf(Alpha/2)\n",
        "    if abs(Estadistico_Prueba) >= Z:\n",
        "      return [abs(Estadistico_Prueba),Z,'Rechazamos la hipotesis nula']\n",
        "    else:\n",
        "      return [abs(Estadistico_Prueba),Z,'No rechazamos la hipotesis nula']"
      ],
      "execution_count": null,
      "outputs": []
    },
    {
      "cell_type": "markdown",
      "metadata": {
        "id": "XKGFFlcOzV5a"
      },
      "source": [
        "**EJEMPLO**"
      ]
    },
    {
      "cell_type": "markdown",
      "metadata": {
        "id": "litFZUuqzX39"
      },
      "source": [
        "Ejemplo 13.2 del libro"
      ]
    },
    {
      "cell_type": "code",
      "metadata": {
        "colab": {
          "base_uri": "https://localhost:8080/",
          "height": 35
        },
        "id": "Zfx4WXiX0I0G",
        "outputId": "e2009f29-a7a8-4e05-b92b-124b74a89897"
      },
      "source": [
        "PH_1_Media_Z(Bar_X = 21819,M_0 = 22000, Sigma = 1295,n = 100,Alpha = 0.05,Var_Pob = False,H_A = 2)[2]"
      ],
      "execution_count": null,
      "outputs": [
        {
          "output_type": "execute_result",
          "data": {
            "application/vnd.google.colaboratory.intrinsic+json": {
              "type": "string"
            },
            "text/plain": [
              "'No rechazamos la hipotesis nula'"
            ]
          },
          "metadata": {
            "tags": []
          },
          "execution_count": 27
        }
      ]
    },
    {
      "cell_type": "code",
      "metadata": {
        "colab": {
          "base_uri": "https://localhost:8080/"
        },
        "id": "p2iFnA0oE2Fl",
        "outputId": "4cda508b-cfaf-41e6-ae4d-551e97d0cc3c"
      },
      "source": [
        "print('Estadistico de prueba',PH_1_Media_Z(Bar_X = 21819,M_0 = 22000, Sigma = 1295,n = 100,Alpha = 0.05,Var_Pob = False,H_A = 2)[0],\n",
        "      '\\nValor de Z',PH_1_Media_Z(Bar_X = 21819,M_0 = 22000, Sigma = 1295,n = 100,Alpha = 0.05,Var_Pob = False,H_A = 2)[1])"
      ],
      "execution_count": null,
      "outputs": [
        {
          "output_type": "stream",
          "text": [
            "Estadistico de prueba -1.3976833976833978 \n",
            "Valor de Z -1.6448536269514729\n"
          ],
          "name": "stdout"
        }
      ]
    },
    {
      "cell_type": "markdown",
      "metadata": {
        "id": "bWxH_PLalOG7"
      },
      "source": [
        "### Prueba $t$"
      ]
    },
    {
      "cell_type": "markdown",
      "metadata": {
        "id": "mxDV-Oui0qLh"
      },
      "source": [
        "Condiciontes de la prueba $t$\n",
        "\n",
        "|Condicion|Descripción|\n",
        "|---------|-----------|\n",
        "|1|Se aplica cuando el tamaño de muestra es menor a 30 y $\\sigma^2$ es desconocida|\n",
        "\n",
        "Prueba $t$\n",
        "\n",
        "|Hipótesis nula $(H_0)$|Hipótesis alternativa $(H_1)$|Se rechaza $H_0$ sí|Estadístico de prueba|\n",
        "|--|--|--|--|\n",
        "|$$H_0 : \\mu = \\mu_0$$|$$H_1 : \\mu > \\mu_0$$|$$t\\geq t_{\\alpha,n-1}$$|$$t = \\frac{\\bar{x}-\\mu_0}{s/\\sqrt{n}}$$|\n",
        "|$$H_0 : \\mu = \\mu_0$$|$$H_1 : \\mu < \\mu_0$$|$$t\\leq -t_{\\alpha,n-1}$$|$$t = \\frac{\\bar{x}-\\mu_0}{s/\\sqrt{n}}$$|\n",
        "|$$H_0 : \\mu = \\mu_0$$|$$H_1 : \\mu \\neq \\mu_0$$|$$|t|\\geq t_{\\alpha/2,n-1}$$|$$t = \\frac{\\bar{x}-\\mu_0}{s/\\sqrt{n}}$$|"
      ]
    },
    {
      "cell_type": "code",
      "metadata": {
        "id": "95OsimaC1xWI"
      },
      "source": [
        "def PH_1_Media_t (Bar_X,M_0,Sigma,n,Alpha,H_A):\n",
        "  '''\n",
        "  Bar_X : Media de la muestra\n",
        "\n",
        "  M_0 : Media a comparar\n",
        "\n",
        "  Sigma : Desviacion de la muestra\n",
        "\n",
        "  n : Longitud de la muestra\n",
        "\n",
        "  Alpha : Probabilidad deseada. Un valor entre 0 y 1\n",
        "\n",
        "  H_A : Recibe el valor 1, 2 o 3 segun sea el caso de la hipotesis alternativa\n",
        "  a realizar. Si es 1 entonces la hipotesis alternativa es Mu > Mu_0, si es 2\n",
        "  entonces la hipotesis alternativa es Mu < Mu_0 y si es 3 entonces la hipotesis\n",
        "  alternativa es Mu != Mu_0\n",
        "  '''\n",
        "  from scipy.stats import t\n",
        "  from math import sqrt\n",
        "  Estadistico_Prueba = (Bar_X-M_0)/(Sigma/sqrt(n))\n",
        "  if H_A == 1:\n",
        "    t_v = t.isf(Alpha,n-1)\n",
        "    if Estadistico_Prueba >= t_v:\n",
        "      return [Estadistico_Prueba,t_v,'Rechazamos la hipotesis nula']\n",
        "    else:\n",
        "      return [Estadistico_Prueba,t_v,'No rechazamos la hipotesis nula']\n",
        "  elif H_A == 2:\n",
        "    t_v = -t.isf(Alpha,n-1)\n",
        "    if Estadistico_Prueba <= t_v:\n",
        "      return [Estadistico_Prueba,t_v,'Rechazamos la hipotesis nula']\n",
        "    else:\n",
        "      return [Estadistico_Prueba,t_v,'No rechazamos la hipotesis nula']\n",
        "  elif H_A == 3:\n",
        "    t_v = t.isf(Alpha/2,n-1)\n",
        "    if abs(Estadistico_Prueba) >= t_v:\n",
        "      return [abs(Estadistico_Prueba),t_v,'Rechazamos la hipotesis nula']\n",
        "    else:\n",
        "      return [abs(Estadistico_Prueba),t_v,'No rechazamos la hipotesis nula']"
      ],
      "execution_count": null,
      "outputs": []
    },
    {
      "cell_type": "markdown",
      "metadata": {
        "id": "HU_ZTWsMF4Hj"
      },
      "source": [
        "**EJEMPLO**"
      ]
    },
    {
      "cell_type": "markdown",
      "metadata": {
        "id": "18vWFj02F5QY"
      },
      "source": [
        "Los datos se obtuvieron del siguiente video\n",
        "\n",
        "https://www.youtube.com/watch?v=muHwIBu6s8Y&ab_channel=MaestroGustavo"
      ]
    },
    {
      "cell_type": "code",
      "metadata": {
        "colab": {
          "base_uri": "https://localhost:8080/",
          "height": 35
        },
        "id": "tUNKhj0iF7n4",
        "outputId": "069e99e4-fa26-40a4-9555-8636e0b25916"
      },
      "source": [
        "from statistics import mean,stdev\n",
        "Datos = [88,82,81,87,80,78,79,89,83,88,79,85,81,77,78,85]\n",
        "\n",
        "#CONCLUSION\n",
        "PH_1_Media_t(Bar_X=mean(Datos),M_0=87,Sigma=stdev(Datos),n=len(Datos),Alpha=0.05,H_A=2)[2]"
      ],
      "execution_count": null,
      "outputs": [
        {
          "output_type": "execute_result",
          "data": {
            "application/vnd.google.colaboratory.intrinsic+json": {
              "type": "string"
            },
            "text/plain": [
              "'Rechazamos la hipotesis nula'"
            ]
          },
          "metadata": {
            "tags": []
          },
          "execution_count": 30
        }
      ]
    },
    {
      "cell_type": "code",
      "metadata": {
        "colab": {
          "base_uri": "https://localhost:8080/"
        },
        "id": "8SAlwGxeHAGB",
        "outputId": "fdc4150b-20ce-4e20-fae8-25d56a69b631"
      },
      "source": [
        "#ESTADISTICO DE PRUEBA Y VALOR DE t\n",
        "print('Estadistico de prueba',PH_1_Media_t(Bar_X=mean(Datos),M_0=87,Sigma=stdev(Datos),n=len(Datos),Alpha=0.05,H_A=2)[0],\n",
        "      '\\nValor de t',PH_1_Media_t(Bar_X=mean(Datos),M_0=87,Sigma=stdev(Datos),n=len(Datos),Alpha=0.05,H_A=2)[1])"
      ],
      "execution_count": null,
      "outputs": [
        {
          "output_type": "stream",
          "text": [
            "Estadistico de prueba -4.4813663795877225 \n",
            "Valor de t -1.7530503556925552\n"
          ],
          "name": "stdout"
        }
      ]
    },
    {
      "cell_type": "markdown",
      "metadata": {
        "id": "7iN_73Fd6wKp"
      },
      "source": [
        "## Prueba de hipótesis para dos medias"
      ]
    },
    {
      "cell_type": "markdown",
      "metadata": {
        "id": "PraCIFjd6zOc"
      },
      "source": [
        "Dadas dos muestras aleatorias independientes de tamaños $n_1$ y $n_2$ tomadas de poblaciones normales con $\\sigma_1^2$ y $\\sigma_2^2$ conocidas."
      ]
    },
    {
      "cell_type": "markdown",
      "metadata": {
        "id": "38APlGnG6-Tu"
      },
      "source": [
        "### Prueba $Z$"
      ]
    },
    {
      "cell_type": "markdown",
      "metadata": {
        "id": "XkoCi9eP7AC5"
      },
      "source": [
        "Condiciones para la prueba $Z$\n",
        "\n",
        "|Condición|Descripción|\n",
        "|--|--|\n",
        "|1|Poblaciones normales y $\\sigma_1^2,\\sigma_2^2$ conocidas|\n",
        "|2|$$n_1,n_2 \\geq 30$$|"
      ]
    },
    {
      "cell_type": "markdown",
      "metadata": {
        "id": "8YRBKKD07UTw"
      },
      "source": [
        "Prueba $Z$\n",
        "\n",
        "|Hipótesis nula $(H_0)$|Hipótesis alternativa $(H_1)$|Se rechaza $H_0$ sí|Estadístico de prueba|\n",
        "|--|--|--|--|\n",
        "|$$H_0 : \\mu_1 - \\mu_2 = \\delta$$|$$H_1 : \\mu_1 - \\mu_2 > \\delta$$|$$z\\geq z_{\\alpha}$$|$$z = \\frac{(\\bar{x_1}-\\bar{x_2})-\\delta}{\\sqrt{\\frac{\\sigma_1^2}{n_1} + \\frac{\\sigma_2^2}{n_2} }}$$|\n",
        "|$$H_0 : \\mu_1 - \\mu_2 = \\delta$$|$$H_1 : \\mu_1 - \\mu_2 < \\delta$$|$$z\\leq -z_{\\alpha}$$|$$z = \\frac{(\\bar{x_1}-\\bar{x_2})-\\delta}{\\sqrt{\\frac{\\sigma_1^2}{n_1} + \\frac{\\sigma_2^2}{n_2} }}$$|\n",
        "|$$H_0 : \\mu_1 - \\mu_2 = \\delta$$|$$H_1 : \\mu_1 - \\mu_2 \\neq \\delta$$|$$|z|\\geq z_{\\alpha/2}$$|$$z = \\frac{(\\bar{x_1}-\\bar{x_2})-\\delta}{\\sqrt{\\frac{\\sigma_1^2}{n_1} + \\frac{\\sigma_2^2}{n_2} }}$$|\n",
        "\n",
        "Sí deseamos saber si una media es mayor, menor o distinta de otra media hacemos $\\delta = 0$"
      ]
    },
    {
      "cell_type": "code",
      "metadata": {
        "id": "3Zu5QYlF9qUB"
      },
      "source": [
        "def PH_2_Media_Z (Bar_X_1,Varianza_1,n_1,Bar_X_2,Varianza_2,n_2,Delta,Alpha,H_A):\n",
        "  '''\n",
        "  Bar_X_i : Media de la muestra i\n",
        "\n",
        "  Delta : Valor a comparar\n",
        "\n",
        "  Varianza_i : Varianza de la muestra i\n",
        "\n",
        "  n_i : Longitud de la muestra i\n",
        "\n",
        "  Alpha : Probabilidad deseada. Un valor entre 0 y 1\n",
        "\n",
        "  H_A : Recibe el valor 1, 2 o 3 segun sea el caso de la hipotesis alternativa\n",
        "  a realizar. Si es 1 entonces la hipotesis alternativa es Mu_1 > Mu_0, si es 2\n",
        "  entonces la hipotesis alternativa es Mu_1 < Mu_0 y si es 3 entonces la hipotesis\n",
        "  alternativa es Mu_1 != Mu_0\n",
        "  '''\n",
        "  from scipy.stats import norm\n",
        "  from math import sqrt\n",
        "  Estadistico_Prueba = ((Bar_X_1 - Bar_X_2) - Delta)/sqrt((Varianza_1/n_1)+(Varianza_2/n_2))\n",
        "  if H_A == 1:\n",
        "    Z = norm.isf(Alpha)\n",
        "    if Estadistico_Prueba >= Z:\n",
        "      return [Estadistico_Prueba,Z,'Rechazamos la hipotesis nula']\n",
        "    else:\n",
        "      return [Estadistico_Prueba,Z,'No rechazamos la hipotesis nula']\n",
        "  elif H_A == 2:\n",
        "    Z = -norm.isf(Alpha)\n",
        "    if Estadistico_Prueba <= Z:\n",
        "      return [Estadistico_Prueba,Z,'Rechazamos la hipotesis nula']\n",
        "    else:\n",
        "      return [Estadistico_Prueba,Z,'No rechazamos la hipotesis nula']\n",
        "  elif H_A == 3:\n",
        "    Z = norm.isf(Alpha/2)\n",
        "    if abs(Estadistico_Prueba) >= Z:\n",
        "      return [abs(Estadistico_Prueba),Z,'Rechazamos la hipotesis nula']\n",
        "    else:\n",
        "      return [abs(Estadistico_Prueba),Z,'No rechazamos la hipotesis nula']"
      ],
      "execution_count": null,
      "outputs": []
    },
    {
      "cell_type": "markdown",
      "metadata": {
        "id": "sH5AzuuyCO5V"
      },
      "source": [
        "**EJEMPLO**"
      ]
    },
    {
      "cell_type": "markdown",
      "metadata": {
        "id": "6217oOO2CQaX"
      },
      "source": [
        "Los datos se obtuvieron del siguiente video\n",
        "\n",
        "https://www.youtube.com/watch?v=8HLhlN1BDjA&ab_channel=MaestroGustavo"
      ]
    },
    {
      "cell_type": "code",
      "metadata": {
        "id": "TRxPSUBqCUEs"
      },
      "source": [
        "Media_Colegio_A = 135\n",
        "Varianza_Colegio_A = 19**2\n",
        "n_Colegio_A = 50\n",
        "Media_Colegio_B = 141\n",
        "Varianza_Colegio_B = 27**2\n",
        "n_Colegio_B = 63\n",
        "Delta = 0\n",
        "Alpha = 0.05\n",
        "H_A = 2 #VEREMOS SI LA MEDIA DEL COLEGIO B ES MAYOR A LA DEL COLEGIO A"
      ],
      "execution_count": null,
      "outputs": []
    },
    {
      "cell_type": "code",
      "metadata": {
        "colab": {
          "base_uri": "https://localhost:8080/",
          "height": 35
        },
        "id": "kgmXoiI5DnIe",
        "outputId": "592aef22-c5f1-40d5-92ca-4e5d5b158062"
      },
      "source": [
        "#CONCLUSION\n",
        "PH_2_Media_Z(Bar_X_1 = Media_Colegio_A,Varianza_1=Varianza_Colegio_A,\n",
        "             n_1=n_Colegio_A,Bar_X_2=Media_Colegio_B,\n",
        "             Varianza_2=Varianza_Colegio_B,n_2=n_Colegio_B,\n",
        "             Delta=Delta,Alpha=Alpha,H_A=H_A)[2]"
      ],
      "execution_count": null,
      "outputs": [
        {
          "output_type": "execute_result",
          "data": {
            "application/vnd.google.colaboratory.intrinsic+json": {
              "type": "string"
            },
            "text/plain": [
              "'No rechazamos la hipotesis nula'"
            ]
          },
          "metadata": {
            "tags": []
          },
          "execution_count": 34
        }
      ]
    },
    {
      "cell_type": "code",
      "metadata": {
        "colab": {
          "base_uri": "https://localhost:8080/"
        },
        "id": "SW5S8ENrEZ7C",
        "outputId": "7533b594-4f34-433a-f7c6-cb24a1c36534"
      },
      "source": [
        "#ESTADISTICO DE PRUEBA Y VALOR DE Z\n",
        "print('Estadistico de prueba',PH_2_Media_Z(Bar_X_1 = Media_Colegio_A,Varianza_1=Varianza_Colegio_A,\n",
        "             n_1=n_Colegio_A,Bar_X_2=Media_Colegio_B,\n",
        "             Varianza_2=Varianza_Colegio_B,n_2=n_Colegio_B,\n",
        "             Delta=Delta,Alpha=Alpha,H_A=H_A)[0],'\\nValor de Z',PH_2_Media_Z(Bar_X_1 = Media_Colegio_A,Varianza_1=Varianza_Colegio_A,\n",
        "             n_1=n_Colegio_A,Bar_X_2=Media_Colegio_B,\n",
        "             Varianza_2=Varianza_Colegio_B,n_2=n_Colegio_B,\n",
        "             Delta=Delta,Alpha=Alpha,H_A=H_A)[1])"
      ],
      "execution_count": null,
      "outputs": [
        {
          "output_type": "stream",
          "text": [
            "Estadistico de prueba -1.3841123751530606 \n",
            "Valor de Z -1.6448536269514729\n"
          ],
          "name": "stdout"
        }
      ]
    },
    {
      "cell_type": "markdown",
      "metadata": {
        "id": "ER-aO37t8Pt3"
      },
      "source": [
        "### Prueba $t$"
      ]
    },
    {
      "cell_type": "markdown",
      "metadata": {
        "id": "WX94p1YQ8Ru_"
      },
      "source": [
        "Condiciones para la prueba $t$\n",
        "\n",
        "|Condición|Descripción|\n",
        "|--|--|\n",
        "|1|$n_1,n_2$ son menores o iguales a 29 y $\\sigma_1^2,\\sigma_2^2$ son desconocidas pero iguales|"
      ]
    },
    {
      "cell_type": "markdown",
      "metadata": {
        "id": "sHzCfuPZ8eZT"
      },
      "source": [
        "Prueba $t$\n",
        "\n",
        "|Hipótesis nula $(H_0)$|Hipótesis alternativa $(H_1)$|Se rechaza $H_0$ sí|Estadístico de prueba|\n",
        "|--|--|--|--|\n",
        "|$$H_0 : \\mu_1 - \\mu_2 = \\delta$$|$$H_1 : \\mu_1 - \\mu_2 > \\delta$$|$$t \\geq t_{\\alpha,n_1+n_2-2}$$|$$t = \\frac{(\\bar{x_1}-\\bar{x_2})-\\delta}{S_p\\cdot \\sqrt{\\frac{1}{n_1} + \\frac{1}{n_2} }}$$|\n",
        "|$$H_0 : \\mu_1 - \\mu_2 = \\delta$$|$$H_1 : \\mu_1 - \\mu_2 < \\delta$$|$$t \\leq -t_{\\alpha,n_1+n_2-2}$$|$$t = \\frac{(\\bar{x_1}-\\bar{x_2})-\\delta}{S_p\\cdot \\sqrt{\\frac{1}{n_1} + \\frac{1}{n_2} }}$$|\n",
        "|$$H_0 : \\mu_1 - \\mu_2 = \\delta$$|$$H_1 : \\mu_1 - \\mu_2 \\neq \\delta$$|$$|t| \\geq t_{\\alpha/2,n_1+n_2-2}$$|$$t = \\frac{(\\bar{x_1}-\\bar{x_2})-\\delta}{S_p\\cdot \\sqrt{\\frac{1}{n_1} + \\frac{1}{n_2} }}$$|\n",
        "\n",
        "Donde\n",
        "\n",
        "$$S_p = \\sqrt{\\frac{(n_1-1)s_1^2+(n_2-1)s_2^2}{n_1+n_2-2} }$$\n",
        "\n",
        "Sí deseamos saber si una media es mayor, menor o distinta de otra media hacemos $\\delta = 0$"
      ]
    },
    {
      "cell_type": "code",
      "metadata": {
        "id": "4sduJ93RY9zA"
      },
      "source": [
        "#HACEMOS USO DE LA FUNCION ANTERIOR DEFINIDA S_p_Function\n",
        "\n",
        "def PH_2_Media_t (Bar_X_1,Varianza_1,n_1,Bar_X_2,Varianza_2,n_2,Delta,Alpha,H_A):\n",
        "  '''\n",
        "  Bar_X_i : Media de la muestra i\n",
        "\n",
        "  Delta : Valor a comparar\n",
        "\n",
        "  Varianza_i : Varianza de la muestra i\n",
        "\n",
        "  n_i : Longitud de la muestra i\n",
        "\n",
        "  Alpha : Probabilidad deseada. Un valor entre 0 y 1\n",
        "\n",
        "  H_A : Recibe el valor 1, 2 o 3 segun sea el caso de la hipotesis alternativa\n",
        "  a realizar. Si es 1 entonces la hipotesis alternativa es Mu_1 > Mu_0, si es 2\n",
        "  entonces la hipotesis alternativa es Mu_1 < Mu_0 y si es 3 entonces la hipotesis\n",
        "  alternativa es Mu_1 != Mu_0\n",
        "  '''\n",
        "  from scipy.stats import t\n",
        "  from math import sqrt\n",
        "  Estadistico_Prueba = ( (Bar_X_1-Bar_X_2) - Delta ) / (S_p_Function(n_1,n_2,Varianza_1,Varianza_2)*sqrt( (1/n_1)+(1/n_2) ) ) \n",
        "  if H_A == 1:\n",
        "    t_v = t.isf(Alpha,n_1+n_2-2)\n",
        "    if Estadistico_Prueba >= t_v :\n",
        "      return [Estadistico_Prueba,t_v,'Rechazamos la hipotesis nula']\n",
        "    else:\n",
        "      return [Estadistico_Prueba,t_v,'No rechazamos la hipotesis nula']\n",
        "  elif H_A == 2:\n",
        "    t_v = -t.isf(Alpha,n_1+n_2-2)\n",
        "    if Estadistico_Prueba <= t_v:\n",
        "      return [Estadistico_Prueba,t_v,'Rechazamos la hipotesis nula']\n",
        "    else:\n",
        "      return [Estadistico_Prueba,t_v,'No rechazamos la hipotesis nula']\n",
        "  elif H_A == 3:\n",
        "    t_v = t.isf(Alpha/2,n_1+n_2-2)\n",
        "    if abs(Estadistico_Prueba)>= t_v:\n",
        "      return [abs(Estadistico_Prueba),t_v,'Rechazamos la hipotesis nula']\n",
        "    else:\n",
        "      return [abs(Estadistico_Prueba),t_v,'No rechazamos la hipotesis nula']"
      ],
      "execution_count": null,
      "outputs": []
    },
    {
      "cell_type": "markdown",
      "metadata": {
        "id": "9Lmndztt_isc"
      },
      "source": [
        "**EJEMPLO**"
      ]
    },
    {
      "cell_type": "markdown",
      "metadata": {
        "id": "-HdmVDuP_j2T"
      },
      "source": [
        "Los datos se obtuvieron del siguiente video\n",
        "\n",
        "https://www.youtube.com/watch?v=8K7QbatdrIA"
      ]
    },
    {
      "cell_type": "code",
      "metadata": {
        "id": "tayT3ESb_l6g"
      },
      "source": [
        "from statistics import mean, variance\n",
        "Mujeres = [12,11,14,13,13,14,13,12,14,12]\n",
        "Hombres = [13,10,11,12,13,12,10,12]\n",
        "Mujeres_n = len(Mujeres)\n",
        "Hombres_n = len(Hombres)\n",
        "Mujeres_Media  = mean(Mujeres)\n",
        "Hombres_Media  = mean(Hombres)\n",
        "Mujeres_Varianza = variance(Mujeres)\n",
        "Hombres_Varianza = variance(Hombres)\n",
        "#QUEREMOS PROBAR QUE LA MEDIA DE LAS MUJERES ES MAYOR AL DE LOS HOMBRES"
      ],
      "execution_count": null,
      "outputs": []
    },
    {
      "cell_type": "code",
      "metadata": {
        "colab": {
          "base_uri": "https://localhost:8080/",
          "height": 35
        },
        "id": "_P1NcorQhWni",
        "outputId": "119bb841-4135-4061-ea07-a9656802a850"
      },
      "source": [
        "PH_2_Media_t(Bar_X_1=Mujeres_Media,Varianza_1=Mujeres_Varianza,n_1=Mujeres_n,Bar_X_2=Hombres_Media,Varianza_2=Hombres_Varianza,n_2=Hombres_n,Delta=0,Alpha=0.05,H_A = 1)[2]"
      ],
      "execution_count": null,
      "outputs": [
        {
          "output_type": "execute_result",
          "data": {
            "application/vnd.google.colaboratory.intrinsic+json": {
              "type": "string"
            },
            "text/plain": [
              "'Rechazamos la hipotesis nula'"
            ]
          },
          "metadata": {
            "tags": []
          },
          "execution_count": 38
        }
      ]
    },
    {
      "cell_type": "code",
      "metadata": {
        "colab": {
          "base_uri": "https://localhost:8080/"
        },
        "id": "CI4dK1AGhxFk",
        "outputId": "6b4a84cf-17ec-46ed-c2d7-f30527a1f268"
      },
      "source": [
        "print('Estadistico de prueba',PH_2_Media_t(Bar_X_1=Mujeres_Media,Varianza_1=Mujeres_Varianza,n_1=Mujeres_n,Bar_X_2=Hombres_Media,Varianza_2=Hombres_Varianza,n_2=Hombres_n,Delta=0,Alpha=0.05,H_A = 1)[0],\n",
        "      '\\nValor de t',PH_2_Media_t(Bar_X_1=Mujeres_Media,Varianza_1=Mujeres_Varianza,n_1=Mujeres_n,Bar_X_2=Hombres_Media,Varianza_2=Hombres_Varianza,n_2=Hombres_n,Delta=0,Alpha=0.05,H_A = 1)[1])"
      ],
      "execution_count": null,
      "outputs": [
        {
          "output_type": "stream",
          "text": [
            "Estadistico de prueba 2.2452663402200597 \n",
            "Valor de t 1.7458836762762404\n"
          ],
          "name": "stdout"
        }
      ]
    },
    {
      "cell_type": "markdown",
      "metadata": {
        "id": "B0o83Q7UiceN"
      },
      "source": [
        "## Prueba de hipótesis para una varianza"
      ]
    },
    {
      "cell_type": "markdown",
      "metadata": {
        "id": "PrlKgirqifOp"
      },
      "source": [
        "|Hipótesis nula $(H_0)$|Hipótesis alternativa $(H_1)$|Se rechaza $H_0$ sí|Estadístico de prueba|\n",
        "|--|--|--|--|\n",
        "|$$H_0 : \\sigma^2 = \\sigma_0^2$$|$$H_1 : \\sigma^2 > \\sigma_0^2$$|$$\\chi^2 \\geq \\chi^2_{\\alpha,n-1}$$|$$\\chi^2 = \\frac{(n-1)s^2}{\\sigma_0^2}$$|\n",
        "|$$H_0 : \\sigma^2 = \\sigma_0^2$$|$$H_1 : \\sigma^2 < \\sigma_0^2$$|$$\\chi^2 \\leq \\chi^2_{1-\\alpha,n-1}$$|$$\\chi^2 = \\frac{(n-1)s^2}{\\sigma_0^2}$$|\n",
        "|$$H_0 : \\sigma^2 = \\sigma_0^2$$|$$H_1 : \\sigma^2 \\neq \\sigma_0^2$$|$$\\chi^2 \\geq \\chi^2_{\\alpha/2,n-1}$$|$$\\chi^2 = \\frac{(n-1)s^2}{\\sigma_0^2}$$|"
      ]
    },
    {
      "cell_type": "code",
      "metadata": {
        "id": "GiJ35Izqj0cQ"
      },
      "source": [
        "def PH_1_Varianza (n,Varianza_0,Varianza,Alpha,H_A):\n",
        "  '''\n",
        "  n : Longitud de la muestra\n",
        "\n",
        "  Varianza_0 : Varianza a comparar.\n",
        "\n",
        "  Varianza : Valor de la varianza muestral.\n",
        "\n",
        "  Alpha : Probabilidad deseada. Un valor entre 0 y 1\n",
        "\n",
        "  H_A : Recibe el valor 1, 2 o 3 segun sea el caso de la hipotesis alternativa\n",
        "  a realizar. Si es 1 entonces la hipotesis alternativa es Var > Var_0, si es 2\n",
        "  entonces la hipotesis alternativa es Var < Var_0 y si es 3 entonces la hipotesis\n",
        "  alternativa es Var != Var_0\n",
        "  '''\n",
        "  from scipy.stats import chi2\n",
        "  Estadistico_Prueba = ((n-1)*Varianza)/Varianza_0\n",
        "  if H_A == 1:\n",
        "    Chi_2 = chi2.isf(Alpha,n-1)\n",
        "    if Estadistico_Prueba >= Chi_2:\n",
        "      return [Estadistico_Prueba,Chi_2,'Rechazamos la hipotesis nula']\n",
        "    else:\n",
        "      return [Estadistico_Prueba,Chi_2,'No rechazamos la hipotesis nula']\n",
        "  elif H_A == 2:\n",
        "    Chi_2 = chi2.isf(1-Alpha,n-1)\n",
        "    if Estadistico_Prueba <= Chi_2:\n",
        "      return [Estadistico_Prueba,Chi_2,'Rechazamos la hipotesis nula']\n",
        "    else:\n",
        "      return [Estadistico_Prueba,Chi_2,'No rechazamos la hipotesis nula']\n",
        "  elif H_A == 3:\n",
        "    Chi_2 = chi2.isf(Alpha/2,n-1)\n",
        "    if Estadistico_Prueba >= Chi_2:\n",
        "      return [Estadistico_Prueba,Chi_2,'Rechazamos la hipotesis nula']\n",
        "    else:\n",
        "      return [Estadistico_Prueba,Chi_2,'No rechazamos la hipotesis nula']"
      ],
      "execution_count": null,
      "outputs": []
    },
    {
      "cell_type": "markdown",
      "metadata": {
        "id": "DVdxFJ5ul3Gc"
      },
      "source": [
        "**EJEMPLO**"
      ]
    },
    {
      "cell_type": "markdown",
      "metadata": {
        "id": "k5WqoAAll4PR"
      },
      "source": [
        "Los datos se obtuvieron del siguiente video\n",
        "\n",
        "https://www.youtube.com/watch?v=qrtBrueW_sE"
      ]
    },
    {
      "cell_type": "code",
      "metadata": {
        "colab": {
          "base_uri": "https://localhost:8080/",
          "height": 35
        },
        "id": "KfHLEOlUl9RR",
        "outputId": "f3739312-db0c-40e0-94e6-86b968b954c0"
      },
      "source": [
        "PH_1_Varianza(n = 20,Varianza_0=18,Varianza = 22.63,Alpha = 0.01, H_A = 1)[2]"
      ],
      "execution_count": null,
      "outputs": [
        {
          "output_type": "execute_result",
          "data": {
            "application/vnd.google.colaboratory.intrinsic+json": {
              "type": "string"
            },
            "text/plain": [
              "'No rechazamos la hipotesis nula'"
            ]
          },
          "metadata": {
            "tags": []
          },
          "execution_count": 41
        }
      ]
    },
    {
      "cell_type": "code",
      "metadata": {
        "colab": {
          "base_uri": "https://localhost:8080/"
        },
        "id": "ELAujGE_mWY8",
        "outputId": "b7fb00d4-b300-44cc-f1e8-a4072b856d95"
      },
      "source": [
        "print('Estadistico de prueba',PH_1_Varianza(n = 20,Varianza_0=18,Varianza = 22.63,Alpha = 0.01, H_A = 1)[0],\n",
        "      '\\nValor de Chi^2',PH_1_Varianza(n = 20,Varianza_0=18,Varianza = 22.63,Alpha = 0.01, H_A = 1)[1])"
      ],
      "execution_count": null,
      "outputs": [
        {
          "output_type": "stream",
          "text": [
            "Estadistico de prueba 23.88722222222222 \n",
            "Valor de Chi^2 36.19086912927005\n"
          ],
          "name": "stdout"
        }
      ]
    },
    {
      "cell_type": "markdown",
      "metadata": {
        "id": "XMYvTLckne0-"
      },
      "source": [
        "##Prueba de hipótesis para dos varianzas"
      ]
    },
    {
      "cell_type": "markdown",
      "metadata": {
        "id": "zFg3dQRunhet"
      },
      "source": [
        "Dadas dos muestras aleatorias independientes de tamaño $n_1$ y $n_2$ tomadas de poblaciones normales.\n",
        "\n",
        "|Hipótesis nula $(H_0)$|Hipótesis alternativa $(H_1)$|Se rechaza $H_0$ sí|\n",
        "|--|--|--|\n",
        "|$$H_0 : \\sigma_1^2 = \\sigma_2^2$$|$$H_1 : \\sigma_1^2 > \\sigma_2^2$$ | $$\\frac{s_1^2}{s_2^2}\\geq f_{\\alpha,n_1-1,n_2-1}$$|\n",
        "|$$H_0 : \\sigma^2 = \\sigma_0^2$$|$$H_1 : \\sigma_1^2 < \\sigma_2^2$$|$$\\frac{s_2^2}{s_1^2}\\geq f_{\\alpha,n_2-1,n_1-1}$$|\n",
        "|$$H_0 : \\sigma^2 = \\sigma_0^2$$|$$H_1 : \\sigma^2 \\neq \\sigma_0^2$$|$$\\text{Sí }s_1^2>s_2^2\\implies \\frac{s_1^2}{s_2^2}\\geq f_{\\alpha/2,n_1-1,n_2-1}$$ $$ $$$$\\text{Sí }s_2^2>s_1^2\\implies \\frac{s_2^2}{s_1^2}\\geq f_{\\alpha/2,n_2-1,n_1-1}$$|"
      ]
    },
    {
      "cell_type": "code",
      "metadata": {
        "id": "QeMSgE-2p9_U"
      },
      "source": [
        "def PH_2_Varianza (Varianza_1,n_1,Varianza_2,n_2,Alpha,H_A):\n",
        "  '''\n",
        "  Varianza_1 : Varianza de la muestra 1\n",
        "\n",
        "  n_1 : Longitud de la muestra 1\n",
        "\n",
        "  Varianza_2 : Varianza de la muestra 2\n",
        "\n",
        "  n_2 : Longitud de la muestra 2\n",
        "\n",
        "  Alpha : Probabilidad deseada. Un valor entre 0 y 1\n",
        "\n",
        "  H_A :  Recibe el valor 1, 2 o 3 segun sea el caso de la hipotesis alternativa\n",
        "  a realizar. Si es 1 entonces la hipotesis alternativa es Var_1 > Var_2, si es 2\n",
        "  entonces la hipotesis alternativa es Var_1 < Var_2 y si es 3 entonces la hipotesis\n",
        "  alternativa es Var_1 != Var_2\n",
        "  '''\n",
        "  from scipy.stats import f\n",
        "  Estadistico_Prueba_1 = Varianza_1/Varianza_2\n",
        "  Estadistico_Prueba_2 = Varianza_2/Varianza_1\n",
        "  if H_A == 1:\n",
        "    f_v = f.isf(Alpha,n_1-1,n_2-1)\n",
        "    if Estadistico_Prueba_1>=f_v:\n",
        "      return [Estadistico_Prueba_1,f_v,'Rechazamos la hipotesis nula']\n",
        "    else:\n",
        "      return [Estadistico_Prueba_1,f_v,'No rechazamos la hipotesis nula']\n",
        "  elif H_A == 2:\n",
        "    f_v = f.isf(Alpha,n_2-1,n_1-1)\n",
        "    if Estadistico_Prueba_2>=f_v:\n",
        "      return [Estadistico_Prueba_2,f_v,'Rechazamos la hipotesis nula']\n",
        "    else:\n",
        "      return [Estadistico_Prueba_2,f_v,'No rechazamos la hipotesis nula']\n",
        "  elif H_A == 3:\n",
        "    if Varianza_1 > Varianza_2:\n",
        "      f_v = f.isf(Alpha/2,n_1-1,n_2-1)\n",
        "      if Estadistico_Prueba_1>=f_v:\n",
        "        return [Estadistico_Prueba_1,f_v,'Rechazamos la hipotesis nula']\n",
        "      else:\n",
        "        return [Estadistico_Prueba_1,f_v,'No rechazamos la hipotesis nula']\n",
        "    elif Varianza_2 > Varianza_1:\n",
        "      f_v = f.isf(Alpha/2,n_2-1,n_1-1)\n",
        "      if Estadistico_Prueba_2>=f_v:\n",
        "        return [Estadistico_Prueba_2,f_v,'Rechazamos la hipotesis nula']\n",
        "      else:\n",
        "        return [Estadistico_Prueba_2,f_v,'No rechazamos la hipotesis nula']"
      ],
      "execution_count": null,
      "outputs": []
    },
    {
      "cell_type": "markdown",
      "metadata": {
        "id": "nFWGl28Esijb"
      },
      "source": [
        "**EJEMPLO**"
      ]
    },
    {
      "cell_type": "markdown",
      "metadata": {
        "id": "HipcgaFFsj1x"
      },
      "source": [
        "Ejemplo 13.7 del libro"
      ]
    },
    {
      "cell_type": "code",
      "metadata": {
        "colab": {
          "base_uri": "https://localhost:8080/",
          "height": 35
        },
        "id": "fTJ7l8lZsnvg",
        "outputId": "a93ae649-acf1-4277-c0fb-91483e159d22"
      },
      "source": [
        "#CONCLUSION\n",
        "PH_2_Varianza(Varianza_1=19.2,n_1=13,Varianza_2=3.5,n_2=16,Alpha = 0.02,H_A = 3)[2]"
      ],
      "execution_count": null,
      "outputs": [
        {
          "output_type": "execute_result",
          "data": {
            "application/vnd.google.colaboratory.intrinsic+json": {
              "type": "string"
            },
            "text/plain": [
              "'Rechazamos la hipotesis nula'"
            ]
          },
          "metadata": {
            "tags": []
          },
          "execution_count": 44
        }
      ]
    },
    {
      "cell_type": "code",
      "metadata": {
        "colab": {
          "base_uri": "https://localhost:8080/"
        },
        "id": "tPXUsc2QtJly",
        "outputId": "11cbfb84-3310-4051-9c92-5f08a12a43b8"
      },
      "source": [
        "#ESTADISTICO DE PRUEBA Y VALORD DE F\n",
        "print('Estadistico de prueba',PH_2_Varianza(Varianza_1=19.2,n_1=13,Varianza_2=3.5,n_2=16,Alpha = 0.02,H_A = 3)[0],\n",
        "      '\\nValor de F',PH_2_Varianza(Varianza_1=19.2,n_1=13,Varianza_2=3.5,n_2=16,Alpha = 0.02,H_A = 3)[1])"
      ],
      "execution_count": null,
      "outputs": [
        {
          "output_type": "stream",
          "text": [
            "Estadistico de prueba 5.485714285714286 \n",
            "Valor de F 3.6662397836079657\n"
          ],
          "name": "stdout"
        }
      ]
    },
    {
      "cell_type": "markdown",
      "metadata": {
        "id": "R6yRpY34tm0A"
      },
      "source": [
        "## Pruebas concerniente a proporciones (muestra grande)"
      ]
    },
    {
      "cell_type": "markdown",
      "metadata": {
        "id": "mpGHG3EFtqNf"
      },
      "source": [
        "Note que\n",
        "\n",
        "* $n$ es el número de repeticiones del experimento, además $n\\geq 30$\n",
        "\n",
        "* $x$ número de éxitos observados en las $n$ repeticiones"
      ]
    },
    {
      "cell_type": "markdown",
      "metadata": {
        "id": "Y5KUtcZpt0Mt"
      },
      "source": [
        "|Hipótesis nula $(H_0)$|Hipótesis alternativa $(H_1)$|Se rechaza $H_0$ sí|Estadístico de prueba|\n",
        "|--|--|--|--|\n",
        "|$$H_0 : \\theta = \\theta_0$$|$$H_1 : \\theta > \\theta_0$$|$$z\\geq z_{\\alpha}$$|$$z = \\frac{x-n\\theta_0}{\\sqrt{n\\theta_0(1-\\theta_0)}}$$|\n",
        "|$$H_0 : \\theta = \\theta_0$$|$$H_1 : \\theta < \\theta_0$$|$$z\\leq -z_{\\alpha}$$|$$z = \\frac{x-n\\theta_0}{\\sqrt{n\\theta_0(1-\\theta_0)}}$$|\n",
        "|$$H_0 : \\theta = \\theta_0$$|$$H_1 : \\theta \\neq \\theta_0$$|$$|z|\\geq z_{\\alpha/2}$$|$$z = \\frac{x-n\\theta_0}{\\sqrt{n\\theta_0(1-\\theta_0)}}$$|"
      ]
    },
    {
      "cell_type": "code",
      "metadata": {
        "id": "H7zlgvZ6Gcbo"
      },
      "source": [
        "def PH_Proporcion_MG (n,x,Theta_0,Alpha,H_A):\n",
        "  '''\n",
        "  n : Numero de repeticiones\n",
        "\n",
        "  x : Numero de exitos en las n repeticiones\n",
        "\n",
        "  Theta_0 : Proporcion a comparar\n",
        "\n",
        "  Alpha : Probabilidad deseada. Un valor entre 0 y 1\n",
        "\n",
        "  H_A : Recibe el valor 1, 2 o 3 segun sea el caso de la hipotesis alternativa\n",
        "  a realizar. Si es 1 entonces la hipotesis alternativa es Theta > Theta_0, si es 2\n",
        "  entonces la hipotesis alternativa es Theta < Theta_0 y si es 3 entonces la hipotesis\n",
        "  alternativa es Theta != Theta_0\n",
        "  '''\n",
        "  from scipy.stats import norm\n",
        "  from math import sqrt\n",
        "  Estadistico_Prueba = (x-(n*Theta_0))/sqrt((n*Theta_0)*(1-Theta_0))\n",
        "  if H_A == 1:\n",
        "    Z = norm.isf(Alpha)\n",
        "    if Estadistico_Prueba >= Z:\n",
        "      return [Estadistico_Prueba,Z,'Rechazamos la hipotesis nula']\n",
        "    else:\n",
        "      return [Estadistico_Prueba,Z,'No rechazamos la hipotesis nula']\n",
        "  elif H_A == 2:\n",
        "    Z = -norm.isf(Alpha)\n",
        "    if Estadistico_Prueba <= Z:\n",
        "      return [Estadistico_Prueba,Z,'Rechazamos la hipotesis nula']\n",
        "    else:\n",
        "      return [Estadistico_Prueba,Z,'No rechazamos la hipotesis nula']\n",
        "  elif H_A == 3:\n",
        "    Z = norm.isf(Alpha/2)\n",
        "    if abs(Estadistico_Prueba) >= Z:\n",
        "      return [abs(Estadistico_Prueba),Z,'Rechazamos la hipotesis nula']\n",
        "    else:\n",
        "      return [abs(Estadistico_Prueba),Z,'Rechazamos la hipotesis nula']"
      ],
      "execution_count": null,
      "outputs": []
    },
    {
      "cell_type": "markdown",
      "metadata": {
        "id": "-bJHRwbuH-nJ"
      },
      "source": [
        "**EJEMPLO**"
      ]
    },
    {
      "cell_type": "markdown",
      "metadata": {
        "id": "aiW4MtOEIaJd"
      },
      "source": [
        "Ejemplo 13.9 del libro"
      ]
    },
    {
      "cell_type": "code",
      "metadata": {
        "colab": {
          "base_uri": "https://localhost:8080/",
          "height": 35
        },
        "id": "QrN38VafH_4C",
        "outputId": "e9d58388-880e-435b-e953-cf4f32536151"
      },
      "source": [
        "#CONCLUSION\n",
        "PH_Proporcion_MG(n = 200,x = 22,Theta_0=0.20,Alpha = 0.01,H_A = 2)[2]"
      ],
      "execution_count": null,
      "outputs": [
        {
          "output_type": "execute_result",
          "data": {
            "application/vnd.google.colaboratory.intrinsic+json": {
              "type": "string"
            },
            "text/plain": [
              "'Rechazamos la hipotesis nula'"
            ]
          },
          "metadata": {
            "tags": []
          },
          "execution_count": 47
        }
      ]
    },
    {
      "cell_type": "code",
      "metadata": {
        "colab": {
          "base_uri": "https://localhost:8080/"
        },
        "id": "G-kvJs2uJPrF",
        "outputId": "582a59c1-f616-4e09-dfe8-9bbb981c046a"
      },
      "source": [
        "print('Estadistico de prueba',PH_Proporcion_MG(n = 200,x = 22,Theta_0=0.20,Alpha = 0.01,H_A = 2)[0],\n",
        "      '\\nValor de Z',PH_Proporcion_MG(n = 200,x = 22,Theta_0=0.20,Alpha = 0.01,H_A = 2)[1])"
      ],
      "execution_count": null,
      "outputs": [
        {
          "output_type": "stream",
          "text": [
            "Estadistico de prueba -3.181980515339464 \n",
            "Valor de Z -2.3263478740408408\n"
          ],
          "name": "stdout"
        }
      ]
    },
    {
      "cell_type": "markdown",
      "metadata": {
        "id": "69MshAQcMgwQ"
      },
      "source": [
        "#Prueba de bondad y ajuste."
      ]
    },
    {
      "cell_type": "markdown",
      "metadata": {
        "id": "2rizIdkXMih0"
      },
      "source": [
        "Para realizar la prueba de bondad y ajuste, según desee el investigador, se anexa el siguiente link de la librería Scipy que contiene las pruebas estadísticas y sus diversas variantes.\n",
        "\n",
        "[Statistical functions][1]\n",
        "\n",
        "[1]: https://docs.scipy.org/doc/scipy/reference/stats.html"
      ]
    },
    {
      "cell_type": "markdown",
      "metadata": {
        "id": "gIU7wg4VMzc-"
      },
      "source": [
        "Pondremos de ejemplo algunas distribuciones."
      ]
    },
    {
      "cell_type": "markdown",
      "metadata": {
        "id": "wGnbf9sJUW5f"
      },
      "source": [
        "Recordemos que aquí tenemos dos hipótesis\n",
        "\n",
        "$$H_0 : \\text{ El conjunto de datos observados proviene de una distribución dada}$$\n",
        "\n",
        "$$H_1 : \\text{ El conjunto de datos observados proviene de otra distribución}$$"
      ]
    },
    {
      "cell_type": "code",
      "metadata": {
        "id": "kSFzDZpMUwkJ"
      },
      "source": [
        "#PROBEMOS SI EL SIGUIENTE CONJUNTO VIENE DE UNA POBLACION Poisson\n",
        "\n",
        "#LOS DATOS SE OBTUVIERON DEL EJEMPLO 13.12 DEL LIBRO\n",
        "Data = [18,53,103,107,82,46,18,10,2,1]"
      ],
      "execution_count": null,
      "outputs": []
    },
    {
      "cell_type": "markdown",
      "metadata": {
        "id": "g-XkX4aoVNdP"
      },
      "source": [
        "## Prueba Kolmogorov-Smirnov"
      ]
    },
    {
      "cell_type": "code",
      "metadata": {
        "id": "i6Yf-064VQPP"
      },
      "source": [
        "#IMPORTAMOS\n",
        "\n",
        "from scipy.stats import kstest"
      ],
      "execution_count": null,
      "outputs": []
    },
    {
      "cell_type": "markdown",
      "metadata": {
        "id": "Ey9IJy71XOm-"
      },
      "source": [
        "Esta función regresa dos cosas:\n",
        "\n",
        "1. El estadístico Kolmogorov-Smirnov\n",
        "\n",
        "2. El p-valor"
      ]
    },
    {
      "cell_type": "markdown",
      "metadata": {
        "id": "0b_h9dcEXWkV"
      },
      "source": [
        "Mediante el p-valor es posible determinar si el conjunto de datos proviene de una distribución o no."
      ]
    },
    {
      "cell_type": "markdown",
      "metadata": {
        "id": "p2EfpVJIYFjO"
      },
      "source": [
        "$$\\text{Sí p-valor}\\geq \\alpha\\implies \\text{ Aceptamos la hipótesis nula}$$\n",
        "\n",
        "$$\\text{Sí p-valor}< \\alpha\\implies \\text{ Rechazamos la hipótesis nula}$$"
      ]
    },
    {
      "cell_type": "markdown",
      "metadata": {
        "id": "qalkyYN3Y4df"
      },
      "source": [
        "El primer argumento de la función debe ser los datos a analizar y el segundo el nombre de la distribución, este nombre debe ir acorde a como está escrito en la librería scipy."
      ]
    },
    {
      "cell_type": "code",
      "metadata": {
        "id": "csUdKn5IYxGU"
      },
      "source": [
        "#TOMEMOS DATOS DE UNA DISTRIBUCION UNIFORME\n",
        "from random import uniform"
      ],
      "execution_count": null,
      "outputs": []
    },
    {
      "cell_type": "code",
      "metadata": {
        "colab": {
          "base_uri": "https://localhost:8080/"
        },
        "id": "J_GgLwQHY2vF",
        "outputId": "a43190f6-00d9-4966-b3a0-40fc06d9b972"
      },
      "source": [
        "if kstest(list(uniform(0,1) for i in range (100)),'uniform')[1] >= 0.01:\n",
        "  print('Los datos tienen una distribucion uniforme','\\nP-Valor',kstest(list(uniform(0,1) for i in range (100)),'uniform')[1])\n",
        "else:\n",
        "  print('Los datos no tienen una distribucion uniforme')"
      ],
      "execution_count": null,
      "outputs": [
        {
          "output_type": "stream",
          "text": [
            "Los datos tienen una distribucion uniforme \n",
            "P-Valor 0.9955932636130662\n"
          ],
          "name": "stdout"
        }
      ]
    },
    {
      "cell_type": "markdown",
      "metadata": {
        "id": "B2zjaI8gMyba"
      },
      "source": [
        "## Prueba de Anderson-Darling"
      ]
    },
    {
      "cell_type": "code",
      "metadata": {
        "id": "b-so6uNOM6BQ"
      },
      "source": [
        "#IMPORTAMOS \n",
        "\n",
        "from scipy.stats import anderson"
      ],
      "execution_count": null,
      "outputs": []
    },
    {
      "cell_type": "markdown",
      "metadata": {
        "id": "DzA5Z-iZORgB"
      },
      "source": [
        "Esta función regresa tres cosas:\n",
        "\n",
        "1. El estadístico de Anderson-Darling\n",
        "\n",
        "2. Valores críticos\n",
        "\n",
        "3. Nivel de significancia"
      ]
    },
    {
      "cell_type": "markdown",
      "metadata": {
        "id": "5qWClO11PzM1"
      },
      "source": [
        "Las distribuciones a comparar disponibles son:\n",
        "\n",
        "* Normal ('norm')\n",
        "\n",
        "* Exponencial ('expon')\n",
        "\n",
        "* Logistica ('logistic')\n",
        "\n",
        "* Gumbel ('gumbel')"
      ]
    },
    {
      "cell_type": "markdown",
      "metadata": {
        "id": "VKYO75qdb7Pu"
      },
      "source": [
        "Los valores críticos son\n",
        "\n",
        "normal/exponenential\n",
        "15%, 10%, 5%, 2.5%, 1%\n",
        "\n",
        "logistic\n",
        "25%, 10%, 5%, 2.5%, 1%, 0.5%\n",
        "\n",
        "Gumbel\n",
        "25%, 10%, 5%, 2.5%, 1%"
      ]
    },
    {
      "cell_type": "code",
      "metadata": {
        "id": "EoklRI6FZl6E"
      },
      "source": [
        "from random import expovariate"
      ],
      "execution_count": null,
      "outputs": []
    },
    {
      "cell_type": "code",
      "metadata": {
        "colab": {
          "base_uri": "https://localhost:8080/"
        },
        "id": "dLnR5fZYNnu8",
        "outputId": "73f805a7-9b62-482d-e5f7-f732bb7a6384"
      },
      "source": [
        "#VERIFICAMOS CON LA NORMAL\n",
        "anderson(list(expovariate(lambd = 1.5) for j in range (10000)),dist='norm')"
      ],
      "execution_count": null,
      "outputs": [
        {
          "output_type": "execute_result",
          "data": {
            "text/plain": [
              "AndersonResult(statistic=455.1253768743318, critical_values=array([0.576, 0.656, 0.787, 0.918, 1.092]), significance_level=array([15. , 10. ,  5. ,  2.5,  1. ]))"
            ]
          },
          "metadata": {
            "tags": []
          },
          "execution_count": 55
        }
      ]
    },
    {
      "cell_type": "code",
      "metadata": {
        "colab": {
          "base_uri": "https://localhost:8080/"
        },
        "id": "lo22P5JL_LG8",
        "outputId": "a18a5d5e-5e6d-4e86-b6a0-a8428f0b777c"
      },
      "source": [
        "#VERIFICAMOS CON LA EXPONENCIAL\n",
        "anderson(list(expovariate(lambd = 1.5) for j in range (10000)),dist='expon')"
      ],
      "execution_count": null,
      "outputs": [
        {
          "output_type": "execute_result",
          "data": {
            "text/plain": [
              "AndersonResult(statistic=1.066828704730142, critical_values=array([0.922, 1.078, 1.341, 1.606, 1.957]), significance_level=array([15. , 10. ,  5. ,  2.5,  1. ]))"
            ]
          },
          "metadata": {
            "tags": []
          },
          "execution_count": 56
        }
      ]
    },
    {
      "cell_type": "markdown",
      "metadata": {
        "id": "tybxUlzf_s1l"
      },
      "source": [
        "# Tablas $r\\times c$"
      ]
    },
    {
      "cell_type": "markdown",
      "metadata": {
        "id": "WJM-M7uL_v9-"
      },
      "source": [
        "El análisis de tablas $r\\times c$ se usa para determinar la relación entre dos variables categóricas."
      ]
    },
    {
      "cell_type": "markdown",
      "metadata": {
        "id": "eKxPAi4W_2_Z"
      },
      "source": [
        "Tenemos de hipótesis\n",
        "\n",
        "$$H_0 : \\text{ Las variables son independientes},i.e, \\theta_{ij} = \\theta_{i\\circ}\\cdot \\theta_{\\circ j}$$\n",
        "\n",
        "$$H_1 : \\text{ Las variables son dependientes},i.e, \\theta{ij} \\neq \\theta_{i\\circ}\\cdot \\theta_{\\circ j}$$\n",
        "\n",
        "Donde el estadístico de prueba es\n",
        "\n",
        "$$\\chi^2 = \\sum_{i=1}^r\\sum_{j=1}^c\\frac{\\left(f_{ij}-e_{ij}\\right)^2}{e_{ij}}$$\n",
        "\n",
        "Con $r,c$ el número de filas y columnas respectivamente, $e_{ij}=\\frac{f_{i\\circ}f_{\\circ j}}{f},\\forall i,jj$\n",
        "\n",
        "La región de rechazo es\n",
        "\n",
        "$$\\chi^2 \\geq \\chi^2_{\\alpha,(r-1)(c-1)}$$"
      ]
    },
    {
      "cell_type": "markdown",
      "metadata": {
        "id": "OS9ZlYqxA1Dl"
      },
      "source": [
        "Definimos la siguiente notación\n",
        "\n",
        "1. $f_{ij} :$  frecuencia observada en $ij$\n",
        "\n",
        "2. $f_{i\\circ} :$ frecuencia observada en el i-ésimo renglón\n",
        "\n",
        "3. $f_{\\circ j} :$ frecuencia observada en el j-ésima columna\n",
        "\n",
        "4. $f :$ frecuencia total\n",
        "\n",
        "5. $\\theta_{ij} :$ Probabilidad del elemento $ij$\n",
        "\n",
        "6. $\\theta_{i\\circ} :$ Probabilidad en el i-ésimo renglón\n",
        "\n",
        "7. $\\theta_{\\circ j} :$ Probabilidad en el j-ésima columna"
      ]
    },
    {
      "cell_type": "markdown",
      "metadata": {
        "id": "7-nMEc6sLL6C"
      },
      "source": [
        "Una deficiencia del análisis ji cuadrada de una tabla $r\\times c$ es que no toma en consideración un posible orden de los renglones y/o columnas."
      ]
    },
    {
      "cell_type": "code",
      "metadata": {
        "id": "az90a9EGCAWu"
      },
      "source": [
        "def RxC (DF,Alpha):\n",
        "  '''\n",
        "  DF : Data Frame que contiene exclusivamente datos numericos no NaN.\n",
        "\n",
        "  Alpha : Probabilidad deseada. Un valor entre 0 y 1.\n",
        "\n",
        "  return\n",
        "\n",
        "  Una lista donde el primer elemento es el estadistico de prueba, el segundo el valor de la chi cuadrada y el tercero la conclusion.\n",
        "  '''\n",
        "  from scipy.stats import chi2\n",
        "  import pandas as pd\n",
        "  Chi_2 = chi2.isf(Alpha, (len(DF.index)-1)*(len(DF.columns)-1) )\n",
        "  Frecuencias_io = list(DF.sum(axis=1)) #SUMAMOS CADA FILA Y LA AGREGAMOS A UNA LISTA\n",
        "  Frecuencias_oj = list(DF.sum(axis=0)) #SUMAMOS CADA COLUMNA Y LO AGREGAMOS A UNA LISTA\n",
        "  F = sum(list(DF.sum())) #SUMAMOS TODO EL DATA FRAME\n",
        "  Frecuencias_Esperadas = []\n",
        "  #CADA F_oj ES MULTIPLICADA POR CADA F_io Y DIVIDIO ENTRE F\n",
        "  for j in range (len(Frecuencias_oj)):\n",
        "    Frecuencias_Esperadas.append( list( (Frecuencias_oj[j]*Frecuencias_io[i])/F  for i in range (len(Frecuencias_io))) ) \n",
        "  Dic = {}\n",
        "  for k in range (len(Frecuencias_Esperadas)):\n",
        "    Dic[k] = Frecuencias_Esperadas[k]\n",
        "  #DF CON LAS FRECUENCIAS ESPERADAS\n",
        "  DF_Frecuencias_Esperadas = pd.DataFrame(Dic)\n",
        "  E_P=[]\n",
        "  for j2 in range (len(DF.columns)):\n",
        "    E_P.append( list( (DF.iloc[:,j2][i2]-DF_Frecuencias_Esperadas.iloc[:,j2][i2])**2/DF_Frecuencias_Esperadas.iloc[:,j2][i2] for i2 in range (len(DF.index)) ) )\n",
        "  #LA VARIABLE Estadistico_Prueba CONTIENE SUMAS PARCIALES DEL ESTADISTICO DE PRUEBA\n",
        "  Estadistico_Prueba = list( sum(E_P[i3]) for i3 in range (len(E_P)))\n",
        "  if sum(Estadistico_Prueba) >= Chi_2:\n",
        "    return [sum(Estadistico_Prueba),Chi_2,'Rechazamos la hipotesis nula']\n",
        "  else:\n",
        "    return [sum(Estadistico_Prueba),Chi_2,'No rechazamos la hipotesis nula']"
      ],
      "execution_count": null,
      "outputs": []
    },
    {
      "cell_type": "markdown",
      "metadata": {
        "id": "MYMtixOrJOcr"
      },
      "source": [
        "**EJEMPLO**"
      ]
    },
    {
      "cell_type": "markdown",
      "metadata": {
        "id": "7YUvcqpDJP0X"
      },
      "source": [
        "Ejemplo 13.11 del libro"
      ]
    },
    {
      "cell_type": "code",
      "metadata": {
        "colab": {
          "base_uri": "https://localhost:8080/",
          "height": 136
        },
        "id": "ecq16lJUD8Lk",
        "outputId": "bcdebe66-c089-4f05-8822-734c3b15811f"
      },
      "source": [
        "import pandas as pd\n",
        "Tabla = pd.DataFrame({'Baja':[63,58,14],'Promedio':[42,61,47],'Alta':[15,31,29]}, index = ['Bajo','Promedio','Alto'])\n",
        "Tabla"
      ],
      "execution_count": null,
      "outputs": [
        {
          "output_type": "execute_result",
          "data": {
            "text/html": [
              "<div>\n",
              "<style scoped>\n",
              "    .dataframe tbody tr th:only-of-type {\n",
              "        vertical-align: middle;\n",
              "    }\n",
              "\n",
              "    .dataframe tbody tr th {\n",
              "        vertical-align: top;\n",
              "    }\n",
              "\n",
              "    .dataframe thead th {\n",
              "        text-align: right;\n",
              "    }\n",
              "</style>\n",
              "<table border=\"1\" class=\"dataframe\">\n",
              "  <thead>\n",
              "    <tr style=\"text-align: right;\">\n",
              "      <th></th>\n",
              "      <th>Baja</th>\n",
              "      <th>Promedio</th>\n",
              "      <th>Alta</th>\n",
              "    </tr>\n",
              "  </thead>\n",
              "  <tbody>\n",
              "    <tr>\n",
              "      <th>Bajo</th>\n",
              "      <td>63</td>\n",
              "      <td>42</td>\n",
              "      <td>15</td>\n",
              "    </tr>\n",
              "    <tr>\n",
              "      <th>Promedio</th>\n",
              "      <td>58</td>\n",
              "      <td>61</td>\n",
              "      <td>31</td>\n",
              "    </tr>\n",
              "    <tr>\n",
              "      <th>Alto</th>\n",
              "      <td>14</td>\n",
              "      <td>47</td>\n",
              "      <td>29</td>\n",
              "    </tr>\n",
              "  </tbody>\n",
              "</table>\n",
              "</div>"
            ],
            "text/plain": [
              "          Baja  Promedio  Alta\n",
              "Bajo        63        42    15\n",
              "Promedio    58        61    31\n",
              "Alto        14        47    29"
            ]
          },
          "metadata": {
            "tags": []
          },
          "execution_count": 59
        }
      ]
    },
    {
      "cell_type": "code",
      "metadata": {
        "colab": {
          "base_uri": "https://localhost:8080/",
          "height": 35
        },
        "id": "QQPoypTrJtcW",
        "outputId": "a949e583-c9a8-4ebc-96b3-af94351092c0"
      },
      "source": [
        "#CONCLUSION\n",
        "RxC(Tabla,0.01)[2]"
      ],
      "execution_count": null,
      "outputs": [
        {
          "output_type": "execute_result",
          "data": {
            "application/vnd.google.colaboratory.intrinsic+json": {
              "type": "string"
            },
            "text/plain": [
              "'Rechazamos la hipotesis nula'"
            ]
          },
          "metadata": {
            "tags": []
          },
          "execution_count": 61
        }
      ]
    },
    {
      "cell_type": "code",
      "metadata": {
        "colab": {
          "base_uri": "https://localhost:8080/"
        },
        "id": "09nTzPFIKgvw",
        "outputId": "c55c030a-6773-4385-b86b-60a42fd46357"
      },
      "source": [
        "#ESTADISTICO DE PRUEBA Y VALOR DE CHI2\n",
        "print('Estadistico de prueba',RxC(Tabla,0.01)[0],'\\nValor de Chi^2',RxC(Tabla,0.01)[1])"
      ],
      "execution_count": null,
      "outputs": [
        {
          "output_type": "stream",
          "text": [
            "Estadistico de prueba 32.13985185185185 \n",
            "Valor de Chi^2 13.276704135987625\n"
          ],
          "name": "stdout"
        }
      ]
    },
    {
      "cell_type": "markdown",
      "metadata": {
        "id": "Jzs1Je4hXm3I"
      },
      "source": [
        "#Análisis de Regresión"
      ]
    },
    {
      "cell_type": "markdown",
      "metadata": {
        "id": "f2p7QzeyXpVq"
      },
      "source": [
        "## Análisis de Regresión Lineal"
      ]
    },
    {
      "cell_type": "markdown",
      "metadata": {
        "id": "84HP3-5tX03H"
      },
      "source": [
        "La regresión lineal es, en palabras simples, cuando tenemos UNA sola variable que predice otra.\n",
        "\n",
        "La variable que predice se denomina **independiente** y la variable predicha se denomina **dependiente**.\n",
        "\n",
        "Modelo matemático.\n",
        "\n",
        "$$y_i = \\beta_0 + \\beta_1x_i + \\varepsilon_i$$\n",
        "\n",
        "Donde:\n",
        "\n",
        "1. $y_i$ es la variable de respuesta de la $i$-ésima prueba\n",
        "\n",
        "2. $\\beta_0$ y $\\beta_1$ son parámetros.\n",
        "\n",
        "3. $x_i$ es una constante conocida, el valor de la variable predictora en la $i$-ésima prueba.\n",
        "\n",
        "4. $\\varepsilon_i$ es un término de error aleatorio con $E\\{\\varepsilon_i \\} = 0$ y $\\sigma^2\\{\\varepsilon_i \\} = \\sigma^2$; $cov\\left(\\varepsilon_i , \\varepsilon_j \\right) = 0$.\n",
        "\n",
        "Se define a las $\\beta_0, \\beta_1$ del modelo de regresión como **coeficientes de regresión**.\n",
        "\n",
        "Se define como **pendiente de la línea de regresión** al coeficiente $\\beta_1$, este indica el cambio de la media de la probabilidad de distribución de $y$ por incremento por unidad de $x$.\n",
        "\n",
        "Se define como **intercepción de la línea de regresión** al coeficiente $\\beta_0$.\n",
        "\n",
        "Los datos para el análisis de regresión se pueden obtener de estudios experimentales o no experimentales.\n",
        "\n",
        "* Los datos de observación se obtienen de estudios no experimentales donde no se controla la(s) variable(s) predictora de interés.\n",
        "\n",
        "* Con frecuencia es posible conducir experimentos controlados para obtener datos de los que los parámetros de regresión puedan ser estimados.\n",
        "\n",
        "Una limitación importante de los datos de observación es que comunmente no proveen información adecuada acerca de relaciones de causa y efecto.\n",
        "\n",
        "Los **estimadores de mínimos cuadrados** de los coeficientes de regresión $\\beta_0$ y $\\beta_1$ son $b_0$ y $b_1$ respectivamente.\n",
        "\n",
        "$$b_0 = \\bar{y} - b_1 \\bar{x}$$\n",
        "\n",
        "$$b_1 = \\frac{\\sum \\left(x_i - \\bar{x} \\right)\\left(y_i - \\bar{y}\\right)}{\\sum \\left(x_i - \\bar{x}\\right)^2}$$\n",
        "\n",
        "El estimador de la ecuación\n",
        "\n",
        "$$y_i = \\beta_0 + \\beta_1x_i + \\varepsilon_i$$\n",
        "\n",
        "es\n",
        "\n",
        "$$\\hat{y} = b_0 + b_1x$$"
      ]
    },
    {
      "cell_type": "markdown",
      "metadata": {
        "id": "njL_z8LpX7Fo"
      },
      "source": [
        "Para obtener los estimador de mínimos cuadrados en Python tenemos el siguiente código."
      ]
    },
    {
      "cell_type": "markdown",
      "metadata": {
        "id": "Bv7i-F2KYSrT"
      },
      "source": [
        "```\n",
        "#IMPORTAMOS\n",
        "from sklearn.linear_model import LinearRegression\n",
        "\n",
        "#ASIGNAMOS A UNA VARIABLE LA FUNCION LinearRegression\n",
        "L_R = LinearRegression()\n",
        "\n",
        "#AJUSTAMOS LOS DATOS \n",
        "L_R.fit(DF[['COLUMNA_X']],DF[['COLUMNA_Y']]) #ESTA ES LA NOTACION PARA EXTRAER LAS COLUMNAS DEL DF\n",
        "\n",
        "#LA PENDIENTE SE ALMACENA EN\n",
        "L_R.coef_\n",
        "\n",
        "#LA INTERSECCION SE ALMACENA EN\n",
        "L_R.intercept_\n",
        "```\n"
      ]
    },
    {
      "cell_type": "markdown",
      "metadata": {
        "id": "UG_aZ0jNY4Ah"
      },
      "source": [
        "**EJEMPLO**"
      ]
    },
    {
      "cell_type": "markdown",
      "metadata": {
        "id": "sMpdkuXWY5f3"
      },
      "source": [
        "Problema del libro 11.1"
      ]
    },
    {
      "cell_type": "code",
      "metadata": {
        "id": "REGP2n9vZJIU"
      },
      "source": [
        "x_11 = [17.3,19.3,19.5,19.7,22.9,23.1,26.4,26.8,27.6,28.1,28.2,\n",
        "        28.7,29,29.6,29.9,29.9,30.3,31.3,36,39.5,40.4,44.3,44.6,\n",
        "        50.4,55.9]\n",
        "y_11 = [71.7,48.3,88.3,75,91.7,100,73.3,65,75,88.3,68.3,96.7,76.7,\n",
        "        78.3,60,71.7,85,85,88.3,100,100,100,91.7,100,71.7]\n",
        "\n",
        "HGU = {'x':x_11,'y':y_11}\n",
        "HGUD = pd.DataFrame(HGU)"
      ],
      "execution_count": 1,
      "outputs": []
    },
    {
      "cell_type": "code",
      "metadata": {
        "colab": {
          "base_uri": "https://localhost:8080/"
        },
        "id": "Aqm7F2O-X_lS",
        "outputId": "383169dc-b9c9-4ba3-abc4-7ce1fa513cfe"
      },
      "source": [
        "#IMPORTAMOS\n",
        "from sklearn.linear_model import LinearRegression\n",
        "#ASIGNAMOS A UNA VARIABLE LA FUNCION LinearRegression\n",
        "L_R = LinearRegression()\n",
        "#AJUSTAMOS LOS DATOS\n",
        "L_R.fit(HGUD[['x']],HGUD[['y']])\n",
        "#IMPRIMIMOS\n",
        "print('La pendiente es',float(L_R.coef_),'\\nLa interseccion es',float(L_R.intercept_))"
      ],
      "execution_count": 3,
      "outputs": [
        {
          "output_type": "stream",
          "text": [
            "La pendiente es 0.5608977925284157 \n",
            "La interseccion es 64.52915555832492\n"
          ],
          "name": "stdout"
        }
      ]
    },
    {
      "cell_type": "markdown",
      "metadata": {
        "id": "c9-JA37-ZpeL"
      },
      "source": [
        "$$\\therefore \\hat{y} = 0.5608\\cdot x+64.52$$"
      ]
    },
    {
      "cell_type": "markdown",
      "metadata": {
        "id": "0WJJgudIZ0x5"
      },
      "source": [
        "## Análisis de Regresión Lineal Múltiple"
      ]
    },
    {
      "cell_type": "markdown",
      "metadata": {
        "id": "yg7HH33IZ3iR"
      },
      "source": [
        "Consideremos el caso cuando tenemos $p-1$ variables predictoras $x_1,\\ldots ,x_{p-1}$. El modelo de regresión lineal múltiple esta dado como\n",
        "\n",
        "$$y_i = \\beta_0 + \\beta_1 x_{i1} + \\beta_2 x_{i2} + \\ldots + \\beta_{p-1} x_{i,p-1} + \\varepsilon_i$$\n",
        "\n",
        "Es llamado **modelo de primer orden con $p-1$ variables** predictoras, donde\n",
        "\n",
        "1. $\\beta_0 , \\ldots , \\beta_{p-1}$ son parámetros.\n",
        "\n",
        "2. $x_{i1},\\ldots ,x_{i,p-1}$ son constantes conocidas.\n",
        "\n",
        "3. $\\varepsilon_i$ son independientes $N\\left(0,\\sigma^2 \\right)$ con $i = 1,\\ldots , n$."
      ]
    },
    {
      "cell_type": "markdown",
      "metadata": {
        "id": "UrYrw8kwZ6YU"
      },
      "source": [
        "Para obtener los parámetros tenemos el siguiente código.\n",
        "\n",
        "```\n",
        "#IMPORTAMOS\n",
        "from sklearn.linear_model import LinearRegression\n",
        "\n",
        "#ASIGNAMOS A UNA VARIABLE LA FUNCION LinearRegression\n",
        "L_R = LinearRegression()\n",
        "\n",
        "#AJUSTAMOS LOS DATOS \n",
        "L_R.fit(DF[['COLUMNA1','COLUMNA2',...,'COLUMNAK']],DF[['COLUMNA_Y']]) #ESTA ES LA NOTACION PARA EXTRAER LAS COLUMNAS DEL DF\n",
        "\n",
        "#LOS COEFICIENTES SE ALMACENA EN\n",
        "L_R.coef_\n",
        "\n",
        "#LA INTERSECCION SE ALMACENA EN\n",
        "L_R.intercept_\n",
        "```\n"
      ]
    },
    {
      "cell_type": "markdown",
      "metadata": {
        "id": "bx5PzbRAaQd_"
      },
      "source": [
        "**EJEMPLO**"
      ]
    },
    {
      "cell_type": "markdown",
      "metadata": {
        "id": "3xIGswn5aSXb"
      },
      "source": [
        "Problema del libro 11.36"
      ]
    },
    {
      "cell_type": "code",
      "metadata": {
        "id": "D5Iym670aYfP"
      },
      "source": [
        "x_1 = [195,255,195,255,255,255,255,195,255,255,255,255,255,340]\n",
        "x_2 = [4,4,4.60,4.60,4.20,4.10,4.60,4.3,4.3,4,4.7,4.3,4.72,4.3]\n",
        "y = [1004,1636,852,1506,1272,1270,1269,903,1555,1260,1146,1276,1225,1321]\n",
        "\n",
        "DAE = {'x_1':x_1,'x_2':x_2,'y':y}\n",
        "\n",
        "DAED = pd.DataFrame(DAE)"
      ],
      "execution_count": 4,
      "outputs": []
    },
    {
      "cell_type": "code",
      "metadata": {
        "colab": {
          "base_uri": "https://localhost:8080/",
          "height": 483
        },
        "id": "gYkqPQ4sab1-",
        "outputId": "937476ae-1691-46e7-a660-dbe69d88b0ee"
      },
      "source": [
        "DAED"
      ],
      "execution_count": 5,
      "outputs": [
        {
          "output_type": "execute_result",
          "data": {
            "text/html": [
              "<div>\n",
              "<style scoped>\n",
              "    .dataframe tbody tr th:only-of-type {\n",
              "        vertical-align: middle;\n",
              "    }\n",
              "\n",
              "    .dataframe tbody tr th {\n",
              "        vertical-align: top;\n",
              "    }\n",
              "\n",
              "    .dataframe thead th {\n",
              "        text-align: right;\n",
              "    }\n",
              "</style>\n",
              "<table border=\"1\" class=\"dataframe\">\n",
              "  <thead>\n",
              "    <tr style=\"text-align: right;\">\n",
              "      <th></th>\n",
              "      <th>x_1</th>\n",
              "      <th>x_2</th>\n",
              "      <th>y</th>\n",
              "    </tr>\n",
              "  </thead>\n",
              "  <tbody>\n",
              "    <tr>\n",
              "      <th>0</th>\n",
              "      <td>195</td>\n",
              "      <td>4.00</td>\n",
              "      <td>1004</td>\n",
              "    </tr>\n",
              "    <tr>\n",
              "      <th>1</th>\n",
              "      <td>255</td>\n",
              "      <td>4.00</td>\n",
              "      <td>1636</td>\n",
              "    </tr>\n",
              "    <tr>\n",
              "      <th>2</th>\n",
              "      <td>195</td>\n",
              "      <td>4.60</td>\n",
              "      <td>852</td>\n",
              "    </tr>\n",
              "    <tr>\n",
              "      <th>3</th>\n",
              "      <td>255</td>\n",
              "      <td>4.60</td>\n",
              "      <td>1506</td>\n",
              "    </tr>\n",
              "    <tr>\n",
              "      <th>4</th>\n",
              "      <td>255</td>\n",
              "      <td>4.20</td>\n",
              "      <td>1272</td>\n",
              "    </tr>\n",
              "    <tr>\n",
              "      <th>5</th>\n",
              "      <td>255</td>\n",
              "      <td>4.10</td>\n",
              "      <td>1270</td>\n",
              "    </tr>\n",
              "    <tr>\n",
              "      <th>6</th>\n",
              "      <td>255</td>\n",
              "      <td>4.60</td>\n",
              "      <td>1269</td>\n",
              "    </tr>\n",
              "    <tr>\n",
              "      <th>7</th>\n",
              "      <td>195</td>\n",
              "      <td>4.30</td>\n",
              "      <td>903</td>\n",
              "    </tr>\n",
              "    <tr>\n",
              "      <th>8</th>\n",
              "      <td>255</td>\n",
              "      <td>4.30</td>\n",
              "      <td>1555</td>\n",
              "    </tr>\n",
              "    <tr>\n",
              "      <th>9</th>\n",
              "      <td>255</td>\n",
              "      <td>4.00</td>\n",
              "      <td>1260</td>\n",
              "    </tr>\n",
              "    <tr>\n",
              "      <th>10</th>\n",
              "      <td>255</td>\n",
              "      <td>4.70</td>\n",
              "      <td>1146</td>\n",
              "    </tr>\n",
              "    <tr>\n",
              "      <th>11</th>\n",
              "      <td>255</td>\n",
              "      <td>4.30</td>\n",
              "      <td>1276</td>\n",
              "    </tr>\n",
              "    <tr>\n",
              "      <th>12</th>\n",
              "      <td>255</td>\n",
              "      <td>4.72</td>\n",
              "      <td>1225</td>\n",
              "    </tr>\n",
              "    <tr>\n",
              "      <th>13</th>\n",
              "      <td>340</td>\n",
              "      <td>4.30</td>\n",
              "      <td>1321</td>\n",
              "    </tr>\n",
              "  </tbody>\n",
              "</table>\n",
              "</div>"
            ],
            "text/plain": [
              "    x_1   x_2     y\n",
              "0   195  4.00  1004\n",
              "1   255  4.00  1636\n",
              "2   195  4.60   852\n",
              "3   255  4.60  1506\n",
              "4   255  4.20  1272\n",
              "5   255  4.10  1270\n",
              "6   255  4.60  1269\n",
              "7   195  4.30   903\n",
              "8   255  4.30  1555\n",
              "9   255  4.00  1260\n",
              "10  255  4.70  1146\n",
              "11  255  4.30  1276\n",
              "12  255  4.72  1225\n",
              "13  340  4.30  1321"
            ]
          },
          "metadata": {
            "tags": []
          },
          "execution_count": 5
        }
      ]
    },
    {
      "cell_type": "code",
      "metadata": {
        "colab": {
          "base_uri": "https://localhost:8080/"
        },
        "id": "3wrIN4w7afzS",
        "outputId": "a60ae134-125c-41d2-ddde-e7ce4965ecaa"
      },
      "source": [
        "#CONSTRUIMOS UNA LINEA DE REGRESION\n",
        "\n",
        "Linea_Regresion = LinearRegression()\n",
        "\n",
        "#AJUSTAMOS EL MODELO A LAS VARIABLES DADAS\n",
        "\n",
        "Linea_Regresion.fit(DAED[['x_1','x_2']],DAED[['y']])\n",
        "\n",
        "#IMPRIMIMOS\n",
        "\n",
        "print('Los coeficientes son',Linea_Regresion.coef_,'\\nLa interseccion es',float(Linea_Regresion.intercept_))"
      ],
      "execution_count": 11,
      "outputs": [
        {
          "output_type": "stream",
          "text": [
            "Los coeficientes son [[   3.80072153 -169.14102019]] \n",
            "La interseccion es 1039.838244832103\n"
          ],
          "name": "stdout"
        }
      ]
    },
    {
      "cell_type": "markdown",
      "metadata": {
        "id": "aAEOVqA5bJIC"
      },
      "source": [
        "$$\\therefore \\hat{y} = 3.8\\cdot x_1 + -169.1410\\cdot x_2 + 1039.83$$"
      ]
    },
    {
      "cell_type": "markdown",
      "metadata": {
        "id": "iAmq3rCdbisY"
      },
      "source": [
        "## Análisis de Regresión Polinomial"
      ]
    },
    {
      "cell_type": "markdown",
      "metadata": {
        "id": "klsV2hqnblwq"
      },
      "source": [
        "La **regresión polinomial** es un **caso particular del modelo general de regresión lineal general**.\n",
        "\n",
        "Este método es **beneficioso para** **describir las relaciones curvilineas**.\n",
        "\n",
        "Definimos relación curvilinea a lo que se obtiene al cuadrar o establecer términos de orden superior de las variables predictoras en el modelo.\n",
        "\n",
        "Ejemplo : modelos cuadráticos, cúbicos, ...\n",
        "\n",
        "El grado de la regresión supone una gran diferencia y puede resultar en un mejor ajuste si se elige el valor correcto.\n",
        "\n",
        "**En todos los casos, la relación entre la variable y el parámetro es lineal.**\n",
        "\n",
        "$$y_i = \\beta_0 + \\beta_1*x_i + \\beta_2*x_i^2 + \\ldots + \\beta_d * x_i^d + \\varepsilon_i$$"
      ]
    },
    {
      "cell_type": "markdown",
      "metadata": {
        "id": "ryFyGts0b6ky"
      },
      "source": [
        "Para obtener una Regresión Polinomial en Python tenemos el siguiente código.\n",
        "\n",
        "```\n",
        "# PRIMERO IMPORTAMOS\n",
        " \n",
        "import numpy as np\n",
        " \n",
        "X = DF['COLUMNAX']\n",
        "Y = DF['COLUMNAY']\n",
        "f = np.polyfit(X,Y,Grado_Polinomico)\n",
        "p = np.poly1d(f)\n",
        "\n",
        "#LA VARIABLE p CONTIENE EL MODELO POLINOMIAL AJUSTADO A LOS DATOS\n",
        "```\n"
      ]
    },
    {
      "cell_type": "markdown",
      "metadata": {
        "id": "dAHdbm1TcSp8"
      },
      "source": [
        "**EJEMPLO**"
      ]
    },
    {
      "cell_type": "markdown",
      "metadata": {
        "id": "-Noxo77-cUJo"
      },
      "source": [
        "Ejemplo 7.1 del libro «Introduccion al analisis de regresion lineal» de  Montgomery, Peck y Vining."
      ]
    },
    {
      "cell_type": "code",
      "metadata": {
        "colab": {
          "base_uri": "https://localhost:8080/",
          "height": 638
        },
        "id": "FVPBcZerhcDI",
        "outputId": "03e645ab-11d7-4938-fe66-498891aa7d14"
      },
      "source": [
        "conc = [1, 1.5, 2, 3, 4, 4.5, 5, 5.5, 6, 6.5, 7, 8, 9, 10, 11, 12, 13, 14, 15]\n",
        "resis = [6.3, 11.1, 20, 24, 26.1, 30, 33.8, 34, 38.1, 39.9, 42, 46.1, 53.1, \n",
        "           52, 52.5, 48, 42.8, 27.8, 21.9]\n",
        "Datos = pd.DataFrame({'Concentracion':conc,'Resistencia':resis})\n",
        "Datos"
      ],
      "execution_count": 14,
      "outputs": [
        {
          "output_type": "execute_result",
          "data": {
            "text/html": [
              "<div>\n",
              "<style scoped>\n",
              "    .dataframe tbody tr th:only-of-type {\n",
              "        vertical-align: middle;\n",
              "    }\n",
              "\n",
              "    .dataframe tbody tr th {\n",
              "        vertical-align: top;\n",
              "    }\n",
              "\n",
              "    .dataframe thead th {\n",
              "        text-align: right;\n",
              "    }\n",
              "</style>\n",
              "<table border=\"1\" class=\"dataframe\">\n",
              "  <thead>\n",
              "    <tr style=\"text-align: right;\">\n",
              "      <th></th>\n",
              "      <th>Concentracion</th>\n",
              "      <th>Resistencia</th>\n",
              "    </tr>\n",
              "  </thead>\n",
              "  <tbody>\n",
              "    <tr>\n",
              "      <th>0</th>\n",
              "      <td>1.0</td>\n",
              "      <td>6.3</td>\n",
              "    </tr>\n",
              "    <tr>\n",
              "      <th>1</th>\n",
              "      <td>1.5</td>\n",
              "      <td>11.1</td>\n",
              "    </tr>\n",
              "    <tr>\n",
              "      <th>2</th>\n",
              "      <td>2.0</td>\n",
              "      <td>20.0</td>\n",
              "    </tr>\n",
              "    <tr>\n",
              "      <th>3</th>\n",
              "      <td>3.0</td>\n",
              "      <td>24.0</td>\n",
              "    </tr>\n",
              "    <tr>\n",
              "      <th>4</th>\n",
              "      <td>4.0</td>\n",
              "      <td>26.1</td>\n",
              "    </tr>\n",
              "    <tr>\n",
              "      <th>5</th>\n",
              "      <td>4.5</td>\n",
              "      <td>30.0</td>\n",
              "    </tr>\n",
              "    <tr>\n",
              "      <th>6</th>\n",
              "      <td>5.0</td>\n",
              "      <td>33.8</td>\n",
              "    </tr>\n",
              "    <tr>\n",
              "      <th>7</th>\n",
              "      <td>5.5</td>\n",
              "      <td>34.0</td>\n",
              "    </tr>\n",
              "    <tr>\n",
              "      <th>8</th>\n",
              "      <td>6.0</td>\n",
              "      <td>38.1</td>\n",
              "    </tr>\n",
              "    <tr>\n",
              "      <th>9</th>\n",
              "      <td>6.5</td>\n",
              "      <td>39.9</td>\n",
              "    </tr>\n",
              "    <tr>\n",
              "      <th>10</th>\n",
              "      <td>7.0</td>\n",
              "      <td>42.0</td>\n",
              "    </tr>\n",
              "    <tr>\n",
              "      <th>11</th>\n",
              "      <td>8.0</td>\n",
              "      <td>46.1</td>\n",
              "    </tr>\n",
              "    <tr>\n",
              "      <th>12</th>\n",
              "      <td>9.0</td>\n",
              "      <td>53.1</td>\n",
              "    </tr>\n",
              "    <tr>\n",
              "      <th>13</th>\n",
              "      <td>10.0</td>\n",
              "      <td>52.0</td>\n",
              "    </tr>\n",
              "    <tr>\n",
              "      <th>14</th>\n",
              "      <td>11.0</td>\n",
              "      <td>52.5</td>\n",
              "    </tr>\n",
              "    <tr>\n",
              "      <th>15</th>\n",
              "      <td>12.0</td>\n",
              "      <td>48.0</td>\n",
              "    </tr>\n",
              "    <tr>\n",
              "      <th>16</th>\n",
              "      <td>13.0</td>\n",
              "      <td>42.8</td>\n",
              "    </tr>\n",
              "    <tr>\n",
              "      <th>17</th>\n",
              "      <td>14.0</td>\n",
              "      <td>27.8</td>\n",
              "    </tr>\n",
              "    <tr>\n",
              "      <th>18</th>\n",
              "      <td>15.0</td>\n",
              "      <td>21.9</td>\n",
              "    </tr>\n",
              "  </tbody>\n",
              "</table>\n",
              "</div>"
            ],
            "text/plain": [
              "    Concentracion  Resistencia\n",
              "0             1.0          6.3\n",
              "1             1.5         11.1\n",
              "2             2.0         20.0\n",
              "3             3.0         24.0\n",
              "4             4.0         26.1\n",
              "5             4.5         30.0\n",
              "6             5.0         33.8\n",
              "7             5.5         34.0\n",
              "8             6.0         38.1\n",
              "9             6.5         39.9\n",
              "10            7.0         42.0\n",
              "11            8.0         46.1\n",
              "12            9.0         53.1\n",
              "13           10.0         52.0\n",
              "14           11.0         52.5\n",
              "15           12.0         48.0\n",
              "16           13.0         42.8\n",
              "17           14.0         27.8\n",
              "18           15.0         21.9"
            ]
          },
          "metadata": {
            "tags": []
          },
          "execution_count": 14
        }
      ]
    },
    {
      "cell_type": "code",
      "metadata": {
        "colab": {
          "base_uri": "https://localhost:8080/",
          "height": 297
        },
        "id": "0bTzLKKtiMIp",
        "outputId": "56ba127c-1665-40cb-9f18-d7dee3bb41ff"
      },
      "source": [
        "#GRAFICAMOS LOS DATOS\n",
        "import matplotlib.pyplot as plt\n",
        "plt.plot(conc,resis,'o')\n",
        "plt.tight_layout()"
      ],
      "execution_count": 19,
      "outputs": [
        {
          "output_type": "display_data",
          "data": {
            "image/png": "[encoded data removed]",
            "text/plain": [
              "<Figure size 432x288 with 1 Axes>"
            ]
          },
          "metadata": {
            "tags": [],
            "needs_background": "light"
          }
        }
      ]
    },
    {
      "cell_type": "markdown",
      "metadata": {
        "id": "sP0y8ia-ib52"
      },
      "source": [
        "Notamos que los datos no tienen un patron lineal, ajustamos una regresión polinomial de grado 2."
      ]
    },
    {
      "cell_type": "code",
      "metadata": {
        "colab": {
          "base_uri": "https://localhost:8080/"
        },
        "id": "B0S1GbsThtvW",
        "outputId": "7dccef22-d8f7-474e-a5cd-b02d52d7c9d3"
      },
      "source": [
        "#IMPORTAMOS NumPy\n",
        "import numpy as np\n",
        "#AJUSTAMOS LOS DATOS A UN POLINOMIO DE GRADO 2\n",
        "f = np.polyfit(Datos['Concentracion'],Datos.loc[:,'Resistencia'],2)\n",
        "p = np.poly1d(f)\n",
        "print(p)"
      ],
      "execution_count": 15,
      "outputs": [
        {
          "output_type": "stream",
          "text": [
            "         2\n",
            "-0.6345 x + 11.76 x - 6.674\n"
          ],
          "name": "stdout"
        }
      ]
    },
    {
      "cell_type": "code",
      "metadata": {
        "colab": {
          "base_uri": "https://localhost:8080/",
          "height": 297
        },
        "id": "Lys_bz8pilJ8",
        "outputId": "28878f1d-3936-4314-9168-8b065aabe3b9"
      },
      "source": [
        "#GRAFICAMOS LOS DATOS Y LA ECUACION OBTENIDA\n",
        "\n",
        "#GRAFICAMOS EL POLINOMIO\n",
        "x_e = np.linspace(min(conc),max(conc))\n",
        "plt.plot(x_e,-0.6345*(x_e**2)+11.76*x_e-6.674)\n",
        "\n",
        "#GRAFICAMOS LOS PUNTOS\n",
        "plt.plot(conc,resis,'o',color = 'red')\n",
        "plt.tight_layout()"
      ],
      "execution_count": 22,
      "outputs": [
        {
          "output_type": "display_data",
          "data": {
            "image/png": "[encoded data removed]",
            "text/plain": [
              "<Figure size 432x288 with 1 Axes>"
            ]
          },
          "metadata": {
            "tags": [],
            "needs_background": "light"
          }
        }
      ]
    },
    {
      "cell_type": "markdown",
      "metadata": {
        "id": "f4TsxfF7jUGK"
      },
      "source": [
        "##ANOVA"
      ]
    },
    {
      "cell_type": "markdown",
      "metadata": {
        "id": "fOBiZnLBjdlz"
      },
      "source": [
        "Para el caso de la regresión lineal simple, el ANOVA provee una prueba de hipótesis planteado como:\n",
        "\n",
        "$$H_0 : \\beta_1 = 0$$\n",
        "$$H_1 : \\beta_1 \\neq 0$$\n",
        "\n",
        "Donde el estadístico de prueba es $F^*=\\frac{MSR}{MSE}$ donde $F^*$ tiene distribución $F_{1,n-2}$. Rechazamos la hipótesis nula sí $F^*>F_{1-\\alpha,1 ,n-2}$.\n",
        "\n",
        "La prueba de hipótesis se puede entender como\n",
        "\n",
        "\n",
        "$$H_0 : \\text{La regresión no afecta significativamente}$$\n",
        "$$H_1 : \\text{La regresión afecta significativamente}$$\n",
        "\n",
        "\n",
        "Para el caso de la regresión múltiple, el ANOVA provee la siguiente prueba de hipótesis.\n",
        "\n",
        "$$H_0 : \\beta_1 = \\ldots = \\beta_{p-1} = 0$$\n",
        "$$H_1 : \\beta_i \\neq 0 \\text{ para algún }i\\in\\{1,\\ldots ,p-1\\}$$\n",
        "\n",
        "En este caso rechazar la hipótesis nula implica que la ecuación de regresión difiere de una constante, es decir, al menos una variable regresora es importante."
      ]
    },
    {
      "cell_type": "markdown",
      "metadata": {
        "id": "WRKBDzmNjinj"
      },
      "source": [
        "Estadísticamente el ANOVA tambíen nos proporciona otros datos que nos ayudan a determinar si rechazamos o no la hipótesis nula, tal es el caso del valor $F$ y el $p$-valor.\n",
        "\n",
        "El valor $F$ **calcula el radio de variación entre la media de los grupos**, sobre la variación en cada uno de los grupos de muestra.\n",
        "\n",
        "El $p$-valor **muestra si el resultado obtenido es estadísticamente significativo**.\n",
        "\n",
        "Generalmente se compara el $p$-valor contra un $\\alpha$ pequeño, de manera tradicional se toma un $\\alpha = 0.05$ o $\\alpha = 0.01$, donde sí $p$-valor es menor a $\\alpha$ entonces rechazamos la hipótesis nula."
      ]
    },
    {
      "cell_type": "markdown",
      "metadata": {
        "id": "Fyv8o989oYb-"
      },
      "source": [
        "### ANOVA para un Análisis de Regresión Lineal"
      ]
    },
    {
      "cell_type": "markdown",
      "metadata": {
        "id": "DpfV3blHjoJr"
      },
      "source": [
        "Para realizar el ANOVA en Regresión Lineal tenemos el siguiente código\n",
        "\n",
        "```\n",
        "#IMPORTAMOS\n",
        "from statsmodels.stats.anova import anova_lm\n",
        "from statsmodels.formula.api import ols\n",
        "\n",
        "#AJUSTAMOS LOS DATOS\n",
        "DF_fit = ols(formula='Y ~ X',data = DF).fit() \n",
        "#X REPRESENTA EL NOMBRE DE LA COLUMNA QUE CONTIENE LA VARIABLE INDEPENDIENTE\n",
        "#Y REPRESENTA EL NOMBRE DE LA COLUMNA QUE CONTIENE LA VARIABLE DEPENDIENTE\n",
        "\n",
        "#CREAMOS EL ANOVA\n",
        "ANOVA = anova_lm(DF_fit)\n",
        "#LA VARIABLE ANOVA ES UNA VARIABLE QUE CONTIENE UN DF DEL ANOVA\n",
        "```\n"
      ]
    },
    {
      "cell_type": "markdown",
      "metadata": {
        "id": "UksHXy1Xkw-h"
      },
      "source": [
        "Para comparar el valor del Estadistico de Prueba con el Valor Crítico $F$ calculamos el valor crítico\n",
        "\n",
        "```\n",
        "#IMPORTAMOS\n",
        "from scipy.stats import f as Valor_Critico_F\n",
        "\n",
        "#ASIGNAMOS A UNA VARIABLE\n",
        "Valor_Critico_DF = Valor_Critico_F.isf(Alpha,1,n-2)\n",
        "\n",
        "#ALPHA ES LA PROBABILIDAD DESEADA, EJEM : 0.05 O 0.01\n",
        "#n ES EL NUMERO DE FILAS DEL DATA FRAME\n",
        "```\n"
      ]
    },
    {
      "cell_type": "markdown",
      "metadata": {
        "id": "lRan5EJukOYv"
      },
      "source": [
        "**EJEMPLO**"
      ]
    },
    {
      "cell_type": "code",
      "metadata": {
        "colab": {
          "base_uri": "https://localhost:8080/",
          "height": 824
        },
        "id": "yKZYQsgHkUMT",
        "outputId": "b20eca15-3644-4055-b10f-a8ee265b7d3f"
      },
      "source": [
        "#RETOMANDO EL EJEMPLO DE REGRESION LINEAL\n",
        "HGUD"
      ],
      "execution_count": 23,
      "outputs": [
        {
          "output_type": "execute_result",
          "data": {
            "text/html": [
              "<div>\n",
              "<style scoped>\n",
              "    .dataframe tbody tr th:only-of-type {\n",
              "        vertical-align: middle;\n",
              "    }\n",
              "\n",
              "    .dataframe tbody tr th {\n",
              "        vertical-align: top;\n",
              "    }\n",
              "\n",
              "    .dataframe thead th {\n",
              "        text-align: right;\n",
              "    }\n",
              "</style>\n",
              "<table border=\"1\" class=\"dataframe\">\n",
              "  <thead>\n",
              "    <tr style=\"text-align: right;\">\n",
              "      <th></th>\n",
              "      <th>x</th>\n",
              "      <th>y</th>\n",
              "    </tr>\n",
              "  </thead>\n",
              "  <tbody>\n",
              "    <tr>\n",
              "      <th>0</th>\n",
              "      <td>17.3</td>\n",
              "      <td>71.7</td>\n",
              "    </tr>\n",
              "    <tr>\n",
              "      <th>1</th>\n",
              "      <td>19.3</td>\n",
              "      <td>48.3</td>\n",
              "    </tr>\n",
              "    <tr>\n",
              "      <th>2</th>\n",
              "      <td>19.5</td>\n",
              "      <td>88.3</td>\n",
              "    </tr>\n",
              "    <tr>\n",
              "      <th>3</th>\n",
              "      <td>19.7</td>\n",
              "      <td>75.0</td>\n",
              "    </tr>\n",
              "    <tr>\n",
              "      <th>4</th>\n",
              "      <td>22.9</td>\n",
              "      <td>91.7</td>\n",
              "    </tr>\n",
              "    <tr>\n",
              "      <th>5</th>\n",
              "      <td>23.1</td>\n",
              "      <td>100.0</td>\n",
              "    </tr>\n",
              "    <tr>\n",
              "      <th>6</th>\n",
              "      <td>26.4</td>\n",
              "      <td>73.3</td>\n",
              "    </tr>\n",
              "    <tr>\n",
              "      <th>7</th>\n",
              "      <td>26.8</td>\n",
              "      <td>65.0</td>\n",
              "    </tr>\n",
              "    <tr>\n",
              "      <th>8</th>\n",
              "      <td>27.6</td>\n",
              "      <td>75.0</td>\n",
              "    </tr>\n",
              "    <tr>\n",
              "      <th>9</th>\n",
              "      <td>28.1</td>\n",
              "      <td>88.3</td>\n",
              "    </tr>\n",
              "    <tr>\n",
              "      <th>10</th>\n",
              "      <td>28.2</td>\n",
              "      <td>68.3</td>\n",
              "    </tr>\n",
              "    <tr>\n",
              "      <th>11</th>\n",
              "      <td>28.7</td>\n",
              "      <td>96.7</td>\n",
              "    </tr>\n",
              "    <tr>\n",
              "      <th>12</th>\n",
              "      <td>29.0</td>\n",
              "      <td>76.7</td>\n",
              "    </tr>\n",
              "    <tr>\n",
              "      <th>13</th>\n",
              "      <td>29.6</td>\n",
              "      <td>78.3</td>\n",
              "    </tr>\n",
              "    <tr>\n",
              "      <th>14</th>\n",
              "      <td>29.9</td>\n",
              "      <td>60.0</td>\n",
              "    </tr>\n",
              "    <tr>\n",
              "      <th>15</th>\n",
              "      <td>29.9</td>\n",
              "      <td>71.7</td>\n",
              "    </tr>\n",
              "    <tr>\n",
              "      <th>16</th>\n",
              "      <td>30.3</td>\n",
              "      <td>85.0</td>\n",
              "    </tr>\n",
              "    <tr>\n",
              "      <th>17</th>\n",
              "      <td>31.3</td>\n",
              "      <td>85.0</td>\n",
              "    </tr>\n",
              "    <tr>\n",
              "      <th>18</th>\n",
              "      <td>36.0</td>\n",
              "      <td>88.3</td>\n",
              "    </tr>\n",
              "    <tr>\n",
              "      <th>19</th>\n",
              "      <td>39.5</td>\n",
              "      <td>100.0</td>\n",
              "    </tr>\n",
              "    <tr>\n",
              "      <th>20</th>\n",
              "      <td>40.4</td>\n",
              "      <td>100.0</td>\n",
              "    </tr>\n",
              "    <tr>\n",
              "      <th>21</th>\n",
              "      <td>44.3</td>\n",
              "      <td>100.0</td>\n",
              "    </tr>\n",
              "    <tr>\n",
              "      <th>22</th>\n",
              "      <td>44.6</td>\n",
              "      <td>91.7</td>\n",
              "    </tr>\n",
              "    <tr>\n",
              "      <th>23</th>\n",
              "      <td>50.4</td>\n",
              "      <td>100.0</td>\n",
              "    </tr>\n",
              "    <tr>\n",
              "      <th>24</th>\n",
              "      <td>55.9</td>\n",
              "      <td>71.7</td>\n",
              "    </tr>\n",
              "  </tbody>\n",
              "</table>\n",
              "</div>"
            ],
            "text/plain": [
              "       x      y\n",
              "0   17.3   71.7\n",
              "1   19.3   48.3\n",
              "2   19.5   88.3\n",
              "3   19.7   75.0\n",
              "4   22.9   91.7\n",
              "5   23.1  100.0\n",
              "6   26.4   73.3\n",
              "7   26.8   65.0\n",
              "8   27.6   75.0\n",
              "9   28.1   88.3\n",
              "10  28.2   68.3\n",
              "11  28.7   96.7\n",
              "12  29.0   76.7\n",
              "13  29.6   78.3\n",
              "14  29.9   60.0\n",
              "15  29.9   71.7\n",
              "16  30.3   85.0\n",
              "17  31.3   85.0\n",
              "18  36.0   88.3\n",
              "19  39.5  100.0\n",
              "20  40.4  100.0\n",
              "21  44.3  100.0\n",
              "22  44.6   91.7\n",
              "23  50.4  100.0\n",
              "24  55.9   71.7"
            ]
          },
          "metadata": {
            "tags": []
          },
          "execution_count": 23
        }
      ]
    },
    {
      "cell_type": "code",
      "metadata": {
        "id": "8M-T9AujkYFT"
      },
      "source": [
        "#IMPORTAMOS\n",
        "from statsmodels.stats.anova import anova_lm\n",
        "from statsmodels.formula.api import ols\n",
        "# AJUSTAMOS LOS DATOS\n",
        "DF_fit = ols(formula='y ~ x',data = HGUD).fit() \n",
        "# TENEMOS EL ANOVA\n",
        "ANOVA = anova_lm(DF_fit)"
      ],
      "execution_count": null,
      "outputs": []
    },
    {
      "cell_type": "code",
      "metadata": {
        "colab": {
          "base_uri": "https://localhost:8080/",
          "height": 111
        },
        "id": "e8NW6EBTklQu",
        "outputId": "ff51ae9e-c109-4165-c9fe-ea0e3b2ecfeb"
      },
      "source": [
        "ANOVA"
      ],
      "execution_count": 25,
      "outputs": [
        {
          "output_type": "execute_result",
          "data": {
            "text/html": [
              "<div>\n",
              "<style scoped>\n",
              "    .dataframe tbody tr th:only-of-type {\n",
              "        vertical-align: middle;\n",
              "    }\n",
              "\n",
              "    .dataframe tbody tr th {\n",
              "        vertical-align: top;\n",
              "    }\n",
              "\n",
              "    .dataframe thead th {\n",
              "        text-align: right;\n",
              "    }\n",
              "</style>\n",
              "<table border=\"1\" class=\"dataframe\">\n",
              "  <thead>\n",
              "    <tr style=\"text-align: right;\">\n",
              "      <th></th>\n",
              "      <th>df</th>\n",
              "      <th>sum_sq</th>\n",
              "      <th>mean_sq</th>\n",
              "      <th>F</th>\n",
              "      <th>PR(&gt;F)</th>\n",
              "    </tr>\n",
              "  </thead>\n",
              "  <tbody>\n",
              "    <tr>\n",
              "      <th>x</th>\n",
              "      <td>1.0</td>\n",
              "      <td>735.135083</td>\n",
              "      <td>735.135083</td>\n",
              "      <td>4.168331</td>\n",
              "      <td>0.052819</td>\n",
              "    </tr>\n",
              "    <tr>\n",
              "      <th>Residual</th>\n",
              "      <td>23.0</td>\n",
              "      <td>4056.324917</td>\n",
              "      <td>176.361953</td>\n",
              "      <td>NaN</td>\n",
              "      <td>NaN</td>\n",
              "    </tr>\n",
              "  </tbody>\n",
              "</table>\n",
              "</div>"
            ],
            "text/plain": [
              "            df       sum_sq     mean_sq         F    PR(>F)\n",
              "x          1.0   735.135083  735.135083  4.168331  0.052819\n",
              "Residual  23.0  4056.324917  176.361953       NaN       NaN"
            ]
          },
          "metadata": {
            "tags": []
          },
          "execution_count": 25
        }
      ]
    },
    {
      "cell_type": "code",
      "metadata": {
        "colab": {
          "base_uri": "https://localhost:8080/"
        },
        "id": "tm5b5I2Um_FU",
        "outputId": "4a9d9c35-f4de-4dc9-b189-4e053f8cf4cd"
      },
      "source": [
        "#COMPARAMOS EL ESTADISTICO DE PRUEBA CON EL VALOR CRITICO\n",
        "\n",
        "#IMPORTAMOS EL VALOR CRITICO COMO Valor_Critico_F\n",
        "from scipy.stats import f as Valor_Critico_F\n",
        "\n",
        "#ASIGNAMOS A UNA VARIABLE\n",
        "Valor_Critico_HGUD = Valor_Critico_F.isf(0.05,1,len(HGUD.index)-2) #PROBABILIDAD 0.05\n",
        "\n",
        "if ANOVA.loc['x','F'] > Valor_Critico_HGUD:\n",
        "  print('Rechazamos H0')\n",
        "else:\n",
        "  print('No rechazamos H0')"
      ],
      "execution_count": 27,
      "outputs": [
        {
          "output_type": "stream",
          "text": [
            "No rechazamos H0\n"
          ],
          "name": "stdout"
        }
      ]
    },
    {
      "cell_type": "markdown",
      "metadata": {
        "id": "7RSOu108oCod"
      },
      "source": [
        "Concluimos entonces que no existe una asociación lineal entre la variable dependiente y la variable independiente."
      ]
    },
    {
      "cell_type": "markdown",
      "metadata": {
        "id": "0MbiZQeLodFl"
      },
      "source": [
        "### ANOVA para un Análisis de Regresión Lineal Múltiple"
      ]
    },
    {
      "cell_type": "markdown",
      "metadata": {
        "id": "17OE-tP_ohVa"
      },
      "source": [
        "Para realizar el ANOVA propio de un Análisis de Regresión Lineal Múltiple anexo el siguiente código que diseñé.\n",
        "\n",
        "Estas funciones estan basadas en el libro «Applied Linear Statistical Models», quinta edición, de Kutner M., Nachtsheim C., Neter, J., Li, W."
      ]
    },
    {
      "cell_type": "code",
      "metadata": {
        "id": "qsm2w5xxoslr"
      },
      "source": [
        "def M_H (Data_X):\n",
        "    '''\n",
        "    Data_X : Es un DataFrame que contiene\n",
        "             los valores de las variables independientes.\n",
        "    '''\n",
        "    import pandas as pd\n",
        "    import numpy as np\n",
        "    Transpuesta = Data_X.transpose()\n",
        "    A_ = pd.DataFrame(np.dot(Transpuesta,Data_X))\n",
        "    A = pd.DataFrame(np.linalg.inv(A_))\n",
        "    return pd.DataFrame(np.dot(np.dot(Data_X,A),Transpuesta))\n",
        "    \n",
        "def SSTO (Data_Y):\n",
        "    '''\n",
        "    Data_Y : Es un DataFrame compuesto solamente por una columna\n",
        "             que contiene las variables dependientes.\n",
        "             \n",
        "             En caso de usar el metodo iloc o loc para extraer\n",
        "             la columna de las variables dependientes convierta\n",
        "             dicha Serie en DataFrame mediante la funcion 'to_frame()'\n",
        "             \n",
        "             Ejemplo : DF.loc[:,'Y'].to_frame()\n",
        "    '''\n",
        "    import pandas as pd\n",
        "    import numpy as np\n",
        "    n = len(Data_Y.index)\n",
        "    M_I = pd.DataFrame(np.diagflat(list(1 for i in range (n))))\n",
        "    M_1 = pd.DataFrame(np.ones((n,n)))\n",
        "    Transpuesta = Data_Y.transpose()\n",
        "    A = M_I - (1/n)*M_1\n",
        "    return float(np.dot(np.dot(Transpuesta,A),Data_Y))\n",
        "\n",
        "def SSE (Data_X,Data_Y):\n",
        "    '''\n",
        "    Data_X : Es un DataFrame que contiene\n",
        "             los valores de las variables independientes.\n",
        "             \n",
        "    Data_Y : Es un DataFrame compuesto solamente por una columna\n",
        "             que contiene las variables dependientes.\n",
        "             \n",
        "             En caso de usar el metodo iloc o loc para extraer\n",
        "             la columna de las variables dependientes convierta\n",
        "             dicha Serie en DataFrame mediante la funcion 'to_frame()'\n",
        "             \n",
        "             Ejemplo : DF.loc[:,'Y'].to_frame()\n",
        "    '''\n",
        "    import pandas as pd\n",
        "    import numpy as np\n",
        "    H = M_H(Data_X)\n",
        "    M_I = pd.DataFrame(np.diagflat(list(1 for i in range (len(H.index)))))\n",
        "    Transpuesta = Data_Y.transpose()\n",
        "    A = M_I - H\n",
        "    return float(np.dot(np.dot(Transpuesta,A),Data_Y))\n",
        "\n",
        "def SSR (Data_X,Data_Y):\n",
        "    '''\n",
        "    Data_X : Es un DataFrame que contiene\n",
        "             los valores de las variables independientes.\n",
        "             \n",
        "    Data_Y : Es un DataFrame compuesto solamente por una columna\n",
        "             que contiene las variables dependientes.\n",
        "             \n",
        "             En caso de usar el metodo iloc o loc para extraer\n",
        "             la columna de las variables dependientes convierta\n",
        "             dicha Serie en DataFrame mediante la funcion 'to_frame()'\n",
        "             \n",
        "             Ejemplo : DF.loc[:,'Y'].to_frame()\n",
        "    '''\n",
        "    import pandas as pd\n",
        "    import numpy as np\n",
        "    n = len(Data_Y.index)\n",
        "    H = M_H(Data_X)\n",
        "    M_1 = pd.DataFrame(np.ones((n,n)))\n",
        "    Transpuesta = Data_Y.transpose()\n",
        "    A = H - (1/n)*M_1\n",
        "    return float(np.dot(np.dot(Transpuesta,A),Data_Y))\n",
        "    \n",
        "    \n",
        "def ANOVA_RLM (Alpha,Data_X,Data_Y):\n",
        "    '''\n",
        "    Alpha : Es la probabilidad deseada.\n",
        "    \n",
        "    Data_X : Es un DataFrame que contiene\n",
        "             los valores de las variables independientes.\n",
        "             \n",
        "    Data_Y : Es un DataFrame compuesto solamente por una columna\n",
        "             que contiene las variables dependientes.\n",
        "             \n",
        "             En caso de usar el metodo iloc o loc para extraer\n",
        "             la columna de las variables dependientes convierta\n",
        "             dicha Serie en DataFrame mediante la funcion 'to_frame()'\n",
        "             \n",
        "             Ejemplo : DF.loc[:,'Y'].to_frame()\n",
        "    '''\n",
        "    from scipy.stats import f\n",
        "    import pandas as pd\n",
        "    import numpy as np\n",
        "    Data_X['1'] = 1\n",
        "    n = len(Data_Y.index)\n",
        "    p_1 = len(Data_X.columns)-1\n",
        "    n_p = (n-1)-p_1\n",
        "    ssr = SSR(Data_X,Data_Y)\n",
        "    sse = SSE(Data_X,Data_Y)\n",
        "    ssto = SSTO(Data_Y)\n",
        "    msr = ssr/p_1\n",
        "    mse = sse/n_p\n",
        "    Estadistico_Prueba = msr/mse\n",
        "    Critico = f.isf(Alpha,p_1,n_p)\n",
        "    return [pd.DataFrame({'SS':[ssr,sse,ssto],'GL':[p_1,n_p,n-1],\n",
        "            'MS':[msr,mse,np.nan],\n",
        "            'Estadistico de Prueba':[Estadistico_Prueba,np.nan,np.nan],\n",
        "            'Valor Critico':[Critico,np.nan,np.nan]},index = ['Regresion','Error','Total']),\n",
        "            Estadistico_Prueba>Critico]"
      ],
      "execution_count": 29,
      "outputs": []
    },
    {
      "cell_type": "markdown",
      "metadata": {
        "id": "T7Ig92hrpJr1"
      },
      "source": [
        "**EJEMPLO**"
      ]
    },
    {
      "cell_type": "markdown",
      "metadata": {
        "id": "X-mRi9qTpP42"
      },
      "source": [
        "Tomando el ejemplo de Análisis de Regresión Lineal Múltiple"
      ]
    },
    {
      "cell_type": "code",
      "metadata": {
        "colab": {
          "base_uri": "https://localhost:8080/",
          "height": 483
        },
        "id": "zgU0TbH1pSu-",
        "outputId": "7f941c16-3807-4314-e46a-8d5cd21fad65"
      },
      "source": [
        "DAED"
      ],
      "execution_count": 30,
      "outputs": [
        {
          "output_type": "execute_result",
          "data": {
            "text/html": [
              "<div>\n",
              "<style scoped>\n",
              "    .dataframe tbody tr th:only-of-type {\n",
              "        vertical-align: middle;\n",
              "    }\n",
              "\n",
              "    .dataframe tbody tr th {\n",
              "        vertical-align: top;\n",
              "    }\n",
              "\n",
              "    .dataframe thead th {\n",
              "        text-align: right;\n",
              "    }\n",
              "</style>\n",
              "<table border=\"1\" class=\"dataframe\">\n",
              "  <thead>\n",
              "    <tr style=\"text-align: right;\">\n",
              "      <th></th>\n",
              "      <th>x_1</th>\n",
              "      <th>x_2</th>\n",
              "      <th>y</th>\n",
              "    </tr>\n",
              "  </thead>\n",
              "  <tbody>\n",
              "    <tr>\n",
              "      <th>0</th>\n",
              "      <td>195</td>\n",
              "      <td>4.00</td>\n",
              "      <td>1004</td>\n",
              "    </tr>\n",
              "    <tr>\n",
              "      <th>1</th>\n",
              "      <td>255</td>\n",
              "      <td>4.00</td>\n",
              "      <td>1636</td>\n",
              "    </tr>\n",
              "    <tr>\n",
              "      <th>2</th>\n",
              "      <td>195</td>\n",
              "      <td>4.60</td>\n",
              "      <td>852</td>\n",
              "    </tr>\n",
              "    <tr>\n",
              "      <th>3</th>\n",
              "      <td>255</td>\n",
              "      <td>4.60</td>\n",
              "      <td>1506</td>\n",
              "    </tr>\n",
              "    <tr>\n",
              "      <th>4</th>\n",
              "      <td>255</td>\n",
              "      <td>4.20</td>\n",
              "      <td>1272</td>\n",
              "    </tr>\n",
              "    <tr>\n",
              "      <th>5</th>\n",
              "      <td>255</td>\n",
              "      <td>4.10</td>\n",
              "      <td>1270</td>\n",
              "    </tr>\n",
              "    <tr>\n",
              "      <th>6</th>\n",
              "      <td>255</td>\n",
              "      <td>4.60</td>\n",
              "      <td>1269</td>\n",
              "    </tr>\n",
              "    <tr>\n",
              "      <th>7</th>\n",
              "      <td>195</td>\n",
              "      <td>4.30</td>\n",
              "      <td>903</td>\n",
              "    </tr>\n",
              "    <tr>\n",
              "      <th>8</th>\n",
              "      <td>255</td>\n",
              "      <td>4.30</td>\n",
              "      <td>1555</td>\n",
              "    </tr>\n",
              "    <tr>\n",
              "      <th>9</th>\n",
              "      <td>255</td>\n",
              "      <td>4.00</td>\n",
              "      <td>1260</td>\n",
              "    </tr>\n",
              "    <tr>\n",
              "      <th>10</th>\n",
              "      <td>255</td>\n",
              "      <td>4.70</td>\n",
              "      <td>1146</td>\n",
              "    </tr>\n",
              "    <tr>\n",
              "      <th>11</th>\n",
              "      <td>255</td>\n",
              "      <td>4.30</td>\n",
              "      <td>1276</td>\n",
              "    </tr>\n",
              "    <tr>\n",
              "      <th>12</th>\n",
              "      <td>255</td>\n",
              "      <td>4.72</td>\n",
              "      <td>1225</td>\n",
              "    </tr>\n",
              "    <tr>\n",
              "      <th>13</th>\n",
              "      <td>340</td>\n",
              "      <td>4.30</td>\n",
              "      <td>1321</td>\n",
              "    </tr>\n",
              "  </tbody>\n",
              "</table>\n",
              "</div>"
            ],
            "text/plain": [
              "    x_1   x_2     y\n",
              "0   195  4.00  1004\n",
              "1   255  4.00  1636\n",
              "2   195  4.60   852\n",
              "3   255  4.60  1506\n",
              "4   255  4.20  1272\n",
              "5   255  4.10  1270\n",
              "6   255  4.60  1269\n",
              "7   195  4.30   903\n",
              "8   255  4.30  1555\n",
              "9   255  4.00  1260\n",
              "10  255  4.70  1146\n",
              "11  255  4.30  1276\n",
              "12  255  4.72  1225\n",
              "13  340  4.30  1321"
            ]
          },
          "metadata": {
            "tags": []
          },
          "execution_count": 30
        }
      ]
    },
    {
      "cell_type": "code",
      "metadata": {
        "colab": {
          "base_uri": "https://localhost:8080/",
          "height": 142
        },
        "id": "IX_DhdWBpWud",
        "outputId": "2269b0d5-8e76-47ef-cf59-b5e868a4a890"
      },
      "source": [
        "ANOVA_RLM(0.05,DAED.loc[:,['x_1','x_2']],DAED['y'].to_frame())[0] #IMPRIMIMOS EL ANOVA"
      ],
      "execution_count": 34,
      "outputs": [
        {
          "output_type": "execute_result",
          "data": {
            "text/html": [
              "<div>\n",
              "<style scoped>\n",
              "    .dataframe tbody tr th:only-of-type {\n",
              "        vertical-align: middle;\n",
              "    }\n",
              "\n",
              "    .dataframe tbody tr th {\n",
              "        vertical-align: top;\n",
              "    }\n",
              "\n",
              "    .dataframe thead th {\n",
              "        text-align: right;\n",
              "    }\n",
              "</style>\n",
              "<table border=\"1\" class=\"dataframe\">\n",
              "  <thead>\n",
              "    <tr style=\"text-align: right;\">\n",
              "      <th></th>\n",
              "      <th>SS</th>\n",
              "      <th>GL</th>\n",
              "      <th>MS</th>\n",
              "      <th>Estadistico de Prueba</th>\n",
              "      <th>Valor Critico</th>\n",
              "    </tr>\n",
              "  </thead>\n",
              "  <tbody>\n",
              "    <tr>\n",
              "      <th>Regresion</th>\n",
              "      <td>272481.462712</td>\n",
              "      <td>2</td>\n",
              "      <td>136240.731356</td>\n",
              "      <td>3.814269</td>\n",
              "      <td>3.982298</td>\n",
              "    </tr>\n",
              "    <tr>\n",
              "      <th>Error</th>\n",
              "      <td>392905.751574</td>\n",
              "      <td>11</td>\n",
              "      <td>35718.704689</td>\n",
              "      <td>NaN</td>\n",
              "      <td>NaN</td>\n",
              "    </tr>\n",
              "    <tr>\n",
              "      <th>Total</th>\n",
              "      <td>665387.214286</td>\n",
              "      <td>13</td>\n",
              "      <td>NaN</td>\n",
              "      <td>NaN</td>\n",
              "      <td>NaN</td>\n",
              "    </tr>\n",
              "  </tbody>\n",
              "</table>\n",
              "</div>"
            ],
            "text/plain": [
              "                      SS  GL  ...  Estadistico de Prueba  Valor Critico\n",
              "Regresion  272481.462712   2  ...               3.814269       3.982298\n",
              "Error      392905.751574  11  ...                    NaN            NaN\n",
              "Total      665387.214286  13  ...                    NaN            NaN\n",
              "\n",
              "[3 rows x 5 columns]"
            ]
          },
          "metadata": {
            "tags": []
          },
          "execution_count": 34
        }
      ]
    },
    {
      "cell_type": "code",
      "metadata": {
        "colab": {
          "base_uri": "https://localhost:8080/"
        },
        "id": "NBmvfqpHpt9B",
        "outputId": "c62ac9f8-bb3f-492c-da39-91ca668f0f12"
      },
      "source": [
        "ANOVA_RLM(0.05,DAED.loc[:,['x_1','x_2']],DAED['y'].to_frame())[1] #DETERMINAMOS SI RECHAZAMOS H0"
      ],
      "execution_count": 35,
      "outputs": [
        {
          "output_type": "execute_result",
          "data": {
            "text/plain": [
              "False"
            ]
          },
          "metadata": {
            "tags": []
          },
          "execution_count": 35
        }
      ]
    },
    {
      "cell_type": "markdown",
      "metadata": {
        "id": "RxwB2MoRqAwv"
      },
      "source": [
        "## Relación"
      ]
    },
    {
      "cell_type": "markdown",
      "metadata": {
        "id": "kwZBo1vVqFOn"
      },
      "source": [
        "Existen diversas maneras para medir hasta que punto las diferentes variables son interdependientes. Sí una variable esta relacionada con otra, es decir, por ejemplo,$x$ esta relacionada con $y$, entonces podemos analizar que tanto están relacionadas.\n",
        "\n",
        "En particular, existen tres maneras de analizar la relación entre variables.\n",
        "\n",
        "1. Visual\n",
        "2. Coeficiente de Pearson\n",
        "3. $p$-valor\n",
        "\n",
        "Analizar la relación entre variables de **manera visual** nos da una **PISTA** de la relación entre ellas, sin embargo, no es prueba contundente de esta.\n",
        "\n",
        "El **coeficiente de Pearson** es un valor estadístico que nos **indica que de que forma están relacionadas las variables**. El coeficiente de Pearson tiene el siguiente criterio.\n",
        "\n",
        "|Valor del Coeficiente de Pearson|Significado|\n",
        "|--|--|\n",
        "|Cercano a 1|Tenemos una relación lineal positiva|\n",
        "|Cercano a 0|No existe una relación lineal entre las variables|\n",
        "|Cercano a -1|Tenemos una relación lineal negativa|\n",
        "\n",
        "Por su lado, el **$p$-valor** nos dice **lo seguros que estamos de la relación calculada**.\n",
        "\n",
        "|Valor del $p$-valor|Significado|\n",
        "|:--:|--|\n",
        "|$$0.01< p < 0.05$$|Fuerte certeza de relación lineal|\n",
        "|$$0.05 < p < 0.1$$|Moderada certeza de relación lineal|\n",
        "|$p < 0.1$|Débil certeza de relación lineal|\n",
        "|$p > 0.1$|No existe relación lineal|"
      ]
    },
    {
      "cell_type": "markdown",
      "metadata": {
        "id": "s8yuaBd6qJXA"
      },
      "source": [
        "### Gráfica de dispersión"
      ]
    },
    {
      "cell_type": "markdown",
      "metadata": {
        "id": "CP-VngPGqPsf"
      },
      "source": [
        "Para visualizar la gráfica de dispersión de un Análisis de Regresión Lineal tenemos el siguiente código.\n",
        "\n",
        "```\n",
        "#IMPORTAMOS\n",
        "import matplotlib.pyplot as plt\n",
        "import seaborn as sns\n",
        "\n",
        "#GRAFICA\n",
        "sns.regplot(x = 'Columna_de_las_X', y = 'Columna_de_las_Y', data = DF)\n",
        "```\n"
      ]
    },
    {
      "cell_type": "markdown",
      "metadata": {
        "id": "zH1iOhsUqcFH"
      },
      "source": [
        "**EJEMPLO**"
      ]
    },
    {
      "cell_type": "markdown",
      "metadata": {
        "id": "fhXrbfMOqflP"
      },
      "source": [
        "Ejercicio 11.9 del libro"
      ]
    },
    {
      "cell_type": "code",
      "metadata": {
        "colab": {
          "base_uri": "https://localhost:8080/",
          "height": 297
        },
        "id": "iRqrK1klqbiM",
        "outputId": "afc2c8b2-7abc-494a-8fad-d378ae56e5b0"
      },
      "source": [
        "V_C = [1.8,1.5,2,2.5,1.8,2.5,1.6,1.5]\n",
        "C_P = [51,51,115,150,126,150,118,106]\n",
        "\n",
        "E_119 = {'Volumen de cilindros (x)':V_C,'Caballos de potencia (y)':C_P}\n",
        "E_119D = pd.DataFrame(E_119)\n",
        "\n",
        "E_119D"
      ],
      "execution_count": 36,
      "outputs": [
        {
          "output_type": "execute_result",
          "data": {
            "text/html": [
              "<div>\n",
              "<style scoped>\n",
              "    .dataframe tbody tr th:only-of-type {\n",
              "        vertical-align: middle;\n",
              "    }\n",
              "\n",
              "    .dataframe tbody tr th {\n",
              "        vertical-align: top;\n",
              "    }\n",
              "\n",
              "    .dataframe thead th {\n",
              "        text-align: right;\n",
              "    }\n",
              "</style>\n",
              "<table border=\"1\" class=\"dataframe\">\n",
              "  <thead>\n",
              "    <tr style=\"text-align: right;\">\n",
              "      <th></th>\n",
              "      <th>Volumen de cilindros (x)</th>\n",
              "      <th>Caballos de potencia (y)</th>\n",
              "    </tr>\n",
              "  </thead>\n",
              "  <tbody>\n",
              "    <tr>\n",
              "      <th>0</th>\n",
              "      <td>1.8</td>\n",
              "      <td>51</td>\n",
              "    </tr>\n",
              "    <tr>\n",
              "      <th>1</th>\n",
              "      <td>1.5</td>\n",
              "      <td>51</td>\n",
              "    </tr>\n",
              "    <tr>\n",
              "      <th>2</th>\n",
              "      <td>2.0</td>\n",
              "      <td>115</td>\n",
              "    </tr>\n",
              "    <tr>\n",
              "      <th>3</th>\n",
              "      <td>2.5</td>\n",
              "      <td>150</td>\n",
              "    </tr>\n",
              "    <tr>\n",
              "      <th>4</th>\n",
              "      <td>1.8</td>\n",
              "      <td>126</td>\n",
              "    </tr>\n",
              "    <tr>\n",
              "      <th>5</th>\n",
              "      <td>2.5</td>\n",
              "      <td>150</td>\n",
              "    </tr>\n",
              "    <tr>\n",
              "      <th>6</th>\n",
              "      <td>1.6</td>\n",
              "      <td>118</td>\n",
              "    </tr>\n",
              "    <tr>\n",
              "      <th>7</th>\n",
              "      <td>1.5</td>\n",
              "      <td>106</td>\n",
              "    </tr>\n",
              "  </tbody>\n",
              "</table>\n",
              "</div>"
            ],
            "text/plain": [
              "   Volumen de cilindros (x)  Caballos de potencia (y)\n",
              "0                       1.8                        51\n",
              "1                       1.5                        51\n",
              "2                       2.0                       115\n",
              "3                       2.5                       150\n",
              "4                       1.8                       126\n",
              "5                       2.5                       150\n",
              "6                       1.6                       118\n",
              "7                       1.5                       106"
            ]
          },
          "metadata": {
            "tags": []
          },
          "execution_count": 36
        }
      ]
    },
    {
      "cell_type": "code",
      "metadata": {
        "colab": {
          "base_uri": "https://localhost:8080/",
          "height": 585
        },
        "id": "yZfmVd4Zqmsg",
        "outputId": "bca28516-e942-4420-d391-67208a94f1c6"
      },
      "source": [
        "#IMPORTAMOS\n",
        "import seaborn as sns\n",
        "#GRAFICAMOS\n",
        "plt.figure(figsize=(10,8))\n",
        "sns.regplot( x = 'Volumen de cilindros (x)', y = 'Caballos de potencia (y)', data = E_119D) #SI QUEREMOS UN INTERVALO DE CONFIANZA MENOR O MAYOR HACER ci = Numero\n",
        "plt.tight_layout()"
      ],
      "execution_count": 43,
      "outputs": [
        {
          "output_type": "display_data",
          "data": {
            "image/png": "[encoded data removed]",
            "text/plain": [
              "<Figure size 720x576 with 1 Axes>"
            ]
          },
          "metadata": {
            "tags": [],
            "needs_background": "light"
          }
        }
      ]
    },
    {
      "cell_type": "markdown",
      "metadata": {
        "id": "lsviYm5vrTx9"
      },
      "source": [
        "###Coeficiente de Pearson y $p$-valor"
      ]
    },
    {
      "cell_type": "markdown",
      "metadata": {
        "id": "Dl5Atk8drW81"
      },
      "source": [
        "Para obtener el coeficiente de Pearson y el $p$-valor tenemos el siguiente código.\n",
        "\n",
        "```\n",
        "#IMPORTAMOS\n",
        "from scipy import stats\n",
        "\n",
        "#LLAMAMOS A pearsonr\n",
        "Pearson = stats.pearsonr(DF['COLUMNA_X'], DF['COLUMNA_Y'])\n",
        "\n",
        "#PEARSON\n",
        "Pearson[0]\n",
        "\n",
        "#P-VALOR\n",
        "Pearson[1]\n",
        "```\n"
      ]
    },
    {
      "cell_type": "markdown",
      "metadata": {
        "id": "nqTQGozfrydo"
      },
      "source": [
        "**EJEMPLO**"
      ]
    },
    {
      "cell_type": "markdown",
      "metadata": {
        "id": "MMhi5anJrz1N"
      },
      "source": [
        "Analizamos el coeficiente de Pearson y el $p$-valor al ejemplo anterior"
      ]
    },
    {
      "cell_type": "code",
      "metadata": {
        "id": "38jGgRuXr3iB"
      },
      "source": [
        "#IMPORTAMOS \n",
        "from scipy import stats\n",
        "\n",
        "#LLAMAMOS A pearsonr\n",
        "\n",
        "Pearson = stats.pearsonr(E_119D['Volumen de cilindros (x)'],E_119D['Caballos de potencia (y)'])"
      ],
      "execution_count": 44,
      "outputs": []
    },
    {
      "cell_type": "code",
      "metadata": {
        "colab": {
          "base_uri": "https://localhost:8080/"
        },
        "id": "8TWwzHc1sEAf",
        "outputId": "4bd30b11-c952-4c6f-bbf0-6fa933a4265a"
      },
      "source": [
        "print('El coeficiente de Pearson es',Pearson[0])"
      ],
      "execution_count": 45,
      "outputs": [
        {
          "output_type": "stream",
          "text": [
            "El coeficiente de Pearson es 0.6849508020049901\n"
          ],
          "name": "stdout"
        }
      ]
    },
    {
      "cell_type": "code",
      "metadata": {
        "colab": {
          "base_uri": "https://localhost:8080/"
        },
        "id": "dIYir5uqsKhh",
        "outputId": "d4624453-79ef-408c-8784-d6b8bd7be92f"
      },
      "source": [
        "#VERIFICAMOS QUE NOS DICE EL P-VALOR\n",
        "if 0.01 < Pearson[1] and Pearson[1] < 0.05 :\n",
        "  print('Fuerte certeza de relacion lineal')\n",
        "elif 0.05 < Pearson[1] and Pearson[1] < 0.1 :\n",
        "  print('Moderada certeza de relacion lineal')\n",
        "elif Pearson[1] < 0.1:\n",
        "  print('Debil certeza de relacion lineal')\n",
        "elif Pearson[1] > 0.1:\n",
        "  print('No existe certeza de relacion lineal')"
      ],
      "execution_count": 46,
      "outputs": [
        {
          "output_type": "stream",
          "text": [
            "Moderada certeza de relacion lineal\n"
          ],
          "name": "stdout"
        }
      ]
    },
    {
      "cell_type": "markdown",
      "metadata": {
        "id": "8-x8Lxc8sPMP"
      },
      "source": [
        "### Coeficiente de Determinación $R^2$"
      ]
    },
    {
      "cell_type": "markdown",
      "metadata": {
        "id": "ta_5cW0DsXUg"
      },
      "source": [
        "El coeficiente de determinación nos dice lo cerca que están los datos de la línea de regresión ajustada.\n",
        "\n",
        "|Valor $R^2$|Significado|\n",
        "|--|--|\n",
        "|Valor cercano a 1|La línea de regresión es un buen ajuste a los datos|\n",
        "|Valor cercano a 0|La línea de regresión no es un buen ajuste a los datos|\n",
        "\n",
        "Sí el valor de $R^2$ es negativo puede deberse a un sobre ajuste de los datos.\n",
        "\n",
        "Este coeficiente es aplicable a una regresión lineal, múltiple y polinómica, entre otras."
      ]
    },
    {
      "cell_type": "markdown",
      "metadata": {
        "id": "n6N1jCK0saNQ"
      },
      "source": [
        "Para obtener el coeficiente de determinación en un Análisis de Regresión Lineal tenemos el siguiente código.\n",
        "\n",
        "```\n",
        "#IMPORTAMOS\n",
        "from sklearn.linear_model import LinearRegression\n",
        "\n",
        "#ASIGNAMOS A UNA VARIABLE LinearRegression\n",
        "LR = LinearRegression()\n",
        "\n",
        "#AJUSTAMOS\n",
        "LR.fit(DF[['COLUMNA_X']], DF[['COLUMNA_Y']])\n",
        "\n",
        "#COEFICIENTE DE DETERMINACION\n",
        "LR.score(DF[['COLUMNA_X']], DF[['COLUMNA_Y']])\n",
        "```\n"
      ]
    },
    {
      "cell_type": "markdown",
      "metadata": {
        "id": "N4jpISd5tGBY"
      },
      "source": [
        "Para obtener el coeficiente de determinación en un Análisis de Regresión Lineal Múltiple tenemos el siguiente código\n",
        "\n",
        "```\n",
        "#IMPORTAMOS\n",
        "from sklearn.linear_model import LinearRegression\n",
        "\n",
        "#ASIGNAMOS A UNA VARIABLE LinearRegression\n",
        "LR = LinearRegression()\n",
        "\n",
        "#AJUSTAMOS\n",
        "LR.fit(DF[['COLUMNA1','COLUMNA2',...,'COLUMNAK']], DF[['COLUMNA_Y']])\n",
        "\n",
        "#COEFICIENTE DE DETERMINACION\n",
        "LR.score(DF[['COLUMNA1','COLUMNA2',...,'COLUMNAK']], DF[['COLUMNA_Y']])\n",
        "```\n"
      ]
    },
    {
      "cell_type": "markdown",
      "metadata": {
        "id": "fHuPZMgItcvi"
      },
      "source": [
        "Para obtener el coeficiente de determinación en un Análisis de Regresión Polinomial tenemos el siguiente código\n",
        "\n",
        "```\n",
        "# PRIMERO IMPORTAMOS\n",
        " \n",
        "import numpy as np\n",
        "from sklearn.metrics import r2_score\n",
        " \n",
        "# ESPECIFIMOS LAS X E Y\n",
        " \n",
        "f = np.polyfit(DF['COLUMNAX'],DF['COLUMNAY'],Grado_Polinomico)\n",
        "p = np.poly1d(f)\n",
        "r_2 = r2_score(y,p(x))\n",
        "```\n",
        "\n",
        "La variable r_2 contiene el coeficiente de determinación."
      ]
    },
    {
      "cell_type": "markdown",
      "metadata": {
        "id": "pBbo6zpIttpz"
      },
      "source": [
        "**EJEMPLO**"
      ]
    },
    {
      "cell_type": "code",
      "metadata": {
        "colab": {
          "base_uri": "https://localhost:8080/",
          "height": 297
        },
        "id": "RyZCLJ4otvAA",
        "outputId": "45e7afb4-bb87-45aa-ed01-46bed0c9a781"
      },
      "source": [
        "#PARA EL EJEMPLO DADO EN COEFICIENTE DE PEARSON Y P-VALOR\n",
        "E_119D"
      ],
      "execution_count": 47,
      "outputs": [
        {
          "output_type": "execute_result",
          "data": {
            "text/html": [
              "<div>\n",
              "<style scoped>\n",
              "    .dataframe tbody tr th:only-of-type {\n",
              "        vertical-align: middle;\n",
              "    }\n",
              "\n",
              "    .dataframe tbody tr th {\n",
              "        vertical-align: top;\n",
              "    }\n",
              "\n",
              "    .dataframe thead th {\n",
              "        text-align: right;\n",
              "    }\n",
              "</style>\n",
              "<table border=\"1\" class=\"dataframe\">\n",
              "  <thead>\n",
              "    <tr style=\"text-align: right;\">\n",
              "      <th></th>\n",
              "      <th>Volumen de cilindros (x)</th>\n",
              "      <th>Caballos de potencia (y)</th>\n",
              "    </tr>\n",
              "  </thead>\n",
              "  <tbody>\n",
              "    <tr>\n",
              "      <th>0</th>\n",
              "      <td>1.8</td>\n",
              "      <td>51</td>\n",
              "    </tr>\n",
              "    <tr>\n",
              "      <th>1</th>\n",
              "      <td>1.5</td>\n",
              "      <td>51</td>\n",
              "    </tr>\n",
              "    <tr>\n",
              "      <th>2</th>\n",
              "      <td>2.0</td>\n",
              "      <td>115</td>\n",
              "    </tr>\n",
              "    <tr>\n",
              "      <th>3</th>\n",
              "      <td>2.5</td>\n",
              "      <td>150</td>\n",
              "    </tr>\n",
              "    <tr>\n",
              "      <th>4</th>\n",
              "      <td>1.8</td>\n",
              "      <td>126</td>\n",
              "    </tr>\n",
              "    <tr>\n",
              "      <th>5</th>\n",
              "      <td>2.5</td>\n",
              "      <td>150</td>\n",
              "    </tr>\n",
              "    <tr>\n",
              "      <th>6</th>\n",
              "      <td>1.6</td>\n",
              "      <td>118</td>\n",
              "    </tr>\n",
              "    <tr>\n",
              "      <th>7</th>\n",
              "      <td>1.5</td>\n",
              "      <td>106</td>\n",
              "    </tr>\n",
              "  </tbody>\n",
              "</table>\n",
              "</div>"
            ],
            "text/plain": [
              "   Volumen de cilindros (x)  Caballos de potencia (y)\n",
              "0                       1.8                        51\n",
              "1                       1.5                        51\n",
              "2                       2.0                       115\n",
              "3                       2.5                       150\n",
              "4                       1.8                       126\n",
              "5                       2.5                       150\n",
              "6                       1.6                       118\n",
              "7                       1.5                       106"
            ]
          },
          "metadata": {
            "tags": []
          },
          "execution_count": 47
        }
      ]
    },
    {
      "cell_type": "code",
      "metadata": {
        "colab": {
          "base_uri": "https://localhost:8080/"
        },
        "id": "XIckaKCLt9yx",
        "outputId": "e1702c18-c4d4-4456-e508-4eaf534c655c"
      },
      "source": [
        "# ASIGNAMOS A UNA VARIABLE LinearRegression\n",
        "LR = LinearRegression()\n",
        " \n",
        "# AJUSTAMOS\n",
        "LR.fit(E_119D[['Volumen de cilindros (x)']], E_119D[['Caballos de potencia (y)']])\n",
        " \n",
        "# COEFICIENTE DE DETERMINACION\n",
        "LR.score(E_119D[['Volumen de cilindros (x)']], E_119D[['Caballos de potencia (y)']])"
      ],
      "execution_count": 49,
      "outputs": [
        {
          "output_type": "execute_result",
          "data": {
            "text/plain": [
              "0.4691576011672793"
            ]
          },
          "metadata": {
            "tags": []
          },
          "execution_count": 49
        }
      ]
    },
    {
      "cell_type": "code",
      "metadata": {
        "colab": {
          "base_uri": "https://localhost:8080/",
          "height": 483
        },
        "id": "66o7stNfuTKr",
        "outputId": "61aee807-3d1b-456f-fd29-1c0acf770399"
      },
      "source": [
        "#PARA EL EJEMPLO DE ANALISIS DE REGRESION LINEAL MULTIPLE\n",
        "DAED"
      ],
      "execution_count": 50,
      "outputs": [
        {
          "output_type": "execute_result",
          "data": {
            "text/html": [
              "<div>\n",
              "<style scoped>\n",
              "    .dataframe tbody tr th:only-of-type {\n",
              "        vertical-align: middle;\n",
              "    }\n",
              "\n",
              "    .dataframe tbody tr th {\n",
              "        vertical-align: top;\n",
              "    }\n",
              "\n",
              "    .dataframe thead th {\n",
              "        text-align: right;\n",
              "    }\n",
              "</style>\n",
              "<table border=\"1\" class=\"dataframe\">\n",
              "  <thead>\n",
              "    <tr style=\"text-align: right;\">\n",
              "      <th></th>\n",
              "      <th>x_1</th>\n",
              "      <th>x_2</th>\n",
              "      <th>y</th>\n",
              "    </tr>\n",
              "  </thead>\n",
              "  <tbody>\n",
              "    <tr>\n",
              "      <th>0</th>\n",
              "      <td>195</td>\n",
              "      <td>4.00</td>\n",
              "      <td>1004</td>\n",
              "    </tr>\n",
              "    <tr>\n",
              "      <th>1</th>\n",
              "      <td>255</td>\n",
              "      <td>4.00</td>\n",
              "      <td>1636</td>\n",
              "    </tr>\n",
              "    <tr>\n",
              "      <th>2</th>\n",
              "      <td>195</td>\n",
              "      <td>4.60</td>\n",
              "      <td>852</td>\n",
              "    </tr>\n",
              "    <tr>\n",
              "      <th>3</th>\n",
              "      <td>255</td>\n",
              "      <td>4.60</td>\n",
              "      <td>1506</td>\n",
              "    </tr>\n",
              "    <tr>\n",
              "      <th>4</th>\n",
              "      <td>255</td>\n",
              "      <td>4.20</td>\n",
              "      <td>1272</td>\n",
              "    </tr>\n",
              "    <tr>\n",
              "      <th>5</th>\n",
              "      <td>255</td>\n",
              "      <td>4.10</td>\n",
              "      <td>1270</td>\n",
              "    </tr>\n",
              "    <tr>\n",
              "      <th>6</th>\n",
              "      <td>255</td>\n",
              "      <td>4.60</td>\n",
              "      <td>1269</td>\n",
              "    </tr>\n",
              "    <tr>\n",
              "      <th>7</th>\n",
              "      <td>195</td>\n",
              "      <td>4.30</td>\n",
              "      <td>903</td>\n",
              "    </tr>\n",
              "    <tr>\n",
              "      <th>8</th>\n",
              "      <td>255</td>\n",
              "      <td>4.30</td>\n",
              "      <td>1555</td>\n",
              "    </tr>\n",
              "    <tr>\n",
              "      <th>9</th>\n",
              "      <td>255</td>\n",
              "      <td>4.00</td>\n",
              "      <td>1260</td>\n",
              "    </tr>\n",
              "    <tr>\n",
              "      <th>10</th>\n",
              "      <td>255</td>\n",
              "      <td>4.70</td>\n",
              "      <td>1146</td>\n",
              "    </tr>\n",
              "    <tr>\n",
              "      <th>11</th>\n",
              "      <td>255</td>\n",
              "      <td>4.30</td>\n",
              "      <td>1276</td>\n",
              "    </tr>\n",
              "    <tr>\n",
              "      <th>12</th>\n",
              "      <td>255</td>\n",
              "      <td>4.72</td>\n",
              "      <td>1225</td>\n",
              "    </tr>\n",
              "    <tr>\n",
              "      <th>13</th>\n",
              "      <td>340</td>\n",
              "      <td>4.30</td>\n",
              "      <td>1321</td>\n",
              "    </tr>\n",
              "  </tbody>\n",
              "</table>\n",
              "</div>"
            ],
            "text/plain": [
              "    x_1   x_2     y\n",
              "0   195  4.00  1004\n",
              "1   255  4.00  1636\n",
              "2   195  4.60   852\n",
              "3   255  4.60  1506\n",
              "4   255  4.20  1272\n",
              "5   255  4.10  1270\n",
              "6   255  4.60  1269\n",
              "7   195  4.30   903\n",
              "8   255  4.30  1555\n",
              "9   255  4.00  1260\n",
              "10  255  4.70  1146\n",
              "11  255  4.30  1276\n",
              "12  255  4.72  1225\n",
              "13  340  4.30  1321"
            ]
          },
          "metadata": {
            "tags": []
          },
          "execution_count": 50
        }
      ]
    },
    {
      "cell_type": "code",
      "metadata": {
        "colab": {
          "base_uri": "https://localhost:8080/"
        },
        "id": "yRzRJXwMubcb",
        "outputId": "e469ed71-f10c-43bc-a029-99f54d3b60d3"
      },
      "source": [
        "# ASIGNAMOS A UNA VARIABLE LinearRegression\n",
        "LR2 = LinearRegression()\n",
        " \n",
        "# AJUSTAMOS\n",
        "LR2.fit(DAED[['x_1','x_2']], DAED[['y']])\n",
        " \n",
        "# COEFICIENTE DE DETERMINACION\n",
        "LR2.score(DAED[['x_1','x_2']], DAED[['y']])"
      ],
      "execution_count": 51,
      "outputs": [
        {
          "output_type": "execute_result",
          "data": {
            "text/plain": [
              "0.4095081132638743"
            ]
          },
          "metadata": {
            "tags": []
          },
          "execution_count": 51
        }
      ]
    },
    {
      "cell_type": "code",
      "metadata": {
        "colab": {
          "base_uri": "https://localhost:8080/",
          "height": 638
        },
        "id": "QVf-OmLFup5f",
        "outputId": "4c2ccf92-3cbf-4db1-87b7-23d0ac6646e4"
      },
      "source": [
        "#PARA EL EJEMPLO DE ANALISIS DE REGRESION POLINOMIAL\n",
        "Datos"
      ],
      "execution_count": 52,
      "outputs": [
        {
          "output_type": "execute_result",
          "data": {
            "text/html": [
              "<div>\n",
              "<style scoped>\n",
              "    .dataframe tbody tr th:only-of-type {\n",
              "        vertical-align: middle;\n",
              "    }\n",
              "\n",
              "    .dataframe tbody tr th {\n",
              "        vertical-align: top;\n",
              "    }\n",
              "\n",
              "    .dataframe thead th {\n",
              "        text-align: right;\n",
              "    }\n",
              "</style>\n",
              "<table border=\"1\" class=\"dataframe\">\n",
              "  <thead>\n",
              "    <tr style=\"text-align: right;\">\n",
              "      <th></th>\n",
              "      <th>Concentracion</th>\n",
              "      <th>Resistencia</th>\n",
              "    </tr>\n",
              "  </thead>\n",
              "  <tbody>\n",
              "    <tr>\n",
              "      <th>0</th>\n",
              "      <td>1.0</td>\n",
              "      <td>6.3</td>\n",
              "    </tr>\n",
              "    <tr>\n",
              "      <th>1</th>\n",
              "      <td>1.5</td>\n",
              "      <td>11.1</td>\n",
              "    </tr>\n",
              "    <tr>\n",
              "      <th>2</th>\n",
              "      <td>2.0</td>\n",
              "      <td>20.0</td>\n",
              "    </tr>\n",
              "    <tr>\n",
              "      <th>3</th>\n",
              "      <td>3.0</td>\n",
              "      <td>24.0</td>\n",
              "    </tr>\n",
              "    <tr>\n",
              "      <th>4</th>\n",
              "      <td>4.0</td>\n",
              "      <td>26.1</td>\n",
              "    </tr>\n",
              "    <tr>\n",
              "      <th>5</th>\n",
              "      <td>4.5</td>\n",
              "      <td>30.0</td>\n",
              "    </tr>\n",
              "    <tr>\n",
              "      <th>6</th>\n",
              "      <td>5.0</td>\n",
              "      <td>33.8</td>\n",
              "    </tr>\n",
              "    <tr>\n",
              "      <th>7</th>\n",
              "      <td>5.5</td>\n",
              "      <td>34.0</td>\n",
              "    </tr>\n",
              "    <tr>\n",
              "      <th>8</th>\n",
              "      <td>6.0</td>\n",
              "      <td>38.1</td>\n",
              "    </tr>\n",
              "    <tr>\n",
              "      <th>9</th>\n",
              "      <td>6.5</td>\n",
              "      <td>39.9</td>\n",
              "    </tr>\n",
              "    <tr>\n",
              "      <th>10</th>\n",
              "      <td>7.0</td>\n",
              "      <td>42.0</td>\n",
              "    </tr>\n",
              "    <tr>\n",
              "      <th>11</th>\n",
              "      <td>8.0</td>\n",
              "      <td>46.1</td>\n",
              "    </tr>\n",
              "    <tr>\n",
              "      <th>12</th>\n",
              "      <td>9.0</td>\n",
              "      <td>53.1</td>\n",
              "    </tr>\n",
              "    <tr>\n",
              "      <th>13</th>\n",
              "      <td>10.0</td>\n",
              "      <td>52.0</td>\n",
              "    </tr>\n",
              "    <tr>\n",
              "      <th>14</th>\n",
              "      <td>11.0</td>\n",
              "      <td>52.5</td>\n",
              "    </tr>\n",
              "    <tr>\n",
              "      <th>15</th>\n",
              "      <td>12.0</td>\n",
              "      <td>48.0</td>\n",
              "    </tr>\n",
              "    <tr>\n",
              "      <th>16</th>\n",
              "      <td>13.0</td>\n",
              "      <td>42.8</td>\n",
              "    </tr>\n",
              "    <tr>\n",
              "      <th>17</th>\n",
              "      <td>14.0</td>\n",
              "      <td>27.8</td>\n",
              "    </tr>\n",
              "    <tr>\n",
              "      <th>18</th>\n",
              "      <td>15.0</td>\n",
              "      <td>21.9</td>\n",
              "    </tr>\n",
              "  </tbody>\n",
              "</table>\n",
              "</div>"
            ],
            "text/plain": [
              "    Concentracion  Resistencia\n",
              "0             1.0          6.3\n",
              "1             1.5         11.1\n",
              "2             2.0         20.0\n",
              "3             3.0         24.0\n",
              "4             4.0         26.1\n",
              "5             4.5         30.0\n",
              "6             5.0         33.8\n",
              "7             5.5         34.0\n",
              "8             6.0         38.1\n",
              "9             6.5         39.9\n",
              "10            7.0         42.0\n",
              "11            8.0         46.1\n",
              "12            9.0         53.1\n",
              "13           10.0         52.0\n",
              "14           11.0         52.5\n",
              "15           12.0         48.0\n",
              "16           13.0         42.8\n",
              "17           14.0         27.8\n",
              "18           15.0         21.9"
            ]
          },
          "metadata": {
            "tags": []
          },
          "execution_count": 52
        }
      ]
    },
    {
      "cell_type": "code",
      "metadata": {
        "colab": {
          "base_uri": "https://localhost:8080/"
        },
        "id": "LTRDYdHcuyNp",
        "outputId": "d0c1c061-9201-4919-a2eb-928217222469"
      },
      "source": [
        "# PRIMERO IMPORTAMOS\n",
        " \n",
        "import numpy as np\n",
        "from sklearn.metrics import r2_score\n",
        " \n",
        "# ESPECIFIMOS LAS X E Y\n",
        " \n",
        "f = np.polyfit(Datos['Concentracion'],Datos['Resistencia'],2)\n",
        "p = np.poly1d(f)\n",
        "r2_score(Datos['Resistencia'],p(Datos['Concentracion'])) #EL PRIMER ARGUMENTO ES LA COLUMNA X Y EL SEGUNDO ES LA VARIABLE p EVALUADA EN LA COLUMNA Y"
      ],
      "execution_count": 56,
      "outputs": [
        {
          "output_type": "execute_result",
          "data": {
            "text/plain": [
              "0.9085019647037846"
            ]
          },
          "metadata": {
            "tags": []
          },
          "execution_count": 56
        }
      ]
    }
  ]
}